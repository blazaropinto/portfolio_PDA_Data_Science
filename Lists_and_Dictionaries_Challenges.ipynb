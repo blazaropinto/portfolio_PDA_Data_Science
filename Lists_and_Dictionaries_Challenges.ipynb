{
  "nbformat": 4,
  "nbformat_minor": 0,
  "metadata": {
    "colab": {
      "name": "Copia de Copia de Lists and Dictionaries Challenges.ipynb",
      "provenance": [],
      "collapsed_sections": [],
      "include_colab_link": true
    },
    "kernelspec": {
      "name": "python3",
      "display_name": "Python 3"
    },
    "language_info": {
      "name": "python"
    }
  },
  "cells": [
    {
      "cell_type": "markdown",
      "metadata": {
        "id": "view-in-github",
        "colab_type": "text"
      },
      "source": [
        "<a href=\"https://colab.research.google.com/github/blazaropinto/PDA_Data_Analysis_Python/blob/main/Lists_and_Dictionaries_Challenges.ipynb\" target=\"_parent\"><img src=\"https://colab.research.google.com/assets/colab-badge.svg\" alt=\"Open In Colab\"/></a>"
      ]
    },
    {
      "cell_type": "markdown",
      "metadata": {
        "id": "nEJLJX3J9B2k"
      },
      "source": [
        "# Some challenges to help you become more confident with using Lists, Tuples and Dictionaries\n",
        "\n",
        "---\n",
        "\n"
      ]
    },
    {
      "cell_type": "markdown",
      "metadata": {
        "id": "JvV6htgh9Nc1"
      },
      "source": [
        "### Exercise 1 - extending a list\n",
        "\n",
        "There are three ways to extend a list in Python:  \n",
        "*  use `list_name.append(item)`, `list_name.insert(item)`\n",
        "*  concatenate two lists using the + operator (e.g. new_list = list1 + list2)\n",
        "*  use `list1_name.extend(list2_name)`\n",
        "\n",
        "The last method allows us to add all the `list2` items onto `list1` and for the new, extended list to now be `list1`.  `list2` will always be added to the end of `list1`.  \n",
        "\n",
        "If the objective is to add list2 before list1 then use `list2.extend(list1)`\n",
        "\n",
        "Write a function which will:  \n",
        "*  create a list of **years** containing the years 1960, 1970, 1980, 1990, 2000  \n",
        "*  print the list of years  \n",
        "*  calculate how long ago each year was and print the year and how long ago it was (e.g. 1990 was 30 years ago)  *(Hint:  use the datetime library to get the current year)*   \n",
        "*  create a second list, **years2** containing the years 2010 and 2020, extend `years` to include these later years\n",
        "*  create a third list, **years3** containing the years 1930, 1940 and 1950 and extend the list to include all the years between 1930 and 2020\n",
        "*  print the final list\n",
        "\n",
        "Expected output:  \n",
        "[1960, 1970, 1980, 1990]  \n",
        "1960 was 61 years ago  \n",
        "1970 was 51 years ago  \n",
        "1980 was 41 years ago  \n",
        "1990 was 31 years ago  \n",
        "2000 was 21 years ago  \n",
        "[1930, 1940, 1950, 1960, 1970, 1980, 1990, 2000, 2010, 2020] "
      ]
    },
    {
      "cell_type": "code",
      "metadata": {
        "id": "QAyTVqoO8-08",
        "colab": {
          "base_uri": "https://localhost:8080/"
        },
        "outputId": "42af90d0-96da-42cb-c18a-0b5146b76f35"
      },
      "source": [
        "from datetime import date\n",
        "\n",
        "def extend_list():\n",
        "  years = [1960, 1970, 1980, 1990, 2000]\n",
        "  print(years)\n",
        "  current_year = date.today().year\n",
        "  for year in years:\n",
        "    print(year, 'was', current_year - year, 'years ago')\n",
        "  years2 = [2010,2020]\n",
        "  years.extend(years2)\n",
        "  years3 = [1930, 1940, 1950]\n",
        "  years3.extend(years)\n",
        "  print(years3)\n",
        "\n",
        "\n",
        "extend_list()"
      ],
      "execution_count": 1,
      "outputs": [
        {
          "output_type": "stream",
          "text": [
            "[1960, 1970, 1980, 1990, 2000]\n",
            "1960 was 61 years ago\n",
            "1970 was 51 years ago\n",
            "1980 was 41 years ago\n",
            "1990 was 31 years ago\n",
            "2000 was 21 years ago\n",
            "[1930, 1940, 1950, 1960, 1970, 1980, 1990, 2000, 2010, 2020]\n"
          ],
          "name": "stdout"
        }
      ]
    },
    {
      "cell_type": "markdown",
      "metadata": {
        "id": "S5iPicFzBzOW"
      },
      "source": [
        "---\n",
        "### Exercise 2 - creating a dictionary from a tuple and three lists\n",
        "\n",
        "Write a function which will create a list of dictionary items using the values in a tuple as the dictionary keys and the values in three corresponding lists as the dictionary values.\n",
        "\n",
        "*  loop through the status items in the tuple called task_status\n",
        "*  for each status, loop through the list with the same name (*Hint:  you can use eval(status) to access the list with the matching name  e.g. for task in eval(status)* )\n",
        "*  each time round this second loop, create a dictionary object with the  key:value pair {status : task}\n",
        "*  add each new dictionary to a list called **project_board** that was created as an empty list before the loops  \n",
        "*  print the project_board list\n",
        "\n",
        "Expected output:  \n",
        "\n",
        "[{'assigned': 'task1'}, {'assigned': 'task2'}, {'assigned': 'task3'}, {'inprogress': 'task4'}, {'inprogress': 'task5'}, {'inprogress': 'task6'}, {'completed': 'task7'}, {'completed': 'task8'}, {'completed': 'task9'}] \n",
        "\n"
      ]
    },
    {
      "cell_type": "code",
      "metadata": {
        "id": "KXYOSHY-C7m4",
        "colab": {
          "base_uri": "https://localhost:8080/"
        },
        "outputId": "5bf9a799-0c8f-4cba-cc99-346dfa1c25f8"
      },
      "source": [
        "def create_project_board():\n",
        "  task_status = (\"assigned\", \"inprogress\", \"completed\")\n",
        "  assigned = ['task1','task2','task3']\n",
        "  inprogress = ['task4','task5','task6']\n",
        "  completed = ['task7','task8','task9']\n",
        "  #  add your code below here\n",
        "  project_board = []\n",
        "  for status in task_status:\n",
        "    raw_dict_status = eval(status)  # eval  have full access to all of Python’s global names when evaluating expression unless a custom dict is supplied to the argument globals, same for local names and the arg locals\n",
        "    #print(status, raw_dict_status) #check\n",
        "    for item in raw_dict_status:\n",
        "      dict_status = {}  #this has to be initialized in every loop otherwise the variable is overwriten\n",
        "      dict_status[status] = item \n",
        "      #print(dict_status) #check\n",
        "      project_board.append(dict_status)\n",
        "  print(project_board)\n",
        "\n",
        "create_project_board()"
      ],
      "execution_count": 2,
      "outputs": [
        {
          "output_type": "stream",
          "text": [
            "[{'assigned': 'task1'}, {'assigned': 'task2'}, {'assigned': 'task3'}, {'inprogress': 'task4'}, {'inprogress': 'task5'}, {'inprogress': 'task6'}, {'completed': 'task7'}, {'completed': 'task8'}, {'completed': 'task9'}]\n"
          ],
          "name": "stdout"
        }
      ]
    },
    {
      "cell_type": "code",
      "metadata": {
        "colab": {
          "base_uri": "https://localhost:8080/"
        },
        "id": "yG5DznezHnpW",
        "outputId": "f7ec6e4d-f934-4a3b-bd88-6be67e3cfc8b"
      },
      "source": [
        "help(eval)"
      ],
      "execution_count": null,
      "outputs": [
        {
          "output_type": "stream",
          "text": [
            "Help on built-in function eval in module builtins:\n",
            "\n",
            "eval(source, globals=None, locals=None, /)\n",
            "    Evaluate the given source in the context of globals and locals.\n",
            "    \n",
            "    The source may be a string representing a Python expression\n",
            "    or a code object as returned by compile().\n",
            "    The globals must be a dictionary and locals can be any mapping,\n",
            "    defaulting to the current globals and locals.\n",
            "    If only globals is given, locals defaults to it.\n",
            "\n"
          ],
          "name": "stdout"
        }
      ]
    },
    {
      "cell_type": "markdown",
      "metadata": {
        "id": "M1BuTu9p19Ma"
      },
      "source": [
        "---\n",
        "### Exercise 3 - names and heights\n",
        "\n",
        "Write a function which will allow a user to enter the names and heights of a set of people and add each set of information as a record (dictionary) to a list. The function will stop collecting names and heights when the user enters \"STOP\" as the name.\n",
        "\n",
        "Then, the function will:  \n",
        "\n",
        "*   produce a list of names in order of the shortest person to the tallest\n",
        "*   calculate the name of the tallest person\n",
        "*   calculate the name of the shortest person\n",
        "*   calculate the average height\n",
        "*   calculate the name of the person who is closest to the average height\n",
        "\n",
        "\n",
        "\n",
        "\n"
      ]
    },
    {
      "cell_type": "code",
      "metadata": {
        "id": "reuyww3e18uv",
        "colab": {
          "base_uri": "https://localhost:8080/"
        },
        "outputId": "6f07605e-9e65-443b-feef-e923a56fbc15"
      },
      "source": [
        "def names_heights():\n",
        "  '''\n",
        "  Enter the names and heights of a set of people.\n",
        "  The function will stop collecting names and heights when \"STOP\" is entered as the name\n",
        "  '''\n",
        "  final_list = []\n",
        "  heights = []\n",
        "  counter = 0\n",
        "  name = input('please enter a name: ')\n",
        "  while name != 'STOP':\n",
        "    height = int(input('please enter the corresponding height in numbers: '))\n",
        "    heights.append(height)\n",
        "    new_record = {}\n",
        "    new_record[name] = height\n",
        "    heights.sort()\n",
        "    #print(heights)\n",
        "    ind = heights.index(height)\n",
        "    final_list.insert(ind,new_record)\n",
        "    print('\\n')\n",
        "    name = input('please enter a name: ')\n",
        "  print(final_list) # check construction\n",
        "  print('\\n')\n",
        "\n",
        "  tallest_person, _ = zip(*(final_list[-1]).items())   #final_list[heights.index(max(heights))]\n",
        "  print('The name of the tallest person is: ', tallest_person[0]) \n",
        "\n",
        "  shortest_person, _ = zip(*(final_list[0]).items())\n",
        "  print('The name of the shortest person is: ',shortest_person[0])  \n",
        "\n",
        "  average_heights = round(sum(heights)/len(heights),2)\n",
        "  print('The average height is: ', average_heights)\n",
        "\n",
        "  comparison = []\n",
        "  for item in heights:\n",
        "    comparison.append((item-average_heights)**2)\n",
        "  heigh_most_similar_to_average = heights[comparison.index(min(comparison))]\n",
        "  #print(heigh_most_similar_to_average)\n",
        "  print('The name of the person who is closest to the average height is: ', end='')\n",
        "  for item in final_list:\n",
        "    for k, v in item.items():\n",
        "      if heigh_most_similar_to_average == v:\n",
        "        print(k)\n",
        "\n",
        "\n",
        "names_heights()\n"
      ],
      "execution_count": 12,
      "outputs": [
        {
          "output_type": "stream",
          "text": [
            "please enter a name: Mary\n",
            "please enter the corresponding height in numbers: 179\n",
            "\n",
            "\n",
            "please enter a name: Mike\n",
            "please enter the corresponding height in numbers: 175\n",
            "\n",
            "\n",
            "please enter a name: Laura\n",
            "please enter the corresponding height in numbers: 182\n",
            "\n",
            "\n",
            "please enter a name: STOP\n",
            "[{'Mike': 175}, {'Mary': 179}, {'Laura': 182}]\n",
            "\n",
            "\n",
            "The name of the tallest person is:  Laura\n",
            "The name of the shortest person is:  Mike\n",
            "The average height is:  178.67\n",
            "The name of the person who is closest to the average height is: Mary\n"
          ],
          "name": "stdout"
        }
      ]
    },
    {
      "cell_type": "code",
      "metadata": {
        "colab": {
          "base_uri": "https://localhost:8080/",
          "height": 52
        },
        "id": "AVOXL6pdji-q",
        "outputId": "d01df3f5-3adf-4931-9636-d813ddbb495b"
      },
      "source": [
        "# unpack a dictionary\n",
        "d = {'a':2}\n",
        "k, v = zip(*d.items())\n",
        "display(int(v[0]))\n",
        "display(k[0])"
      ],
      "execution_count": 3,
      "outputs": [
        {
          "output_type": "display_data",
          "data": {
            "text/plain": [
              "2"
            ]
          },
          "metadata": {
            "tags": []
          }
        },
        {
          "output_type": "display_data",
          "data": {
            "application/vnd.google.colaboratory.intrinsic+json": {
              "type": "string"
            },
            "text/plain": [
              "'a'"
            ]
          },
          "metadata": {
            "tags": []
          }
        }
      ]
    },
    {
      "cell_type": "code",
      "metadata": {
        "colab": {
          "base_uri": "https://localhost:8080/",
          "height": 52
        },
        "id": "FmU4dJRSbjP0",
        "outputId": "511efe75-5eff-40a6-ad6e-1285b4d24a93"
      },
      "source": [
        "d={'a':2}\n",
        "display(list(d.values())[0])\n",
        "display(list(d.keys())[0])"
      ],
      "execution_count": 8,
      "outputs": [
        {
          "output_type": "display_data",
          "data": {
            "text/plain": [
              "2"
            ]
          },
          "metadata": {
            "tags": []
          }
        },
        {
          "output_type": "display_data",
          "data": {
            "application/vnd.google.colaboratory.intrinsic+json": {
              "type": "string"
            },
            "text/plain": [
              "'a'"
            ]
          },
          "metadata": {
            "tags": []
          }
        }
      ]
    }
  ]
}