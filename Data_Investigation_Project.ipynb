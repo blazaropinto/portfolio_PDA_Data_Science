{
  "nbformat": 4,
  "nbformat_minor": 0,
  "metadata": {
    "colab": {
      "name": "Copia de Data Investigation Project.ipynb",
      "provenance": [],
      "include_colab_link": true
    },
    "kernelspec": {
      "name": "python3",
      "display_name": "Python 3"
    },
    "language_info": {
      "name": "python"
    }
  },
  "cells": [
    {
      "cell_type": "markdown",
      "metadata": {
        "id": "view-in-github",
        "colab_type": "text"
      },
      "source": [
        "<a href=\"https://colab.research.google.com/github/blazaropinto/PDA_Data_Analysis_Python/blob/main/Data_Investigation_Project.ipynb\" target=\"_parent\"><img src=\"https://colab.research.google.com/assets/colab-badge.svg\" alt=\"Open In Colab\"/></a>"
      ]
    },
    {
      "cell_type": "markdown",
      "metadata": {
        "id": "hmwPnuX3KU5t"
      },
      "source": [
        "# Data investigation project\n",
        "---\n",
        "\n",
        "Use what you have learnt so far about reading data files and displaying rows, columns, unique values, etc, to investigate and produce some printed information from this data set: https://raw.githubusercontent.com/futureCodersSE/working-with-data/main/Data%20sets/housing_in_london_yearly_variables.csv"
      ]
    },
    {
      "cell_type": "code",
      "metadata": {
        "id": "Z1q5Ven3KUEL",
        "colab": {
          "base_uri": "https://localhost:8080/",
          "height": 204
        },
        "outputId": "689082c3-098f-4891-bd9e-6983c49d2de4"
      },
      "source": [
        "import pandas as pd\n",
        "\n",
        "url = 'https://raw.githubusercontent.com/futureCodersSE/working-with-data/main/Data%20sets/housing_in_london_yearly_variables.csv'\n",
        "\n",
        "df = pd.read_csv(url)\n",
        "\n",
        "df.head(5)"
      ],
      "execution_count": 6,
      "outputs": [
        {
          "output_type": "execute_result",
          "data": {
            "text/html": [
              "<div>\n",
              "<style scoped>\n",
              "    .dataframe tbody tr th:only-of-type {\n",
              "        vertical-align: middle;\n",
              "    }\n",
              "\n",
              "    .dataframe tbody tr th {\n",
              "        vertical-align: top;\n",
              "    }\n",
              "\n",
              "    .dataframe thead th {\n",
              "        text-align: right;\n",
              "    }\n",
              "</style>\n",
              "<table border=\"1\" class=\"dataframe\">\n",
              "  <thead>\n",
              "    <tr style=\"text-align: right;\">\n",
              "      <th></th>\n",
              "      <th>code</th>\n",
              "      <th>area</th>\n",
              "      <th>date</th>\n",
              "      <th>median_salary</th>\n",
              "      <th>life_satisfaction</th>\n",
              "      <th>mean_salary</th>\n",
              "      <th>recycling_pct</th>\n",
              "      <th>population_size</th>\n",
              "      <th>number_of_jobs</th>\n",
              "      <th>area_size</th>\n",
              "      <th>no_of_houses</th>\n",
              "      <th>borough_flag</th>\n",
              "    </tr>\n",
              "  </thead>\n",
              "  <tbody>\n",
              "    <tr>\n",
              "      <th>0</th>\n",
              "      <td>E09000001</td>\n",
              "      <td>city of london</td>\n",
              "      <td>1999-12-01</td>\n",
              "      <td>33020.0</td>\n",
              "      <td>NaN</td>\n",
              "      <td>48922</td>\n",
              "      <td>0</td>\n",
              "      <td>6581.0</td>\n",
              "      <td>NaN</td>\n",
              "      <td>NaN</td>\n",
              "      <td>NaN</td>\n",
              "      <td>1</td>\n",
              "    </tr>\n",
              "    <tr>\n",
              "      <th>1</th>\n",
              "      <td>E09000002</td>\n",
              "      <td>barking and dagenham</td>\n",
              "      <td>1999-12-01</td>\n",
              "      <td>21480.0</td>\n",
              "      <td>NaN</td>\n",
              "      <td>23620</td>\n",
              "      <td>3</td>\n",
              "      <td>162444.0</td>\n",
              "      <td>NaN</td>\n",
              "      <td>NaN</td>\n",
              "      <td>NaN</td>\n",
              "      <td>1</td>\n",
              "    </tr>\n",
              "    <tr>\n",
              "      <th>2</th>\n",
              "      <td>E09000003</td>\n",
              "      <td>barnet</td>\n",
              "      <td>1999-12-01</td>\n",
              "      <td>19568.0</td>\n",
              "      <td>NaN</td>\n",
              "      <td>23128</td>\n",
              "      <td>8</td>\n",
              "      <td>313469.0</td>\n",
              "      <td>NaN</td>\n",
              "      <td>NaN</td>\n",
              "      <td>NaN</td>\n",
              "      <td>1</td>\n",
              "    </tr>\n",
              "    <tr>\n",
              "      <th>3</th>\n",
              "      <td>E09000004</td>\n",
              "      <td>bexley</td>\n",
              "      <td>1999-12-01</td>\n",
              "      <td>18621.0</td>\n",
              "      <td>NaN</td>\n",
              "      <td>21386</td>\n",
              "      <td>18</td>\n",
              "      <td>217458.0</td>\n",
              "      <td>NaN</td>\n",
              "      <td>NaN</td>\n",
              "      <td>NaN</td>\n",
              "      <td>1</td>\n",
              "    </tr>\n",
              "    <tr>\n",
              "      <th>4</th>\n",
              "      <td>E09000005</td>\n",
              "      <td>brent</td>\n",
              "      <td>1999-12-01</td>\n",
              "      <td>18532.0</td>\n",
              "      <td>NaN</td>\n",
              "      <td>20911</td>\n",
              "      <td>6</td>\n",
              "      <td>260317.0</td>\n",
              "      <td>NaN</td>\n",
              "      <td>NaN</td>\n",
              "      <td>NaN</td>\n",
              "      <td>1</td>\n",
              "    </tr>\n",
              "  </tbody>\n",
              "</table>\n",
              "</div>"
            ],
            "text/plain": [
              "        code                  area  ... no_of_houses  borough_flag\n",
              "0  E09000001        city of london  ...          NaN             1\n",
              "1  E09000002  barking and dagenham  ...          NaN             1\n",
              "2  E09000003                barnet  ...          NaN             1\n",
              "3  E09000004                bexley  ...          NaN             1\n",
              "4  E09000005                 brent  ...          NaN             1\n",
              "\n",
              "[5 rows x 12 columns]"
            ]
          },
          "metadata": {
            "tags": []
          },
          "execution_count": 6
        }
      ]
    },
    {
      "cell_type": "markdown",
      "metadata": {
        "id": "n2ZIwjDdxaBa"
      },
      "source": [
        "Create a function to get aa list of the unique values and its length, as a tuple, for the column passed as an argument. Then use it to print the number of unique values and the first 4 values for each column of the dataframe if the number of values is less than 10% of the records in the dataframe."
      ]
    },
    {
      "cell_type": "code",
      "metadata": {
        "colab": {
          "base_uri": "https://localhost:8080/"
        },
        "id": "5WUqh2w3sdJ_",
        "outputId": "568fa288-7356-4874-8db3-fc2662ae93c3"
      },
      "source": [
        "def col_unique_values(col):\n",
        "  list_unique = df[col].unique()\n",
        "  n_unique = len(list_unique)\n",
        "  return list_unique, n_unique\n",
        "\n",
        "\n",
        "for col in df.columns:\n",
        "  value_tuple = col_unique_values(col)\n",
        "  if value_tuple[1] < 0.1 * df.shape[0]:\n",
        "    print('Column name', col, 'has', value_tuple[1], 'different values')\n",
        "    for val in value_tuple[0][:5]:\n",
        "      print(val) \n",
        "    print('\\n')"
      ],
      "execution_count": 10,
      "outputs": [
        {
          "output_type": "stream",
          "text": [
            "Column name code has 51 different values\n",
            "E09000001\n",
            "E09000002\n",
            "E09000003\n",
            "E09000004\n",
            "E09000005\n",
            "\n",
            "\n",
            "Column name area has 51 different values\n",
            "city of london\n",
            "barking and dagenham\n",
            "barnet\n",
            "bexley\n",
            "brent\n",
            "\n",
            "\n",
            "Column name date has 21 different values\n",
            "1999-12-01\n",
            "2000-12-01\n",
            "2001-12-01\n",
            "2002-12-01\n",
            "2003-12-01\n",
            "\n",
            "\n",
            "Column name life_satisfaction has 83 different values\n",
            "nan\n",
            "7.05\n",
            "7.43\n",
            "7.42\n",
            "7.11\n",
            "\n",
            "\n",
            "Column name recycling_pct has 58 different values\n",
            "0\n",
            "3\n",
            "8\n",
            "18\n",
            "6\n",
            "\n",
            "\n",
            "Column name area_size has 38 different values\n",
            "nan\n",
            "315.0\n",
            "3780.0\n",
            "8675.0\n",
            "6429.0\n",
            "\n",
            "\n",
            "Column name borough_flag has 2 different values\n",
            "1\n",
            "0\n",
            "\n",
            "\n"
          ],
          "name": "stdout"
        }
      ]
    },
    {
      "cell_type": "markdown",
      "metadata": {
        "id": "_F-eN74d2DgO"
      },
      "source": [
        "Get the **mean population** for each area\n",
        "\n"
      ]
    },
    {
      "cell_type": "code",
      "metadata": {
        "colab": {
          "base_uri": "https://localhost:8080/"
        },
        "id": "u-NISWjq2E7N",
        "outputId": "da8f0f09-8eec-4598-fa18-3eb1d5698765"
      },
      "source": [
        "for area in df.area.unique():\n",
        "  print(area, ':', round(df[df.area == area].population_size.mean(), 1))"
      ],
      "execution_count": 18,
      "outputs": [
        {
          "output_type": "stream",
          "text": [
            "city of london : 7597.8\n",
            "barking and dagenham : 181344.2\n",
            "barnet : 347784.2\n",
            "bexley : 229733.7\n",
            "brent : 295151.2\n",
            "bromley : 308856.3\n",
            "camden : 219415.7\n",
            "croydon : 355372.5\n",
            "ealing : 325586.3\n",
            "enfield : 302169.4\n",
            "greenwich : 246124.3\n",
            "hackney : 236760.4\n",
            "hammersmith and fulham : 175965.0\n",
            "haringey : 246020.7\n",
            "harrow : 230408.9\n",
            "havering : 236010.1\n",
            "hillingdon : 269174.7\n",
            "hounslow : 241772.0\n",
            "islington : 200492.7\n",
            "kensington and chelsea : 159658.1\n",
            "kingston upon thames : 159309.1\n",
            "lambeth : 295154.7\n",
            "lewisham : 271949.6\n",
            "merton : 196748.1\n",
            "newham : 289119.7\n",
            "redbridge : 269373.6\n",
            "richmond upon thames : 184840.2\n",
            "southwark : 280339.0\n",
            "sutton : 189319.4\n",
            "tower hamlets : 244909.3\n",
            "waltham forest : 246499.7\n",
            "wandsworth : 295577.5\n",
            "westminster : 221786.6\n",
            "north east : 2582039.8\n",
            "north west : 6987323.3\n",
            "yorkshire and the humber : 5176862.7\n",
            "east midlands : 4455858.7\n",
            "west midlands : 5529304.0\n",
            "east : 5746916.1\n",
            "london : 7960324.8\n",
            "south east : 8489419.6\n",
            "south west : 5220982.3\n",
            "inner london : 3144746.8\n",
            "outer london : 4815578.0\n",
            "england : 52177832.4\n",
            "united kingdom : 62198313.6\n",
            "great britain : 60420712.4\n",
            "england and wales : 55197832.9\n",
            "northern ireland : 1777577.1\n",
            "scotland : 5222879.5\n",
            "wales : 3020000.5\n"
          ],
          "name": "stdout"
        }
      ]
    }
  ]
}