{
  "nbformat": 4,
  "nbformat_minor": 0,
  "metadata": {
    "colab": {
      "name": "Performing_statistical_methods.ipynb",
      "provenance": [],
      "authorship_tag": "ABX9TyP9Qcen9ch/7IE6z0XBo3Bh",
      "include_colab_link": true
    },
    "kernelspec": {
      "name": "python3",
      "display_name": "Python 3"
    },
    "language_info": {
      "name": "python"
    }
  },
  "cells": [
    {
      "cell_type": "markdown",
      "metadata": {
        "id": "view-in-github",
        "colab_type": "text"
      },
      "source": [
        "<a href=\"https://colab.research.google.com/github/blazaropinto/portfolio_PDA_Data_Science/blob/development/Performing_statistical_methods.ipynb\" target=\"_parent\"><img src=\"https://colab.research.google.com/assets/colab-badge.svg\" alt=\"Open In Colab\"/></a>"
      ]
    },
    {
      "cell_type": "markdown",
      "metadata": {
        "id": "YXpVrMwSHgeX"
      },
      "source": [
        "# Finding measures of central tendency (max, min, mean, median) and the standard deviation"
      ]
    },
    {
      "cell_type": "markdown",
      "metadata": {
        "id": "giXsXFPq14Lm"
      },
      "source": [
        "### Group by state and calculate statistics\n",
        "\n",
        "Run the function get_income_df() and store the result in a new dataframe called **income_df**.\n",
        "\n",
        "Group income_df by State and calculate some statistics on the groups. Calculate the same statistics without grouping to compare.\n",
        "\n",
        "Add a description, in the cell below, of what the statistics show and why in the text box."
      ]
    },
    {
      "cell_type": "code",
      "metadata": {
        "id": "s6qHNDn-YN0i"
      },
      "source": [
        "import pandas as pd\n",
        "\n",
        "excel_url = 'https://github.com/futureCodersSE/working-with-data/blob/main/Data%20sets/Income-Data.xlsx?raw=true'"
      ],
      "execution_count": 16,
      "outputs": []
    },
    {
      "cell_type": "code",
      "metadata": {
        "id": "hIE8uGK1t50_"
      },
      "source": [
        "def get_income_df(excelfile_url):\n",
        "  county_level_df = pd.read_excel(excelfile_url, sheet_name='county-level')\n",
        "  state_level_df = pd.read_excel(excelfile_url, sheet_name='state-level')\n",
        "  income_new_df = pd.read_excel(excelfile_url, sheet_name='income')\n",
        "\n",
        "  county_level_df['Pop']= county_level_df.Population\n",
        "  county_level_df.drop('Population', axis=1, inplace=True)\n",
        "  state_level_df.Pop = round((state_level_df.Pop / 1000), 0).astype(int)\n",
        "\n",
        "  combined_df = pd.concat([county_level_df, state_level_df], ignore_index=True, join='inner')\n",
        "  final_df = combined_df.append(income_new_df)\n",
        "  final_df.sort_values('Pop', ascending=False, inplace=True)    # sort by 'Pop' to get the output above\n",
        "\n",
        "  return final_df"
      ],
      "execution_count": 17,
      "outputs": []
    },
    {
      "cell_type": "code",
      "metadata": {
        "id": "Ou9dt0MR56S3",
        "colab": {
          "base_uri": "https://localhost:8080/",
          "height": 283
        },
        "outputId": "fbb40a21-ea4f-45d1-aa5a-3cae12dacfaa"
      },
      "source": [
        "income_df = get_income_df(excel_url)\n",
        "income_df.groupby('State').agg(['min', 'mean', 'median', 'max', 'var', 'std', 'skew']).round(2)"
      ],
      "execution_count": 19,
      "outputs": [
        {
          "output_type": "execute_result",
          "data": {
            "text/html": [
              "<div>\n",
              "<style scoped>\n",
              "    .dataframe tbody tr th:only-of-type {\n",
              "        vertical-align: middle;\n",
              "    }\n",
              "\n",
              "    .dataframe tbody tr th {\n",
              "        vertical-align: top;\n",
              "    }\n",
              "\n",
              "    .dataframe thead tr th {\n",
              "        text-align: left;\n",
              "    }\n",
              "\n",
              "    .dataframe thead tr:last-of-type th {\n",
              "        text-align: right;\n",
              "    }\n",
              "</style>\n",
              "<table border=\"1\" class=\"dataframe\">\n",
              "  <thead>\n",
              "    <tr>\n",
              "      <th></th>\n",
              "      <th colspan=\"7\" halign=\"left\">Age</th>\n",
              "      <th colspan=\"7\" halign=\"left\">Income</th>\n",
              "      <th colspan=\"7\" halign=\"left\">Pop</th>\n",
              "    </tr>\n",
              "    <tr>\n",
              "      <th></th>\n",
              "      <th>min</th>\n",
              "      <th>mean</th>\n",
              "      <th>median</th>\n",
              "      <th>max</th>\n",
              "      <th>var</th>\n",
              "      <th>std</th>\n",
              "      <th>skew</th>\n",
              "      <th>min</th>\n",
              "      <th>mean</th>\n",
              "      <th>median</th>\n",
              "      <th>max</th>\n",
              "      <th>var</th>\n",
              "      <th>std</th>\n",
              "      <th>skew</th>\n",
              "      <th>min</th>\n",
              "      <th>mean</th>\n",
              "      <th>median</th>\n",
              "      <th>max</th>\n",
              "      <th>var</th>\n",
              "      <th>std</th>\n",
              "      <th>skew</th>\n",
              "    </tr>\n",
              "    <tr>\n",
              "      <th>State</th>\n",
              "      <th></th>\n",
              "      <th></th>\n",
              "      <th></th>\n",
              "      <th></th>\n",
              "      <th></th>\n",
              "      <th></th>\n",
              "      <th></th>\n",
              "      <th></th>\n",
              "      <th></th>\n",
              "      <th></th>\n",
              "      <th></th>\n",
              "      <th></th>\n",
              "      <th></th>\n",
              "      <th></th>\n",
              "      <th></th>\n",
              "      <th></th>\n",
              "      <th></th>\n",
              "      <th></th>\n",
              "      <th></th>\n",
              "      <th></th>\n",
              "      <th></th>\n",
              "    </tr>\n",
              "  </thead>\n",
              "  <tbody>\n",
              "    <tr>\n",
              "      <th>CA</th>\n",
              "      <td>29</td>\n",
              "      <td>33.00</td>\n",
              "      <td>35</td>\n",
              "      <td>35</td>\n",
              "      <td>12.00</td>\n",
              "      <td>3.46</td>\n",
              "      <td>-1.73</td>\n",
              "      <td>54</td>\n",
              "      <td>66.33</td>\n",
              "      <td>67</td>\n",
              "      <td>78</td>\n",
              "      <td>144.33</td>\n",
              "      <td>12.01</td>\n",
              "      <td>-0.25</td>\n",
              "      <td>10</td>\n",
              "      <td>31.33</td>\n",
              "      <td>30</td>\n",
              "      <td>54</td>\n",
              "      <td>485.33</td>\n",
              "      <td>22.03</td>\n",
              "      <td>0.27</td>\n",
              "    </tr>\n",
              "    <tr>\n",
              "      <th>IN</th>\n",
              "      <td>32</td>\n",
              "      <td>38.00</td>\n",
              "      <td>41</td>\n",
              "      <td>41</td>\n",
              "      <td>27.00</td>\n",
              "      <td>5.20</td>\n",
              "      <td>-1.73</td>\n",
              "      <td>35</td>\n",
              "      <td>46.33</td>\n",
              "      <td>35</td>\n",
              "      <td>69</td>\n",
              "      <td>385.33</td>\n",
              "      <td>19.63</td>\n",
              "      <td>1.73</td>\n",
              "      <td>5</td>\n",
              "      <td>17.33</td>\n",
              "      <td>23</td>\n",
              "      <td>24</td>\n",
              "      <td>114.33</td>\n",
              "      <td>10.69</td>\n",
              "      <td>-1.72</td>\n",
              "    </tr>\n",
              "    <tr>\n",
              "      <th>MD</th>\n",
              "      <td>22</td>\n",
              "      <td>28.08</td>\n",
              "      <td>27</td>\n",
              "      <td>41</td>\n",
              "      <td>27.08</td>\n",
              "      <td>5.20</td>\n",
              "      <td>1.32</td>\n",
              "      <td>22</td>\n",
              "      <td>64.23</td>\n",
              "      <td>69</td>\n",
              "      <td>81</td>\n",
              "      <td>286.69</td>\n",
              "      <td>16.93</td>\n",
              "      <td>-1.83</td>\n",
              "      <td>5</td>\n",
              "      <td>44.38</td>\n",
              "      <td>34</td>\n",
              "      <td>98</td>\n",
              "      <td>951.42</td>\n",
              "      <td>30.85</td>\n",
              "      <td>0.55</td>\n",
              "    </tr>\n",
              "    <tr>\n",
              "      <th>NY</th>\n",
              "      <td>29</td>\n",
              "      <td>32.33</td>\n",
              "      <td>34</td>\n",
              "      <td>34</td>\n",
              "      <td>8.33</td>\n",
              "      <td>2.89</td>\n",
              "      <td>-1.73</td>\n",
              "      <td>67</td>\n",
              "      <td>74.33</td>\n",
              "      <td>78</td>\n",
              "      <td>78</td>\n",
              "      <td>40.33</td>\n",
              "      <td>6.35</td>\n",
              "      <td>-1.73</td>\n",
              "      <td>7</td>\n",
              "      <td>12.00</td>\n",
              "      <td>11</td>\n",
              "      <td>18</td>\n",
              "      <td>31.00</td>\n",
              "      <td>5.57</td>\n",
              "      <td>0.78</td>\n",
              "    </tr>\n",
              "    <tr>\n",
              "      <th>TX</th>\n",
              "      <td>23</td>\n",
              "      <td>34.18</td>\n",
              "      <td>35</td>\n",
              "      <td>42</td>\n",
              "      <td>37.96</td>\n",
              "      <td>6.16</td>\n",
              "      <td>-0.54</td>\n",
              "      <td>45</td>\n",
              "      <td>59.45</td>\n",
              "      <td>62</td>\n",
              "      <td>75</td>\n",
              "      <td>93.47</td>\n",
              "      <td>9.67</td>\n",
              "      <td>-0.11</td>\n",
              "      <td>5</td>\n",
              "      <td>39.18</td>\n",
              "      <td>28</td>\n",
              "      <td>82</td>\n",
              "      <td>678.56</td>\n",
              "      <td>26.05</td>\n",
              "      <td>0.51</td>\n",
              "    </tr>\n",
              "  </tbody>\n",
              "</table>\n",
              "</div>"
            ],
            "text/plain": [
              "      Age                                 ...    Pop                                \n",
              "      min   mean median max    var   std  ...   mean median max     var    std  skew\n",
              "State                                     ...                                       \n",
              "CA     29  33.00     35  35  12.00  3.46  ...  31.33     30  54  485.33  22.03  0.27\n",
              "IN     32  38.00     41  41  27.00  5.20  ...  17.33     23  24  114.33  10.69 -1.72\n",
              "MD     22  28.08     27  41  27.08  5.20  ...  44.38     34  98  951.42  30.85  0.55\n",
              "NY     29  32.33     34  34   8.33  2.89  ...  12.00     11  18   31.00   5.57  0.78\n",
              "TX     23  34.18     35  42  37.96  6.16  ...  39.18     28  82  678.56  26.05  0.51\n",
              "\n",
              "[5 rows x 21 columns]"
            ]
          },
          "metadata": {
            "tags": []
          },
          "execution_count": 19
        }
      ]
    },
    {
      "cell_type": "code",
      "metadata": {
        "colab": {
          "base_uri": "https://localhost:8080/",
          "height": 235
        },
        "id": "R5eQVgP7FjHu",
        "outputId": "098d1aa1-0d36-4366-a9f9-e8cb71439869"
      },
      "source": [
        "income_df[['Age',\t'Income', 'Pop']].agg(['min', 'mean', 'median', 'max', 'std', 'skew']).round(2) "
      ],
      "execution_count": null,
      "outputs": [
        {
          "output_type": "execute_result",
          "data": {
            "text/html": [
              "<div>\n",
              "<style scoped>\n",
              "    .dataframe tbody tr th:only-of-type {\n",
              "        vertical-align: middle;\n",
              "    }\n",
              "\n",
              "    .dataframe tbody tr th {\n",
              "        vertical-align: top;\n",
              "    }\n",
              "\n",
              "    .dataframe thead th {\n",
              "        text-align: right;\n",
              "    }\n",
              "</style>\n",
              "<table border=\"1\" class=\"dataframe\">\n",
              "  <thead>\n",
              "    <tr style=\"text-align: right;\">\n",
              "      <th></th>\n",
              "      <th>Age</th>\n",
              "      <th>Income</th>\n",
              "      <th>Pop</th>\n",
              "    </tr>\n",
              "  </thead>\n",
              "  <tbody>\n",
              "    <tr>\n",
              "      <th>min</th>\n",
              "      <td>22.00</td>\n",
              "      <td>22.00</td>\n",
              "      <td>5.00</td>\n",
              "    </tr>\n",
              "    <tr>\n",
              "      <th>mean</th>\n",
              "      <td>31.85</td>\n",
              "      <td>62.12</td>\n",
              "      <td>36.06</td>\n",
              "    </tr>\n",
              "    <tr>\n",
              "      <th>median</th>\n",
              "      <td>32.00</td>\n",
              "      <td>66.00</td>\n",
              "      <td>27.00</td>\n",
              "    </tr>\n",
              "    <tr>\n",
              "      <th>max</th>\n",
              "      <td>42.00</td>\n",
              "      <td>81.00</td>\n",
              "      <td>98.00</td>\n",
              "    </tr>\n",
              "    <tr>\n",
              "      <th>std</th>\n",
              "      <td>6.03</td>\n",
              "      <td>14.68</td>\n",
              "      <td>27.00</td>\n",
              "    </tr>\n",
              "    <tr>\n",
              "      <th>skew</th>\n",
              "      <td>0.13</td>\n",
              "      <td>-1.10</td>\n",
              "      <td>0.85</td>\n",
              "    </tr>\n",
              "  </tbody>\n",
              "</table>\n",
              "</div>"
            ],
            "text/plain": [
              "          Age  Income    Pop\n",
              "min     22.00   22.00   5.00\n",
              "mean    31.85   62.12  36.06\n",
              "median  32.00   66.00  27.00\n",
              "max     42.00   81.00  98.00\n",
              "std      6.03   14.68  27.00\n",
              "skew     0.13   -1.10   0.85"
            ]
          },
          "metadata": {
            "tags": []
          },
          "execution_count": 81
        }
      ]
    },
    {
      "cell_type": "markdown",
      "metadata": {
        "id": "AqpdKHsBB_U-"
      },
      "source": [
        "The **statistics** shown above give an idea of the distributions of the data and allow us to get some ideas:\n",
        "\n",
        "* the data gathered in all states correspond to a not very spread age range (all data seem to correspond to professionals around the first 20 years of their working life).\n",
        "    * the people in the dataset seem to be a bit older in IN (most around 40 years old).\n",
        "    * the largest distribution and the lower average of age within this data is in MD.\n",
        "    * CA, IN and NY have a low proportion of younger people (all three distributions are highly skewed) and none under 29 years old. \n",
        "    * the age distribution in MD is also highly skewed towards the other end.\n",
        "* the income earned by these NY workers is almost double the income of the part of the dataset corresponding to IN, looking at all main statistics. The latter state has the higher variety in income figures.\n",
        "* 'Pop' is higher in CA and MD, with a roughly doubled variance in the latter state.\n"
      ]
    },
    {
      "cell_type": "markdown",
      "metadata": {
        "id": "FVK32xtBHgux"
      },
      "source": [
        "# Performing a linear regression\n",
        "\n"
      ]
    },
    {
      "cell_type": "markdown",
      "metadata": {
        "id": "A60PQ510HHMQ"
      },
      "source": [
        "### Is age closely related to income?\n",
        "---\n",
        "\n",
        "Use linear regression to compare the columns 'Age' and 'Income' in the data set 'Income-Data' at this url:  \n",
        "https://github.com/futureCodersSE/working-with-data/blob/main/Data%20sets/Income-Data.xlsx?raw=true  \n",
        "\n",
        "To do this:\n",
        "*  import the pandas library  \n",
        "\n",
        "\n",
        "*  import the **linregress** function from the library **scipy.stats**  (`from scipy.stats import linregress`)  \n",
        "\n",
        "\n",
        "*  open the Excel file at the url above, using the sheet_name '`county-level`', reading the data into a dataframe called **county_level_df**  \n",
        "\n",
        "\n",
        "*  create a variable called **x** and assign the '`Age`' column of the `county_level_df` dataframe   \n",
        "\n",
        "\n",
        "*  create a variable called **y** and assign the '`Income`' column of the `county_level_df` dataframe   \n",
        "\n",
        "\n",
        "*  create a variable called **regression** and assign the result of running the linregress function with `x`, `y` as its parameters ( `linregress(x,y)` )   \n",
        "\n",
        "\n",
        "*  display the regression  \n",
        "(*Expected output:  LinregressResult(slope=-0.31433084434233205, intercept=72.78388856978748, rvalue=-0.14787411576068246, pvalue=0.5581637648902298, stderr=0.5255739814332189*)  \n",
        "\n",
        "\n",
        "*  display the slope (`regression.slope`)  \n",
        "(*Expected output: -0.31433084434233205 - this indicates that the line plotting Age against Income slopes downward implying that income reduces with age*)  \n",
        "\n",
        "\n",
        "*  display the intercept (`regression.intercept`)  \n",
        "(*Expected output: 72.78388856978748 - this indicates that income level starts at 72.78388856978748 and reduces from there by age*)    \n",
        "\n",
        "\n",
        "*  calculate and display **r_squared** from rvalue (`regression.rvalue`)  \n",
        "(*Expected output:  0.021866754112003717 - this value is used to calculate R squared, the correlation coefficient which indicates how closely the that there is a very weak correlation between Age and Income.  The negative value of rvalue indicates that any correlation is inverse, ie as Age goes up, Income goes down*) "
      ]
    },
    {
      "cell_type": "code",
      "metadata": {
        "id": "B7-yqi8n4Z3s",
        "colab": {
          "base_uri": "https://localhost:8080/",
          "height": 202
        },
        "outputId": "e735ea39-4821-4b49-ea08-9be83fbe12ae"
      },
      "source": [
        "import pandas as pd\n",
        "from scipy.stats import linregress\n",
        "\n",
        "url=\"https://github.com/futureCodersSE/working-with-data/blob/main/Data%20sets/Income-Data.xlsx?raw=true\"\n",
        "county_level_df = pd.read_excel(url, sheet_name = \"county-level\")\n",
        "county_level_df.head()"
      ],
      "execution_count": 20,
      "outputs": [
        {
          "output_type": "execute_result",
          "data": {
            "text/html": [
              "<div>\n",
              "<style scoped>\n",
              "    .dataframe tbody tr th:only-of-type {\n",
              "        vertical-align: middle;\n",
              "    }\n",
              "\n",
              "    .dataframe tbody tr th {\n",
              "        vertical-align: top;\n",
              "    }\n",
              "\n",
              "    .dataframe thead th {\n",
              "        text-align: right;\n",
              "    }\n",
              "</style>\n",
              "<table border=\"1\" class=\"dataframe\">\n",
              "  <thead>\n",
              "    <tr style=\"text-align: right;\">\n",
              "      <th></th>\n",
              "      <th>State</th>\n",
              "      <th>County</th>\n",
              "      <th>Population</th>\n",
              "      <th>Age</th>\n",
              "      <th>Income</th>\n",
              "    </tr>\n",
              "  </thead>\n",
              "  <tbody>\n",
              "    <tr>\n",
              "      <th>0</th>\n",
              "      <td>TX</td>\n",
              "      <td>1</td>\n",
              "      <td>72</td>\n",
              "      <td>34</td>\n",
              "      <td>65</td>\n",
              "    </tr>\n",
              "    <tr>\n",
              "      <th>1</th>\n",
              "      <td>TX</td>\n",
              "      <td>2</td>\n",
              "      <td>33</td>\n",
              "      <td>42</td>\n",
              "      <td>45</td>\n",
              "    </tr>\n",
              "    <tr>\n",
              "      <th>2</th>\n",
              "      <td>TX</td>\n",
              "      <td>5</td>\n",
              "      <td>25</td>\n",
              "      <td>23</td>\n",
              "      <td>46</td>\n",
              "    </tr>\n",
              "    <tr>\n",
              "      <th>3</th>\n",
              "      <td>TX</td>\n",
              "      <td>6</td>\n",
              "      <td>54</td>\n",
              "      <td>36</td>\n",
              "      <td>65</td>\n",
              "    </tr>\n",
              "    <tr>\n",
              "      <th>4</th>\n",
              "      <td>TX</td>\n",
              "      <td>7</td>\n",
              "      <td>11</td>\n",
              "      <td>42</td>\n",
              "      <td>53</td>\n",
              "    </tr>\n",
              "  </tbody>\n",
              "</table>\n",
              "</div>"
            ],
            "text/plain": [
              "  State  County  Population  Age  Income\n",
              "0    TX       1          72   34      65\n",
              "1    TX       2          33   42      45\n",
              "2    TX       5          25   23      46\n",
              "3    TX       6          54   36      65\n",
              "4    TX       7          11   42      53"
            ]
          },
          "metadata": {
            "tags": []
          },
          "execution_count": 20
        }
      ]
    },
    {
      "cell_type": "code",
      "metadata": {
        "colab": {
          "base_uri": "https://localhost:8080/",
          "height": 107
        },
        "id": "uEdqnYt6DKpu",
        "outputId": "b134fcfb-ae4f-43bd-ffce-e77e7a580005"
      },
      "source": [
        "# complete the lines of code (reference the instructions above)\n",
        "x = county_level_df.Age\n",
        "y = county_level_df.Income\n",
        "regression = linregress(x,y)\n",
        "# display the regression\n",
        "display(regression)\n",
        "# display the slope\n",
        "display(regression.slope)\n",
        "# display the intercept\n",
        "display(regression.intercept)\n",
        "# calculate and display r_squared\n",
        "r_squared = regression.rvalue ** 2\n",
        "display(r_squared)"
      ],
      "execution_count": 21,
      "outputs": [
        {
          "output_type": "display_data",
          "data": {
            "text/plain": [
              "LinregressResult(slope=-0.31433084434233205, intercept=72.78388856978748, rvalue=-0.14787411576068246, pvalue=0.5581637648902298, stderr=0.5255739814332189)"
            ]
          },
          "metadata": {
            "tags": []
          }
        },
        {
          "output_type": "display_data",
          "data": {
            "text/plain": [
              "-0.31433084434233205"
            ]
          },
          "metadata": {
            "tags": []
          }
        },
        {
          "output_type": "display_data",
          "data": {
            "text/plain": [
              "72.78388856978748"
            ]
          },
          "metadata": {
            "tags": []
          }
        },
        {
          "output_type": "display_data",
          "data": {
            "text/plain": [
              "0.021866754112003717"
            ]
          },
          "metadata": {
            "tags": []
          }
        }
      ]
    },
    {
      "cell_type": "markdown",
      "metadata": {
        "id": "AXiD7hVyQEe9"
      },
      "source": [
        "### Could Population predict Income?  \n",
        "---\n",
        "\n",
        "Repeat the steps in exercise 1 to see if there is a clearer correlation between Population and Income.  \n",
        "\n",
        "Add a statement in the text cell to describe your findings.\n",
        "\n",
        "**Test output**:   \n",
        "0.013558605755058871\n"
      ]
    },
    {
      "cell_type": "code",
      "metadata": {
        "id": "S349ZIiIQSvy",
        "colab": {
          "base_uri": "https://localhost:8080/",
          "height": 34
        },
        "outputId": "05fd68b1-1159-49db-ac39-f9672c01d355"
      },
      "source": [
        "regression_pop_inc = linregress(county_level_df.Population, county_level_df.Income)\n",
        "display(regression_pop_inc.rvalue ** 2)"
      ],
      "execution_count": 22,
      "outputs": [
        {
          "output_type": "display_data",
          "data": {
            "text/plain": [
              "0.013558605755058871"
            ]
          },
          "metadata": {
            "tags": []
          }
        }
      ]
    },
    {
      "cell_type": "markdown",
      "metadata": {
        "id": "KHLucNuAXiyJ"
      },
      "source": [
        "--> Those variables seem to have no correlation (or very low)"
      ]
    },
    {
      "cell_type": "markdown",
      "metadata": {
        "id": "zZXvmsL2SbA-"
      },
      "source": [
        "### Does Stress predict Wellbeing?\n",
        "---\n",
        "\n",
        "Repeat the steps in th previous exercises to see if you can find a statistically significant result.\n",
        "\n",
        "Add a statement in the text cell to describe your findings\n",
        "\n",
        "* Read the dataset: \"https://github.com/lilaceri/Working-with-data-/blob/b157a2feceb7709cf82426932385706d65446270/Data%20Sets%20for%20code%20divisio/Positive_Psychology_2017.csv?raw=true\"\n",
        "\n",
        "* perform linear regression  \n",
        "* look at r_squared and pvalue to get an idea of how predictive and significant these variables are\n",
        "\n",
        "* save slope and intercepts in variables for later \n",
        "\n",
        "Challenge:  \n",
        "Write a function that checks the significance of a regression and displays a message indicating the result.\n",
        "\n",
        "**Test output**:  \n",
        "LinregressResult(slope=-0.6279050248852254, intercept=37.713488379900454, rvalue=-0.6713959740851134, pvalue=6.084540561441803e-07, stderr=0.10694652962765022)  \n",
        "r sqr = 0.4507725540176983  \n",
        "model is significant, p < .05:  6.084540561441803e-07  "
      ]
    },
    {
      "cell_type": "code",
      "metadata": {
        "id": "pbZf_2dITkqX",
        "colab": {
          "base_uri": "https://localhost:8080/",
          "height": 261
        },
        "outputId": "0e8d41aa-e575-4bad-fd08-555d19791006"
      },
      "source": [
        "url_pos_p = 'https://github.com/lilaceri/Working-with-data-/blob/b157a2feceb7709cf82426932385706d65446270/Data%20Sets%20for%20code%20divisio/Positive_Psychology_2017.csv?raw=true%22'\n",
        "\n",
        "new_df = pd.read_csv(url_pos_p)\n",
        "new_df.head(3)"
      ],
      "execution_count": 26,
      "outputs": [
        {
          "output_type": "execute_result",
          "data": {
            "text/html": [
              "<div>\n",
              "<style scoped>\n",
              "    .dataframe tbody tr th:only-of-type {\n",
              "        vertical-align: middle;\n",
              "    }\n",
              "\n",
              "    .dataframe tbody tr th {\n",
              "        vertical-align: top;\n",
              "    }\n",
              "\n",
              "    .dataframe thead th {\n",
              "        text-align: right;\n",
              "    }\n",
              "</style>\n",
              "<table border=\"1\" class=\"dataframe\">\n",
              "  <thead>\n",
              "    <tr style=\"text-align: right;\">\n",
              "      <th></th>\n",
              "      <th>Age</th>\n",
              "      <th>English</th>\n",
              "      <th>firstlanguage</th>\n",
              "      <th>sex</th>\n",
              "      <th>origin</th>\n",
              "      <th>Ukresidence</th>\n",
              "      <th>MAAS</th>\n",
              "      <th>Resilliance</th>\n",
              "      <th>Wellbeing</th>\n",
              "      <th>Stress</th>\n",
              "      <th>selfesteem</th>\n",
              "      <th>LoC</th>\n",
              "      <th>sleep</th>\n",
              "      <th>Year</th>\n",
              "    </tr>\n",
              "  </thead>\n",
              "  <tbody>\n",
              "    <tr>\n",
              "      <th>0</th>\n",
              "      <td>24</td>\n",
              "      <td>Your Second Language</td>\n",
              "      <td>Arabic</td>\n",
              "      <td>Female</td>\n",
              "      <td>Outside Europe</td>\n",
              "      <td>0.0</td>\n",
              "      <td>4.60</td>\n",
              "      <td>44</td>\n",
              "      <td>26</td>\n",
              "      <td>19</td>\n",
              "      <td>22</td>\n",
              "      <td>10</td>\n",
              "      <td>32</td>\n",
              "      <td>2017</td>\n",
              "    </tr>\n",
              "    <tr>\n",
              "      <th>1</th>\n",
              "      <td>22</td>\n",
              "      <td>Your Second Language</td>\n",
              "      <td>Arabic</td>\n",
              "      <td>Female</td>\n",
              "      <td>Outside Europe</td>\n",
              "      <td>0.0</td>\n",
              "      <td>2.60</td>\n",
              "      <td>29</td>\n",
              "      <td>10</td>\n",
              "      <td>37</td>\n",
              "      <td>9</td>\n",
              "      <td>16</td>\n",
              "      <td>10</td>\n",
              "      <td>2017</td>\n",
              "    </tr>\n",
              "    <tr>\n",
              "      <th>2</th>\n",
              "      <td>26</td>\n",
              "      <td>Your Second Language</td>\n",
              "      <td>Burmese</td>\n",
              "      <td>Female</td>\n",
              "      <td>Outside Europe</td>\n",
              "      <td>0.0</td>\n",
              "      <td>4.13</td>\n",
              "      <td>26</td>\n",
              "      <td>20</td>\n",
              "      <td>20</td>\n",
              "      <td>18</td>\n",
              "      <td>20</td>\n",
              "      <td>24</td>\n",
              "      <td>2017</td>\n",
              "    </tr>\n",
              "  </tbody>\n",
              "</table>\n",
              "</div>"
            ],
            "text/plain": [
              "   Age               English firstlanguage  ... LoC sleep  Year\n",
              "0   24  Your Second Language        Arabic  ...  10    32  2017\n",
              "1   22  Your Second Language        Arabic  ...  16    10  2017\n",
              "2   26  Your Second Language       Burmese  ...  20    24  2017\n",
              "\n",
              "[3 rows x 14 columns]"
            ]
          },
          "metadata": {
            "tags": []
          },
          "execution_count": 26
        }
      ]
    },
    {
      "cell_type": "code",
      "metadata": {
        "colab": {
          "base_uri": "https://localhost:8080/",
          "height": 90
        },
        "id": "QwpgmkFZHx7A",
        "outputId": "0953cf37-7dba-4b37-9a3c-0b40432d8057"
      },
      "source": [
        "regression_stress = linregress(new_df.Stress, new_df.Wellbeing)\n",
        "display (regression_stress, regression_stress.rvalue**2, regression_stress.pvalue)\n",
        "slope_stress  = regression_stress.slope\n",
        "intercept_stress = regression_stress.intercept"
      ],
      "execution_count": 27,
      "outputs": [
        {
          "output_type": "display_data",
          "data": {
            "text/plain": [
              "LinregressResult(slope=-0.6279050248852254, intercept=37.713488379900454, rvalue=-0.6713959740851134, pvalue=6.084540561441803e-07, stderr=0.10694652962765022)"
            ]
          },
          "metadata": {
            "tags": []
          }
        },
        {
          "output_type": "display_data",
          "data": {
            "text/plain": [
              "0.4507725540176983"
            ]
          },
          "metadata": {
            "tags": []
          }
        },
        {
          "output_type": "display_data",
          "data": {
            "text/plain": [
              "6.084540561441803e-07"
            ]
          },
          "metadata": {
            "tags": []
          }
        }
      ]
    },
    {
      "cell_type": "markdown",
      "metadata": {
        "id": "XdZD6oD-KL1G"
      },
      "source": [
        "--> Assuming an alpha value of 0.05, p is lower so the prediction is good\n",
        "\n",
        "--> R squared is close to 0.5, so the variables seem to be fairly correlated but doesn't really behave in the same way"
      ]
    },
    {
      "cell_type": "code",
      "metadata": {
        "colab": {
          "base_uri": "https://localhost:8080/"
        },
        "id": "-yU5e6hIJCVJ",
        "outputId": "3881331b-55d6-4d62-f314-0d77aa31eefb"
      },
      "source": [
        "def check_significance_regression(p_value, alpha):\n",
        "  if p_value < alpha:\n",
        "    return \"It's a good model\"\n",
        "  else:\n",
        "    return \"The model isn't statistically significant\"\n",
        "\n",
        "\n",
        "print(check_significance_regression(regression_pop_inc.pvalue, 0.05))\n",
        "print(check_significance_regression(regression_stress.pvalue, 0.05))"
      ],
      "execution_count": 28,
      "outputs": [
        {
          "output_type": "stream",
          "text": [
            "The model isn't statistically significant\n",
            "It's a good model\n"
          ],
          "name": "stdout"
        }
      ]
    },
    {
      "cell_type": "markdown",
      "metadata": {
        "id": "M8Y5RF6xHg1n"
      },
      "source": [
        "# Checking for normal distribution"
      ]
    },
    {
      "cell_type": "markdown",
      "metadata": {
        "id": "nKeZz1Urvo-1"
      },
      "source": [
        "### Histogram check \n",
        "---\n",
        "For this exercise please use the Psychological Wellbeing dataset: \"https://github.com/lilaceri/Working-with-data-/blob/b157a2feceb7709cf82426932385706d65446270/Data%20Sets%20for%20code%20divisio/Positive_Psychology_2017.csv?raw=true\"\n",
        "\n",
        "* Load in necessary libraries (pandas and matplotlib.pyplot) \n",
        "* Load in and check the data for missing values (try .info() .describe() )\n",
        "* Familiarise yourself with the data \n",
        "* Plot a histogram of Resilliance (plt.hist(data)) \n",
        "* Look at the shape of the data - does it look normally distributed?\n"
      ]
    },
    {
      "cell_type": "code",
      "metadata": {
        "id": "U__bzFbqg6vz",
        "colab": {
          "base_uri": "https://localhost:8080/",
          "height": 1000
        },
        "outputId": "e557b382-49a5-44c7-bfd8-33de9fd566d5"
      },
      "source": [
        "import pandas as pd\n",
        "import matplotlib.pyplot as plt\n",
        "\n",
        "url_pw = 'https://github.com/lilaceri/Working-with-data-/blob/b157a2feceb7709cf82426932385706d65446270/Data%20Sets%20for%20code%20divisio/Positive_Psychology_2017.csv?raw=true%22'\n",
        "\n",
        "df_pw = pd.read_csv(url_pw)\n",
        "display(df_pw.head(), df_pw.info(), df_pw.describe())"
      ],
      "execution_count": 29,
      "outputs": [
        {
          "output_type": "stream",
          "text": [
            "<class 'pandas.core.frame.DataFrame'>\n",
            "RangeIndex: 44 entries, 0 to 43\n",
            "Data columns (total 14 columns):\n",
            " #   Column         Non-Null Count  Dtype  \n",
            "---  ------         --------------  -----  \n",
            " 0   Age            44 non-null     int64  \n",
            " 1   English        44 non-null     object \n",
            " 2   firstlanguage  18 non-null     object \n",
            " 3   sex            44 non-null     object \n",
            " 4   origin         44 non-null     object \n",
            " 5   Ukresidence    44 non-null     float64\n",
            " 6   MAAS           44 non-null     float64\n",
            " 7   Resilliance    44 non-null     int64  \n",
            " 8   Wellbeing      44 non-null     int64  \n",
            " 9   Stress         44 non-null     int64  \n",
            " 10  selfesteem     44 non-null     int64  \n",
            " 11  LoC            44 non-null     int64  \n",
            " 12  sleep          44 non-null     int64  \n",
            " 13  Year           44 non-null     int64  \n",
            "dtypes: float64(2), int64(8), object(4)\n",
            "memory usage: 4.9+ KB\n"
          ],
          "name": "stdout"
        },
        {
          "output_type": "display_data",
          "data": {
            "text/html": [
              "<div>\n",
              "<style scoped>\n",
              "    .dataframe tbody tr th:only-of-type {\n",
              "        vertical-align: middle;\n",
              "    }\n",
              "\n",
              "    .dataframe tbody tr th {\n",
              "        vertical-align: top;\n",
              "    }\n",
              "\n",
              "    .dataframe thead th {\n",
              "        text-align: right;\n",
              "    }\n",
              "</style>\n",
              "<table border=\"1\" class=\"dataframe\">\n",
              "  <thead>\n",
              "    <tr style=\"text-align: right;\">\n",
              "      <th></th>\n",
              "      <th>Age</th>\n",
              "      <th>English</th>\n",
              "      <th>firstlanguage</th>\n",
              "      <th>sex</th>\n",
              "      <th>origin</th>\n",
              "      <th>Ukresidence</th>\n",
              "      <th>MAAS</th>\n",
              "      <th>Resilliance</th>\n",
              "      <th>Wellbeing</th>\n",
              "      <th>Stress</th>\n",
              "      <th>selfesteem</th>\n",
              "      <th>LoC</th>\n",
              "      <th>sleep</th>\n",
              "      <th>Year</th>\n",
              "    </tr>\n",
              "  </thead>\n",
              "  <tbody>\n",
              "    <tr>\n",
              "      <th>0</th>\n",
              "      <td>24</td>\n",
              "      <td>Your Second Language</td>\n",
              "      <td>Arabic</td>\n",
              "      <td>Female</td>\n",
              "      <td>Outside Europe</td>\n",
              "      <td>0.0</td>\n",
              "      <td>4.60</td>\n",
              "      <td>44</td>\n",
              "      <td>26</td>\n",
              "      <td>19</td>\n",
              "      <td>22</td>\n",
              "      <td>10</td>\n",
              "      <td>32</td>\n",
              "      <td>2017</td>\n",
              "    </tr>\n",
              "    <tr>\n",
              "      <th>1</th>\n",
              "      <td>22</td>\n",
              "      <td>Your Second Language</td>\n",
              "      <td>Arabic</td>\n",
              "      <td>Female</td>\n",
              "      <td>Outside Europe</td>\n",
              "      <td>0.0</td>\n",
              "      <td>2.60</td>\n",
              "      <td>29</td>\n",
              "      <td>10</td>\n",
              "      <td>37</td>\n",
              "      <td>9</td>\n",
              "      <td>16</td>\n",
              "      <td>10</td>\n",
              "      <td>2017</td>\n",
              "    </tr>\n",
              "    <tr>\n",
              "      <th>2</th>\n",
              "      <td>26</td>\n",
              "      <td>Your Second Language</td>\n",
              "      <td>Burmese</td>\n",
              "      <td>Female</td>\n",
              "      <td>Outside Europe</td>\n",
              "      <td>0.0</td>\n",
              "      <td>4.13</td>\n",
              "      <td>26</td>\n",
              "      <td>20</td>\n",
              "      <td>20</td>\n",
              "      <td>18</td>\n",
              "      <td>20</td>\n",
              "      <td>24</td>\n",
              "      <td>2017</td>\n",
              "    </tr>\n",
              "    <tr>\n",
              "      <th>3</th>\n",
              "      <td>23</td>\n",
              "      <td>Your Second Language</td>\n",
              "      <td>Chinese</td>\n",
              "      <td>Male</td>\n",
              "      <td>Outside Europe</td>\n",
              "      <td>0.0</td>\n",
              "      <td>2.77</td>\n",
              "      <td>30</td>\n",
              "      <td>16</td>\n",
              "      <td>28</td>\n",
              "      <td>20</td>\n",
              "      <td>17</td>\n",
              "      <td>10</td>\n",
              "      <td>2017</td>\n",
              "    </tr>\n",
              "    <tr>\n",
              "      <th>4</th>\n",
              "      <td>25</td>\n",
              "      <td>Your Second Language</td>\n",
              "      <td>Chinese</td>\n",
              "      <td>Female</td>\n",
              "      <td>Outside Europe</td>\n",
              "      <td>0.0</td>\n",
              "      <td>3.80</td>\n",
              "      <td>33</td>\n",
              "      <td>27</td>\n",
              "      <td>15</td>\n",
              "      <td>18</td>\n",
              "      <td>12</td>\n",
              "      <td>17</td>\n",
              "      <td>2017</td>\n",
              "    </tr>\n",
              "  </tbody>\n",
              "</table>\n",
              "</div>"
            ],
            "text/plain": [
              "   Age               English firstlanguage  ... LoC sleep  Year\n",
              "0   24  Your Second Language        Arabic  ...  10    32  2017\n",
              "1   22  Your Second Language        Arabic  ...  16    10  2017\n",
              "2   26  Your Second Language       Burmese  ...  20    24  2017\n",
              "3   23  Your Second Language       Chinese  ...  17    10  2017\n",
              "4   25  Your Second Language       Chinese  ...  12    17  2017\n",
              "\n",
              "[5 rows x 14 columns]"
            ]
          },
          "metadata": {
            "tags": []
          }
        },
        {
          "output_type": "display_data",
          "data": {
            "text/plain": [
              "None"
            ]
          },
          "metadata": {
            "tags": []
          }
        },
        {
          "output_type": "display_data",
          "data": {
            "text/html": [
              "<div>\n",
              "<style scoped>\n",
              "    .dataframe tbody tr th:only-of-type {\n",
              "        vertical-align: middle;\n",
              "    }\n",
              "\n",
              "    .dataframe tbody tr th {\n",
              "        vertical-align: top;\n",
              "    }\n",
              "\n",
              "    .dataframe thead th {\n",
              "        text-align: right;\n",
              "    }\n",
              "</style>\n",
              "<table border=\"1\" class=\"dataframe\">\n",
              "  <thead>\n",
              "    <tr style=\"text-align: right;\">\n",
              "      <th></th>\n",
              "      <th>Age</th>\n",
              "      <th>Ukresidence</th>\n",
              "      <th>MAAS</th>\n",
              "      <th>Resilliance</th>\n",
              "      <th>Wellbeing</th>\n",
              "      <th>Stress</th>\n",
              "      <th>selfesteem</th>\n",
              "      <th>LoC</th>\n",
              "      <th>sleep</th>\n",
              "      <th>Year</th>\n",
              "    </tr>\n",
              "  </thead>\n",
              "  <tbody>\n",
              "    <tr>\n",
              "      <th>count</th>\n",
              "      <td>44.000000</td>\n",
              "      <td>44.000000</td>\n",
              "      <td>44.000000</td>\n",
              "      <td>44.000000</td>\n",
              "      <td>44.000000</td>\n",
              "      <td>44.000000</td>\n",
              "      <td>44.000000</td>\n",
              "      <td>44.000000</td>\n",
              "      <td>44.000000</td>\n",
              "      <td>44.0</td>\n",
              "    </tr>\n",
              "    <tr>\n",
              "      <th>mean</th>\n",
              "      <td>26.568182</td>\n",
              "      <td>8.193182</td>\n",
              "      <td>3.788636</td>\n",
              "      <td>34.681818</td>\n",
              "      <td>24.113636</td>\n",
              "      <td>21.659091</td>\n",
              "      <td>19.022727</td>\n",
              "      <td>12.045455</td>\n",
              "      <td>20.727273</td>\n",
              "      <td>2017.0</td>\n",
              "    </tr>\n",
              "    <tr>\n",
              "      <th>std</th>\n",
              "      <td>8.968673</td>\n",
              "      <td>11.121536</td>\n",
              "      <td>0.866824</td>\n",
              "      <td>6.461956</td>\n",
              "      <td>7.421577</td>\n",
              "      <td>7.935622</td>\n",
              "      <td>5.534201</td>\n",
              "      <td>5.709863</td>\n",
              "      <td>8.420251</td>\n",
              "      <td>0.0</td>\n",
              "    </tr>\n",
              "    <tr>\n",
              "      <th>min</th>\n",
              "      <td>14.000000</td>\n",
              "      <td>0.000000</td>\n",
              "      <td>2.300000</td>\n",
              "      <td>18.000000</td>\n",
              "      <td>7.000000</td>\n",
              "      <td>3.000000</td>\n",
              "      <td>7.000000</td>\n",
              "      <td>4.000000</td>\n",
              "      <td>4.000000</td>\n",
              "      <td>2017.0</td>\n",
              "    </tr>\n",
              "    <tr>\n",
              "      <th>25%</th>\n",
              "      <td>22.750000</td>\n",
              "      <td>0.000000</td>\n",
              "      <td>3.225000</td>\n",
              "      <td>30.000000</td>\n",
              "      <td>20.000000</td>\n",
              "      <td>18.500000</td>\n",
              "      <td>17.000000</td>\n",
              "      <td>8.000000</td>\n",
              "      <td>12.750000</td>\n",
              "      <td>2017.0</td>\n",
              "    </tr>\n",
              "    <tr>\n",
              "      <th>50%</th>\n",
              "      <td>24.000000</td>\n",
              "      <td>1.500000</td>\n",
              "      <td>3.915000</td>\n",
              "      <td>35.000000</td>\n",
              "      <td>25.500000</td>\n",
              "      <td>21.500000</td>\n",
              "      <td>19.000000</td>\n",
              "      <td>11.500000</td>\n",
              "      <td>23.500000</td>\n",
              "      <td>2017.0</td>\n",
              "    </tr>\n",
              "    <tr>\n",
              "      <th>75%</th>\n",
              "      <td>26.250000</td>\n",
              "      <td>19.750000</td>\n",
              "      <td>4.325000</td>\n",
              "      <td>39.250000</td>\n",
              "      <td>28.250000</td>\n",
              "      <td>28.000000</td>\n",
              "      <td>22.250000</td>\n",
              "      <td>16.000000</td>\n",
              "      <td>28.000000</td>\n",
              "      <td>2017.0</td>\n",
              "    </tr>\n",
              "    <tr>\n",
              "      <th>max</th>\n",
              "      <td>74.000000</td>\n",
              "      <td>30.000000</td>\n",
              "      <td>6.700000</td>\n",
              "      <td>47.000000</td>\n",
              "      <td>38.000000</td>\n",
              "      <td>37.000000</td>\n",
              "      <td>30.000000</td>\n",
              "      <td>27.000000</td>\n",
              "      <td>32.000000</td>\n",
              "      <td>2017.0</td>\n",
              "    </tr>\n",
              "  </tbody>\n",
              "</table>\n",
              "</div>"
            ],
            "text/plain": [
              "             Age  Ukresidence       MAAS  ...        LoC      sleep    Year\n",
              "count  44.000000    44.000000  44.000000  ...  44.000000  44.000000    44.0\n",
              "mean   26.568182     8.193182   3.788636  ...  12.045455  20.727273  2017.0\n",
              "std     8.968673    11.121536   0.866824  ...   5.709863   8.420251     0.0\n",
              "min    14.000000     0.000000   2.300000  ...   4.000000   4.000000  2017.0\n",
              "25%    22.750000     0.000000   3.225000  ...   8.000000  12.750000  2017.0\n",
              "50%    24.000000     1.500000   3.915000  ...  11.500000  23.500000  2017.0\n",
              "75%    26.250000    19.750000   4.325000  ...  16.000000  28.000000  2017.0\n",
              "max    74.000000    30.000000   6.700000  ...  27.000000  32.000000  2017.0\n",
              "\n",
              "[8 rows x 10 columns]"
            ]
          },
          "metadata": {
            "tags": []
          }
        }
      ]
    },
    {
      "cell_type": "markdown",
      "metadata": {
        "id": "AY-l-ZMkPoSw"
      },
      "source": [
        "--> There are recognized missing values only in the column firstlanguage\n",
        "\n",
        "--> The column sex could be converted to \"category\" type"
      ]
    },
    {
      "cell_type": "code",
      "metadata": {
        "colab": {
          "base_uri": "https://localhost:8080/",
          "height": 317
        },
        "id": "c3-oI037QP2B",
        "outputId": "24dcef7d-58f7-47f6-9b9c-05b8960bf61d"
      },
      "source": [
        "plt.hist(df_pw.Resilliance)"
      ],
      "execution_count": 30,
      "outputs": [
        {
          "output_type": "execute_result",
          "data": {
            "text/plain": [
              "(array([ 1.,  1.,  3.,  4.,  6., 10.,  6.,  7.,  3.,  3.]),\n",
              " array([18. , 20.9, 23.8, 26.7, 29.6, 32.5, 35.4, 38.3, 41.2, 44.1, 47. ]),\n",
              " <a list of 10 Patch objects>)"
            ]
          },
          "metadata": {
            "tags": []
          },
          "execution_count": 30
        },
        {
          "output_type": "display_data",
          "data": {
            "image/png": "[encoded data removed]",
            "text/plain": [
              "<Figure size 432x288 with 1 Axes>"
            ]
          },
          "metadata": {
            "tags": [],
            "needs_background": "light"
          }
        }
      ]
    },
    {
      "cell_type": "markdown",
      "metadata": {
        "id": "jBbmUHaHynKS"
      },
      "source": [
        "### Probability Plot\n",
        "---\n",
        "\n",
        "As you can see in previous execise, it is not entirely obvious whether the data is actually normally distributed, even if it has the rough shape...  \n",
        "\n",
        "Therefore, we need to do a second check\n",
        "\n",
        "To perform the probability plot we need to load in another library:  \n",
        "`from scipy import stats` \n",
        "\n",
        "* Make a probability plot of the above data \n",
        "\n",
        "` stats.probplot(data, plot = plt)` \n",
        "\n",
        "* Look at the plot, are the dots following the line?\n",
        "* If the plot shows a straight line of dots it suggests the data is Gaussian! \n",
        "\n",
        "As we mentioned earlier, when checking for normality, we look to see how the actual data compares to a theoretical line or graph if that data was normally distributed. If the dots (actual data) follow the theoretical line on the plot, it shows the 2 are similar and therefore normally distributed. "
      ]
    },
    {
      "cell_type": "code",
      "metadata": {
        "id": "9mRFrMtEzp6G",
        "colab": {
          "base_uri": "https://localhost:8080/",
          "height": 525
        },
        "outputId": "3a1cedb7-3a85-4d3c-bf4b-af3e9a5bd39d"
      },
      "source": [
        "from scipy import stats\n",
        "\n",
        "stats.probplot(df_pw.Resilliance, plot = plt)"
      ],
      "execution_count": 31,
      "outputs": [
        {
          "output_type": "execute_result",
          "data": {
            "text/plain": [
              "((array([-2.15374952, -1.77530174, -1.55088744, -1.38514138, -1.25057432,\n",
              "         -1.1354892 , -1.03375442, -0.94172868, -0.85705923, -0.7781294 ,\n",
              "         -0.70377435, -0.63312213, -0.5654989 , -0.50036931, -0.43729746,\n",
              "         -0.3759202 , -0.31592847, -0.25705362, -0.19905725, -0.14172333,\n",
              "         -0.08485191, -0.02825382,  0.02825382,  0.08485191,  0.14172333,\n",
              "          0.19905725,  0.25705362,  0.31592847,  0.3759202 ,  0.43729746,\n",
              "          0.50036931,  0.5654989 ,  0.63312213,  0.70377435,  0.7781294 ,\n",
              "          0.85705923,  0.94172868,  1.03375442,  1.1354892 ,  1.25057432,\n",
              "          1.38514138,  1.55088744,  1.77530174,  2.15374952]),\n",
              "  array([18, 22, 25, 26, 26, 28, 29, 29, 29, 30, 30, 30, 30, 31, 32, 33, 33,\n",
              "         33, 34, 34, 34, 35, 35, 35, 35, 36, 37, 37, 37, 37, 38, 39, 39, 40,\n",
              "         40, 41, 41, 41, 42, 42, 44, 45, 47, 47])),\n",
              " (6.612420657288927, 34.68181818181818, 0.9942065542657863))"
            ]
          },
          "metadata": {
            "tags": []
          },
          "execution_count": 31
        },
        {
          "output_type": "display_data",
          "data": {
            "image/png": "[encoded data removed]",
            "text/plain": [
              "<Figure size 432x288 with 1 Axes>"
            ]
          },
          "metadata": {
            "tags": [],
            "needs_background": "light"
          }
        }
      ]
    },
    {
      "cell_type": "markdown",
      "metadata": {
        "id": "rKOjEujQ0IWd"
      },
      "source": [
        "### Histogram of non-Gaussian data \n",
        "---\n",
        "For this exercise use the US election data: \"https://raw.githubusercontent.com/futureCodersSE/working-with-data/main/Data%20sets/Data%20Cleaning%20Data%20Sets/presDirty.csv\"  \n",
        "\n",
        "* Load in and check the data for missing values\n",
        "* Use dropna() if needed\n",
        "* Familiarise yourself with the data\n",
        "* Plot a histogram of national_turnout\n",
        "* Look at the shape of the data - does it look normally distributed?"
      ]
    },
    {
      "cell_type": "code",
      "metadata": {
        "id": "22BaHzU26Uba",
        "colab": {
          "base_uri": "https://localhost:8080/",
          "height": 732
        },
        "outputId": "6955e465-1a77-4de1-ecff-de61e98a7532"
      },
      "source": [
        "url_USe = 'https://raw.githubusercontent.com/futureCodersSE/working-with-data/main/Data%20sets/Data%20Cleaning%20Data%20Sets/presDirty.csv'\n",
        "\n",
        "df_USe = pd.read_csv(url_USe)\n",
        "\n",
        "display(df_USe.head(), df_USe.info())"
      ],
      "execution_count": 32,
      "outputs": [
        {
          "output_type": "stream",
          "text": [
            "<class 'pandas.core.frame.DataFrame'>\n",
            "RangeIndex: 156 entries, 0 to 155\n",
            "Data columns (total 16 columns):\n",
            " #   Column                      Non-Null Count  Dtype  \n",
            "---  ------                      --------------  -----  \n",
            " 0   cycle                       156 non-null    int64  \n",
            " 1   branch                      156 non-null    object \n",
            " 2   model                       156 non-null    object \n",
            " 3   modeldate                   156 non-null    object \n",
            " 4   candidate_inc               156 non-null    object \n",
            " 5   candidate_chal              156 non-null    object \n",
            " 6   nat_voteshare_other_hi      156 non-null    float64\n",
            " 7   national_voteshare_inc_lo   156 non-null    float64\n",
            " 8   national_voteshare_chal_lo  156 non-null    float64\n",
            " 9   national_voteshare_3rd_lo   0 non-null      float64\n",
            " 10  nat_voteshare_other_lo      156 non-null    float64\n",
            " 11  national_turnout            59 non-null     float64\n",
            " 12  national_turnout_hi         59 non-null     float64\n",
            " 13  national_turnout_lo         59 non-null     float64\n",
            " 14  timestamp                   156 non-null    object \n",
            " 15  simulations                 156 non-null    int64  \n",
            "dtypes: float64(8), int64(2), object(6)\n",
            "memory usage: 19.6+ KB\n"
          ],
          "name": "stdout"
        },
        {
          "output_type": "display_data",
          "data": {
            "text/html": [
              "<div>\n",
              "<style scoped>\n",
              "    .dataframe tbody tr th:only-of-type {\n",
              "        vertical-align: middle;\n",
              "    }\n",
              "\n",
              "    .dataframe tbody tr th {\n",
              "        vertical-align: top;\n",
              "    }\n",
              "\n",
              "    .dataframe thead th {\n",
              "        text-align: right;\n",
              "    }\n",
              "</style>\n",
              "<table border=\"1\" class=\"dataframe\">\n",
              "  <thead>\n",
              "    <tr style=\"text-align: right;\">\n",
              "      <th></th>\n",
              "      <th>cycle</th>\n",
              "      <th>branch</th>\n",
              "      <th>model</th>\n",
              "      <th>modeldate</th>\n",
              "      <th>candidate_inc</th>\n",
              "      <th>candidate_chal</th>\n",
              "      <th>nat_voteshare_other_hi</th>\n",
              "      <th>national_voteshare_inc_lo</th>\n",
              "      <th>national_voteshare_chal_lo</th>\n",
              "      <th>national_voteshare_3rd_lo</th>\n",
              "      <th>nat_voteshare_other_lo</th>\n",
              "      <th>national_turnout</th>\n",
              "      <th>national_turnout_hi</th>\n",
              "      <th>national_turnout_lo</th>\n",
              "      <th>timestamp</th>\n",
              "      <th>simulations</th>\n",
              "    </tr>\n",
              "  </thead>\n",
              "  <tbody>\n",
              "    <tr>\n",
              "      <th>0</th>\n",
              "      <td>2020</td>\n",
              "      <td>President</td>\n",
              "      <td>polls-plus</td>\n",
              "      <td>11/03/2020</td>\n",
              "      <td>Trump</td>\n",
              "      <td>Biden</td>\n",
              "      <td>1.842986</td>\n",
              "      <td>42.91262</td>\n",
              "      <td>50.87952</td>\n",
              "      <td>NaN</td>\n",
              "      <td>0.724433</td>\n",
              "      <td>157972048.0</td>\n",
              "      <td>168424640.0</td>\n",
              "      <td>147487920.0</td>\n",
              "      <td>03/11/2020 00:00</td>\n",
              "      <td>40000</td>\n",
              "    </tr>\n",
              "    <tr>\n",
              "      <th>1</th>\n",
              "      <td>2020</td>\n",
              "      <td>President</td>\n",
              "      <td>polls-plus</td>\n",
              "      <td>11/02/2020</td>\n",
              "      <td>Trump</td>\n",
              "      <td>Biden</td>\n",
              "      <td>1.842986</td>\n",
              "      <td>42.91348</td>\n",
              "      <td>50.88025</td>\n",
              "      <td>NaN</td>\n",
              "      <td>0.724433</td>\n",
              "      <td>157972048.0</td>\n",
              "      <td>168424640.0</td>\n",
              "      <td>147487920.0</td>\n",
              "      <td>02/11/2020 23:45</td>\n",
              "      <td>40000</td>\n",
              "    </tr>\n",
              "    <tr>\n",
              "      <th>2</th>\n",
              "      <td>2020</td>\n",
              "      <td>President</td>\n",
              "      <td>polls-plus</td>\n",
              "      <td>11/02/2020</td>\n",
              "      <td>Trump</td>\n",
              "      <td>Biden</td>\n",
              "      <td>1.842986</td>\n",
              "      <td>42.91348</td>\n",
              "      <td>50.88025</td>\n",
              "      <td>NaN</td>\n",
              "      <td>0.724433</td>\n",
              "      <td>157972048.0</td>\n",
              "      <td>168424640.0</td>\n",
              "      <td>147487920.0</td>\n",
              "      <td>02/11/2020 23:45</td>\n",
              "      <td>40000</td>\n",
              "    </tr>\n",
              "    <tr>\n",
              "      <th>3</th>\n",
              "      <td>2020</td>\n",
              "      <td>President</td>\n",
              "      <td>polls-plus</td>\n",
              "      <td>10/31/2020</td>\n",
              "      <td>Trump</td>\n",
              "      <td>Biden</td>\n",
              "      <td>1.835479</td>\n",
              "      <td>42.98096</td>\n",
              "      <td>50.74764</td>\n",
              "      <td>NaN</td>\n",
              "      <td>0.689802</td>\n",
              "      <td>158044784.0</td>\n",
              "      <td>168497376.0</td>\n",
              "      <td>147560672.0</td>\n",
              "      <td>31/10/2020 22:23</td>\n",
              "      <td>40000</td>\n",
              "    </tr>\n",
              "    <tr>\n",
              "      <th>4</th>\n",
              "      <td>2020</td>\n",
              "      <td>President</td>\n",
              "      <td>polls-plus</td>\n",
              "      <td>10/30/2020</td>\n",
              "      <td>Trump</td>\n",
              "      <td>Biden</td>\n",
              "      <td>1.847821</td>\n",
              "      <td>42.92510</td>\n",
              "      <td>50.72821</td>\n",
              "      <td>NaN</td>\n",
              "      <td>0.692837</td>\n",
              "      <td>156723120.0</td>\n",
              "      <td>167175712.0</td>\n",
              "      <td>146239008.0</td>\n",
              "      <td>30/10/2020 21:34</td>\n",
              "      <td>40000</td>\n",
              "    </tr>\n",
              "  </tbody>\n",
              "</table>\n",
              "</div>"
            ],
            "text/plain": [
              "   cycle     branch  ...         timestamp simulations\n",
              "0   2020  President  ...  03/11/2020 00:00       40000\n",
              "1   2020  President  ...  02/11/2020 23:45       40000\n",
              "2   2020  President  ...  02/11/2020 23:45       40000\n",
              "3   2020  President  ...  31/10/2020 22:23       40000\n",
              "4   2020  President  ...  30/10/2020 21:34       40000\n",
              "\n",
              "[5 rows x 16 columns]"
            ]
          },
          "metadata": {
            "tags": []
          }
        },
        {
          "output_type": "display_data",
          "data": {
            "text/plain": [
              "None"
            ]
          },
          "metadata": {
            "tags": []
          }
        }
      ]
    },
    {
      "cell_type": "code",
      "metadata": {
        "colab": {
          "base_uri": "https://localhost:8080/"
        },
        "id": "NKYOD0CDWzoS",
        "outputId": "9a72f7e3-694d-4d89-8471-0635b10effbb"
      },
      "source": [
        "df_USe.drop(columns=['national_voteshare_3rd_lo'], inplace=True)\n",
        "df_USe.dropna(subset=['national_turnout'], inplace=True)\n",
        "df_USe.info()"
      ],
      "execution_count": 33,
      "outputs": [
        {
          "output_type": "stream",
          "text": [
            "<class 'pandas.core.frame.DataFrame'>\n",
            "Int64Index: 59 entries, 0 to 58\n",
            "Data columns (total 15 columns):\n",
            " #   Column                      Non-Null Count  Dtype  \n",
            "---  ------                      --------------  -----  \n",
            " 0   cycle                       59 non-null     int64  \n",
            " 1   branch                      59 non-null     object \n",
            " 2   model                       59 non-null     object \n",
            " 3   modeldate                   59 non-null     object \n",
            " 4   candidate_inc               59 non-null     object \n",
            " 5   candidate_chal              59 non-null     object \n",
            " 6   nat_voteshare_other_hi      59 non-null     float64\n",
            " 7   national_voteshare_inc_lo   59 non-null     float64\n",
            " 8   national_voteshare_chal_lo  59 non-null     float64\n",
            " 9   nat_voteshare_other_lo      59 non-null     float64\n",
            " 10  national_turnout            59 non-null     float64\n",
            " 11  national_turnout_hi         59 non-null     float64\n",
            " 12  national_turnout_lo         59 non-null     float64\n",
            " 13  timestamp                   59 non-null     object \n",
            " 14  simulations                 59 non-null     int64  \n",
            "dtypes: float64(7), int64(2), object(6)\n",
            "memory usage: 7.4+ KB\n"
          ],
          "name": "stdout"
        }
      ]
    },
    {
      "cell_type": "code",
      "metadata": {
        "colab": {
          "base_uri": "https://localhost:8080/",
          "height": 277
        },
        "id": "JOmeHhHmgqkr",
        "outputId": "a39828ef-2aa1-4766-dc20-f32ca44dd9ba"
      },
      "source": [
        "plt.hist(df_USe.national_turnout)\n",
        "plt.show()"
      ],
      "execution_count": 34,
      "outputs": [
        {
          "output_type": "display_data",
          "data": {
            "image/png": "[encoded data removed]",
            "text/plain": [
              "<Figure size 432x288 with 1 Axes>"
            ]
          },
          "metadata": {
            "tags": [],
            "needs_background": "light"
          }
        }
      ]
    },
    {
      "cell_type": "markdown",
      "metadata": {
        "id": "26Zs4Z7u6U4b"
      },
      "source": [
        "###  Prob plot of non-Gaussian data \n",
        "---\n",
        "\n",
        "* Using stats.probplot() make a probability plot of national_turnout\n",
        "* Does the data look normally distributed?"
      ]
    },
    {
      "cell_type": "code",
      "metadata": {
        "id": "TQkDNYIG6nqz",
        "colab": {
          "base_uri": "https://localhost:8080/",
          "height": 294
        },
        "outputId": "c993da70-ada3-4d5a-aadc-2ec8c9aa01c9"
      },
      "source": [
        "stats.probplot(df_USe.national_turnout, plot=plt)\n",
        "plt.show()"
      ],
      "execution_count": 35,
      "outputs": [
        {
          "output_type": "display_data",
          "data": {
            "image/png": "[encoded data removed]",
            "text/plain": [
              "<Figure size 432x288 with 1 Axes>"
            ]
          },
          "metadata": {
            "tags": [],
            "needs_background": "light"
          }
        }
      ]
    },
    {
      "cell_type": "markdown",
      "metadata": {
        "id": "bS77g2LqaGF8"
      },
      "source": [
        "--> It doesn't look normally distributed"
      ]
    },
    {
      "cell_type": "markdown",
      "metadata": {
        "id": "nN7Uut_L6oKp"
      },
      "source": [
        "### Linear regression on normal data \n",
        "---\n",
        "\n",
        "Referring back to the correlation and visualisation worksheet and using the wellbeing dataset:\n",
        "\n",
        "* Perform a linear regression (stats.linregress) to find a line of best fit between Resilliance (x) and selfesteem (y)\n",
        "* Note as our y values are what we are observing (eg affecting) they do not need to be normally distributed, BUT for a meaningful result the x values do\n",
        "* Plot a scatterplot with line of best fit "
      ]
    },
    {
      "cell_type": "code",
      "metadata": {
        "id": "V-VNaoBx7N7K",
        "colab": {
          "base_uri": "https://localhost:8080/",
          "height": 264
        },
        "outputId": "b62d7eae-ab9e-4295-a980-7cb764395e96"
      },
      "source": [
        "regression_rs = stats.linregress(df_pw.Resilliance, df_pw.selfesteem)\n",
        "\n",
        "plt.scatter(df_pw.Resilliance, df_pw.selfesteem)\n",
        "plt.plot(df_pw.Resilliance, df_pw.Resilliance * regression_rs.slope + regression_rs.intercept, 'k-')\n",
        "plt.text(20,28, 'R squared: '+ str(round(regression_rs.rvalue**2,2)))\n",
        "plt.show()"
      ],
      "execution_count": 36,
      "outputs": [
        {
          "output_type": "display_data",
          "data": {
            "image/png": "[encoded data removed]",
            "text/plain": [
              "<Figure size 432x288 with 1 Axes>"
            ]
          },
          "metadata": {
            "tags": [],
            "needs_background": "light"
          }
        }
      ]
    },
    {
      "cell_type": "code",
      "metadata": {
        "colab": {
          "base_uri": "https://localhost:8080/",
          "height": 475
        },
        "id": "px1Nku6McUy2",
        "outputId": "fc630246-352c-47f9-bb2f-2ea58a742def"
      },
      "source": [
        "from statsmodels.formula.api import ols\n",
        "\n",
        "result_model = ols('df_pw.Resilliance ~ df_pw.selfesteem', data = df_pw).fit()\n",
        "result_model.summary()"
      ],
      "execution_count": 37,
      "outputs": [
        {
          "output_type": "stream",
          "text": [
            "/usr/local/lib/python3.7/dist-packages/statsmodels/tools/_testing.py:19: FutureWarning: pandas.util.testing is deprecated. Use the functions in the public API at pandas.testing instead.\n",
            "  import pandas.util.testing as tm\n"
          ],
          "name": "stderr"
        },
        {
          "output_type": "execute_result",
          "data": {
            "text/html": [
              "<table class=\"simpletable\">\n",
              "<caption>OLS Regression Results</caption>\n",
              "<tr>\n",
              "  <th>Dep. Variable:</th>    <td>df_pw.Resilliance</td> <th>  R-squared:         </th> <td>   0.350</td>\n",
              "</tr>\n",
              "<tr>\n",
              "  <th>Model:</th>                   <td>OLS</td>        <th>  Adj. R-squared:    </th> <td>   0.334</td>\n",
              "</tr>\n",
              "<tr>\n",
              "  <th>Method:</th>             <td>Least Squares</td>   <th>  F-statistic:       </th> <td>   22.58</td>\n",
              "</tr>\n",
              "<tr>\n",
              "  <th>Date:</th>             <td>Thu, 10 Jun 2021</td>  <th>  Prob (F-statistic):</th> <td>2.37e-05</td>\n",
              "</tr>\n",
              "<tr>\n",
              "  <th>Time:</th>                 <td>10:43:13</td>      <th>  Log-Likelihood:    </th> <td> -134.56</td>\n",
              "</tr>\n",
              "<tr>\n",
              "  <th>No. Observations:</th>      <td>    44</td>       <th>  AIC:               </th> <td>   273.1</td>\n",
              "</tr>\n",
              "<tr>\n",
              "  <th>Df Residuals:</th>          <td>    42</td>       <th>  BIC:               </th> <td>   276.7</td>\n",
              "</tr>\n",
              "<tr>\n",
              "  <th>Df Model:</th>              <td>     1</td>       <th>                     </th>     <td> </td>   \n",
              "</tr>\n",
              "<tr>\n",
              "  <th>Covariance Type:</th>      <td>nonrobust</td>     <th>                     </th>     <td> </td>   \n",
              "</tr>\n",
              "</table>\n",
              "<table class=\"simpletable\">\n",
              "<tr>\n",
              "          <td></td>            <th>coef</th>     <th>std err</th>      <th>t</th>      <th>P>|t|</th>  <th>[0.025</th>    <th>0.975]</th>  \n",
              "</tr>\n",
              "<tr>\n",
              "  <th>Intercept</th>        <td>   21.5474</td> <td>    2.876</td> <td>    7.492</td> <td> 0.000</td> <td>   15.744</td> <td>   27.351</td>\n",
              "</tr>\n",
              "<tr>\n",
              "  <th>df_pw.selfesteem</th> <td>    0.6905</td> <td>    0.145</td> <td>    4.752</td> <td> 0.000</td> <td>    0.397</td> <td>    0.984</td>\n",
              "</tr>\n",
              "</table>\n",
              "<table class=\"simpletable\">\n",
              "<tr>\n",
              "  <th>Omnibus:</th>       <td> 1.038</td> <th>  Durbin-Watson:     </th> <td>   1.415</td>\n",
              "</tr>\n",
              "<tr>\n",
              "  <th>Prob(Omnibus):</th> <td> 0.595</td> <th>  Jarque-Bera (JB):  </th> <td>   0.672</td>\n",
              "</tr>\n",
              "<tr>\n",
              "  <th>Skew:</th>          <td>-0.303</td> <th>  Prob(JB):          </th> <td>   0.715</td>\n",
              "</tr>\n",
              "<tr>\n",
              "  <th>Kurtosis:</th>      <td> 3.008</td> <th>  Cond. No.          </th> <td>    71.8</td>\n",
              "</tr>\n",
              "</table><br/><br/>Warnings:<br/>[1] Standard Errors assume that the covariance matrix of the errors is correctly specified."
            ],
            "text/plain": [
              "<class 'statsmodels.iolib.summary.Summary'>\n",
              "\"\"\"\n",
              "                            OLS Regression Results                            \n",
              "==============================================================================\n",
              "Dep. Variable:      df_pw.Resilliance   R-squared:                       0.350\n",
              "Model:                            OLS   Adj. R-squared:                  0.334\n",
              "Method:                 Least Squares   F-statistic:                     22.58\n",
              "Date:                Thu, 10 Jun 2021   Prob (F-statistic):           2.37e-05\n",
              "Time:                        10:43:13   Log-Likelihood:                -134.56\n",
              "No. Observations:                  44   AIC:                             273.1\n",
              "Df Residuals:                      42   BIC:                             276.7\n",
              "Df Model:                           1                                         \n",
              "Covariance Type:            nonrobust                                         \n",
              "====================================================================================\n",
              "                       coef    std err          t      P>|t|      [0.025      0.975]\n",
              "------------------------------------------------------------------------------------\n",
              "Intercept           21.5474      2.876      7.492      0.000      15.744      27.351\n",
              "df_pw.selfesteem     0.6905      0.145      4.752      0.000       0.397       0.984\n",
              "==============================================================================\n",
              "Omnibus:                        1.038   Durbin-Watson:                   1.415\n",
              "Prob(Omnibus):                  0.595   Jarque-Bera (JB):                0.672\n",
              "Skew:                          -0.303   Prob(JB):                        0.715\n",
              "Kurtosis:                       3.008   Cond. No.                         71.8\n",
              "==============================================================================\n",
              "\n",
              "Warnings:\n",
              "[1] Standard Errors assume that the covariance matrix of the errors is correctly specified.\n",
              "\"\"\""
            ]
          },
          "metadata": {
            "tags": []
          },
          "execution_count": 37
        }
      ]
    }
  ]
}