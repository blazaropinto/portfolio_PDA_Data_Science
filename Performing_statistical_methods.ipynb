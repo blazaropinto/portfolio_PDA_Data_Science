{
  "nbformat": 4,
  "nbformat_minor": 0,
  "metadata": {
    "colab": {
      "name": "Performing_statistical_methods.ipynb",
      "provenance": [],
      "authorship_tag": "ABX9TyPYm2wy0gu06sqML2SDfmJ8",
      "include_colab_link": true
    },
    "kernelspec": {
      "name": "python3",
      "display_name": "Python 3"
    },
    "language_info": {
      "name": "python"
    }
  },
  "cells": [
    {
      "cell_type": "markdown",
      "metadata": {
        "id": "view-in-github",
        "colab_type": "text"
      },
      "source": [
        "<a href=\"https://colab.research.google.com/github/blazaropinto/portfolio_PDA_Data_Science/blob/development/Performing_statistical_methods.ipynb\" target=\"_parent\"><img src=\"https://colab.research.google.com/assets/colab-badge.svg\" alt=\"Open In Colab\"/></a>"
      ]
    },
    {
      "cell_type": "markdown",
      "metadata": {
        "id": "YXpVrMwSHgeX"
      },
      "source": [
        "# Finding measures of central tendency (max, min, mean, median)"
      ]
    },
    {
      "cell_type": "markdown",
      "metadata": {
        "id": "YWaJWD4cHgrQ"
      },
      "source": [
        "# Finding standard deviation"
      ]
    },
    {
      "cell_type": "markdown",
      "metadata": {
        "id": "FVK32xtBHgux"
      },
      "source": [
        "# Performing a linear regression\n",
        "\n"
      ]
    },
    {
      "cell_type": "markdown",
      "metadata": {
        "id": "M8Y5RF6xHg1n"
      },
      "source": [
        "# Checking for normal distribution"
      ]
    },
    {
      "cell_type": "code",
      "metadata": {
        "id": "yIA8L47JHa3M"
      },
      "source": [
        ""
      ],
      "execution_count": null,
      "outputs": []
    }
  ]
}