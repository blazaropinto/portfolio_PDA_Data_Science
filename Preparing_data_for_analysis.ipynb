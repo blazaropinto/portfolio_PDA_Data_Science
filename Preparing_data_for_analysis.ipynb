{
  "nbformat": 4,
  "nbformat_minor": 0,
  "metadata": {
    "colab": {
      "name": "Preparing_data_for_analysis.ipynb",
      "provenance": [],
      "authorship_tag": "ABX9TyONjdT+uTdD2ZBJqUE7fumP",
      "include_colab_link": true
    },
    "kernelspec": {
      "name": "python3",
      "display_name": "Python 3"
    },
    "language_info": {
      "name": "python"
    }
  },
  "cells": [
    {
      "cell_type": "markdown",
      "metadata": {
        "id": "view-in-github",
        "colab_type": "text"
      },
      "source": [
        "<a href=\"https://colab.research.google.com/github/blazaropinto/portfolio_PDA_Data_Science/blob/development/Preparing_data_for_analysis.ipynb\" target=\"_parent\"><img src=\"https://colab.research.google.com/assets/colab-badge.svg\" alt=\"Open In Colab\"/></a>"
      ]
    },
    {
      "cell_type": "markdown",
      "metadata": {
        "id": "d9chk65rGi_2"
      },
      "source": [
        "# Removing duplicate records from a data set"
      ]
    },
    {
      "cell_type": "markdown",
      "metadata": {
        "id": "bmj5FRmSGi8B"
      },
      "source": [
        "# Replacing null values where necessary"
      ]
    },
    {
      "cell_type": "markdown",
      "metadata": {
        "id": "IeuIVyHgGixZ"
      },
      "source": [
        "# Normalising values where necessary"
      ]
    },
    {
      "cell_type": "markdown",
      "metadata": {
        "id": "bedV3hBxG0PR"
      },
      "source": [
        "# Correcting the format of dates where necessary"
      ]
    },
    {
      "cell_type": "markdown",
      "metadata": {
        "id": "hTnVoNooG3at"
      },
      "source": [
        "# Resetting data values"
      ]
    },
    {
      "cell_type": "markdown",
      "metadata": {
        "id": "AqZOyNvNG275"
      },
      "source": [
        "# Joining data from 2 different sources"
      ]
    },
    {
      "cell_type": "markdown",
      "metadata": {
        "id": "TIH8YEE4HGdn"
      },
      "source": [
        "# Merging and joining data"
      ]
    },
    {
      "cell_type": "code",
      "metadata": {
        "id": "kdCpBHU5GMJ7"
      },
      "source": [
        ""
      ],
      "execution_count": null,
      "outputs": []
    }
  ]
}