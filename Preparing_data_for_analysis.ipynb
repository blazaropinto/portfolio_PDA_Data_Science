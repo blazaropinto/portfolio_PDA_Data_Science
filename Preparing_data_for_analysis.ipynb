{
  "nbformat": 4,
  "nbformat_minor": 0,
  "metadata": {
    "colab": {
      "name": "Preparing_data_for_analysis.ipynb",
      "provenance": [],
      "toc_visible": true,
      "authorship_tag": "ABX9TyPcc80pHiy7KqjSXCZw1FDR",
      "include_colab_link": true
    },
    "kernelspec": {
      "name": "python3",
      "display_name": "Python 3"
    },
    "language_info": {
      "name": "python"
    }
  },
  "cells": [
    {
      "cell_type": "markdown",
      "metadata": {
        "id": "view-in-github",
        "colab_type": "text"
      },
      "source": [
        "<a href=\"https://colab.research.google.com/github/blazaropinto/portfolio_PDA_Data_Science/blob/development/Preparing_data_for_analysis.ipynb\" target=\"_parent\"><img src=\"https://colab.research.google.com/assets/colab-badge.svg\" alt=\"Open In Colab\"/></a>"
      ]
    },
    {
      "cell_type": "markdown",
      "metadata": {
        "id": "d9chk65rGi_2"
      },
      "source": [
        "# Removing duplicate records from a data set and replacing null values where necessary"
      ]
    },
    {
      "cell_type": "markdown",
      "metadata": {
        "id": "8orImwy7DgGg"
      },
      "source": [
        "### Data set 1 - Calorie burning\n"
      ]
    },
    {
      "cell_type": "code",
      "metadata": {
        "id": "T182pRmGDd1o",
        "colab": {
          "base_uri": "https://localhost:8080/",
          "height": 220
        },
        "outputId": "c4da8e1d-2daf-463d-be0e-6b9a9289ca59"
      },
      "source": [
        "import pandas as pd\n",
        "url1_raw = 'https://raw.githubusercontent.com/futureCodersSE/working-with-data/main/Data%20sets/Data%20Cleaning%20Data%20Sets/dirtydata.csv'\n",
        "dataset1 = pd.read_csv(url1_raw)\n",
        "display(dataset1.head(), dataset1.shape)"
      ],
      "execution_count": 14,
      "outputs": [
        {
          "output_type": "display_data",
          "data": {
            "text/html": [
              "<div>\n",
              "<style scoped>\n",
              "    .dataframe tbody tr th:only-of-type {\n",
              "        vertical-align: middle;\n",
              "    }\n",
              "\n",
              "    .dataframe tbody tr th {\n",
              "        vertical-align: top;\n",
              "    }\n",
              "\n",
              "    .dataframe thead th {\n",
              "        text-align: right;\n",
              "    }\n",
              "</style>\n",
              "<table border=\"1\" class=\"dataframe\">\n",
              "  <thead>\n",
              "    <tr style=\"text-align: right;\">\n",
              "      <th></th>\n",
              "      <th>Duration</th>\n",
              "      <th>Date</th>\n",
              "      <th>Pulse</th>\n",
              "      <th>Maxpulse</th>\n",
              "      <th>Calories</th>\n",
              "    </tr>\n",
              "  </thead>\n",
              "  <tbody>\n",
              "    <tr>\n",
              "      <th>0</th>\n",
              "      <td>60</td>\n",
              "      <td>'2020/12/01'</td>\n",
              "      <td>110</td>\n",
              "      <td>130</td>\n",
              "      <td>409.1</td>\n",
              "    </tr>\n",
              "    <tr>\n",
              "      <th>1</th>\n",
              "      <td>60</td>\n",
              "      <td>'2020/12/02'</td>\n",
              "      <td>117</td>\n",
              "      <td>145</td>\n",
              "      <td>479.0</td>\n",
              "    </tr>\n",
              "    <tr>\n",
              "      <th>2</th>\n",
              "      <td>60</td>\n",
              "      <td>'2020/12/03'</td>\n",
              "      <td>103</td>\n",
              "      <td>135</td>\n",
              "      <td>340.0</td>\n",
              "    </tr>\n",
              "    <tr>\n",
              "      <th>3</th>\n",
              "      <td>45</td>\n",
              "      <td>'2020/12/04'</td>\n",
              "      <td>109</td>\n",
              "      <td>175</td>\n",
              "      <td>282.4</td>\n",
              "    </tr>\n",
              "    <tr>\n",
              "      <th>4</th>\n",
              "      <td>45</td>\n",
              "      <td>'2020/12/05'</td>\n",
              "      <td>117</td>\n",
              "      <td>148</td>\n",
              "      <td>406.0</td>\n",
              "    </tr>\n",
              "  </tbody>\n",
              "</table>\n",
              "</div>"
            ],
            "text/plain": [
              "   Duration          Date  Pulse  Maxpulse  Calories\n",
              "0        60  '2020/12/01'    110       130     409.1\n",
              "1        60  '2020/12/02'    117       145     479.0\n",
              "2        60  '2020/12/03'    103       135     340.0\n",
              "3        45  '2020/12/04'    109       175     282.4\n",
              "4        45  '2020/12/05'    117       148     406.0"
            ]
          },
          "metadata": {
            "tags": []
          }
        },
        {
          "output_type": "display_data",
          "data": {
            "text/plain": [
              "(32, 5)"
            ]
          },
          "metadata": {
            "tags": []
          }
        }
      ]
    },
    {
      "cell_type": "markdown",
      "metadata": {
        "id": "3fWCIZb44Hhs"
      },
      "source": [
        "* Start by inspecting the data a bit further"
      ]
    },
    {
      "cell_type": "code",
      "metadata": {
        "colab": {
          "base_uri": "https://localhost:8080/"
        },
        "id": "HVbai40r4PA5",
        "outputId": "a2af7871-c9e2-45a9-e7df-4f2e02d6f4da"
      },
      "source": [
        "dataset1.info()"
      ],
      "execution_count": 15,
      "outputs": [
        {
          "output_type": "stream",
          "text": [
            "<class 'pandas.core.frame.DataFrame'>\n",
            "RangeIndex: 32 entries, 0 to 31\n",
            "Data columns (total 5 columns):\n",
            " #   Column    Non-Null Count  Dtype  \n",
            "---  ------    --------------  -----  \n",
            " 0   Duration  32 non-null     int64  \n",
            " 1   Date      31 non-null     object \n",
            " 2   Pulse     32 non-null     int64  \n",
            " 3   Maxpulse  32 non-null     int64  \n",
            " 4   Calories  30 non-null     float64\n",
            "dtypes: float64(1), int64(3), object(1)\n",
            "memory usage: 1.4+ KB\n"
          ],
          "name": "stdout"
        }
      ]
    },
    {
      "cell_type": "markdown",
      "metadata": {
        "id": "qLBVRaOG0nd8"
      },
      "source": [
        "* Make sure there are no duplicated rows (considering all columns), by deleteting them if any"
      ]
    },
    {
      "cell_type": "code",
      "metadata": {
        "colab": {
          "base_uri": "https://localhost:8080/"
        },
        "id": "nK7n1H1M0lRm",
        "outputId": "f10fbb86-0a05-480f-f68b-7ef36b7c9dc7"
      },
      "source": [
        "dataset1.drop_duplicates(inplace=True)\n",
        "dataset1.shape"
      ],
      "execution_count": 16,
      "outputs": [
        {
          "output_type": "execute_result",
          "data": {
            "text/plain": [
              "(31, 5)"
            ]
          },
          "metadata": {
            "tags": []
          },
          "execution_count": 16
        }
      ]
    },
    {
      "cell_type": "markdown",
      "metadata": {
        "id": "VYZD7n3b4m4-"
      },
      "source": [
        "* The dtype of the column date is `object`, probably most of them are strings. We can use `.strptime()` on each element or just use the pandas function`.to_datetime()`"
      ]
    },
    {
      "cell_type": "code",
      "metadata": {
        "colab": {
          "base_uri": "https://localhost:8080/"
        },
        "id": "pUhvJ7Q24VUN",
        "outputId": "6284fdd3-f8cc-4d17-cf15-772636880f22"
      },
      "source": [
        "dataset1.Date = pd.to_datetime(dataset1.Date)\n",
        "dataset1.dtypes"
      ],
      "execution_count": 17,
      "outputs": [
        {
          "output_type": "execute_result",
          "data": {
            "text/plain": [
              "Duration             int64\n",
              "Date        datetime64[ns]\n",
              "Pulse                int64\n",
              "Maxpulse             int64\n",
              "Calories           float64\n",
              "dtype: object"
            ]
          },
          "metadata": {
            "tags": []
          },
          "execution_count": 17
        }
      ]
    },
    {
      "cell_type": "markdown",
      "metadata": {
        "id": "LN7KBrZR6KZM"
      },
      "source": [
        "* There are only 3 missing values, take a look at these rows"
      ]
    },
    {
      "cell_type": "code",
      "metadata": {
        "colab": {
          "base_uri": "https://localhost:8080/",
          "height": 141
        },
        "id": "xz2NFuJx6CT-",
        "outputId": "c63527f2-0c33-4917-805a-e1f1b0724abb"
      },
      "source": [
        "dataset1[dataset1.isna().any(axis=1)]"
      ],
      "execution_count": 19,
      "outputs": [
        {
          "output_type": "execute_result",
          "data": {
            "text/html": [
              "<div>\n",
              "<style scoped>\n",
              "    .dataframe tbody tr th:only-of-type {\n",
              "        vertical-align: middle;\n",
              "    }\n",
              "\n",
              "    .dataframe tbody tr th {\n",
              "        vertical-align: top;\n",
              "    }\n",
              "\n",
              "    .dataframe thead th {\n",
              "        text-align: right;\n",
              "    }\n",
              "</style>\n",
              "<table border=\"1\" class=\"dataframe\">\n",
              "  <thead>\n",
              "    <tr style=\"text-align: right;\">\n",
              "      <th></th>\n",
              "      <th>Duration</th>\n",
              "      <th>Date</th>\n",
              "      <th>Pulse</th>\n",
              "      <th>Maxpulse</th>\n",
              "      <th>Calories</th>\n",
              "    </tr>\n",
              "  </thead>\n",
              "  <tbody>\n",
              "    <tr>\n",
              "      <th>18</th>\n",
              "      <td>45</td>\n",
              "      <td>2020-12-18</td>\n",
              "      <td>90</td>\n",
              "      <td>112</td>\n",
              "      <td>NaN</td>\n",
              "    </tr>\n",
              "    <tr>\n",
              "      <th>22</th>\n",
              "      <td>45</td>\n",
              "      <td>NaT</td>\n",
              "      <td>100</td>\n",
              "      <td>119</td>\n",
              "      <td>282.0</td>\n",
              "    </tr>\n",
              "    <tr>\n",
              "      <th>28</th>\n",
              "      <td>60</td>\n",
              "      <td>2020-12-28</td>\n",
              "      <td>103</td>\n",
              "      <td>132</td>\n",
              "      <td>NaN</td>\n",
              "    </tr>\n",
              "  </tbody>\n",
              "</table>\n",
              "</div>"
            ],
            "text/plain": [
              "    Duration       Date  Pulse  Maxpulse  Calories\n",
              "18        45 2020-12-18     90       112       NaN\n",
              "22        45        NaT    100       119     282.0\n",
              "28        60 2020-12-28    103       132       NaN"
            ]
          },
          "metadata": {
            "tags": []
          },
          "execution_count": 19
        }
      ]
    },
    {
      "cell_type": "markdown",
      "metadata": {
        "id": "OGmnVhhd8cW8"
      },
      "source": [
        "* The missing value in the date column can't be filled or replaced with anything, this information seems to be key for the record to mean anything so we can drop the row\n",
        "* Once this is removed  fill the missing values with an appropriate statistic (use `.describe()` to inspect and decide)"
      ]
    },
    {
      "cell_type": "code",
      "metadata": {
        "colab": {
          "base_uri": "https://localhost:8080/",
          "height": 294
        },
        "id": "co8kEAue8Kai",
        "outputId": "27c460bb-241e-465b-8c3b-15b76dd46ef1"
      },
      "source": [
        "dataset1.dropna(subset=['Date'], inplace=True)\n",
        "dataset1.describe()"
      ],
      "execution_count": 20,
      "outputs": [
        {
          "output_type": "execute_result",
          "data": {
            "text/html": [
              "<div>\n",
              "<style scoped>\n",
              "    .dataframe tbody tr th:only-of-type {\n",
              "        vertical-align: middle;\n",
              "    }\n",
              "\n",
              "    .dataframe tbody tr th {\n",
              "        vertical-align: top;\n",
              "    }\n",
              "\n",
              "    .dataframe thead th {\n",
              "        text-align: right;\n",
              "    }\n",
              "</style>\n",
              "<table border=\"1\" class=\"dataframe\">\n",
              "  <thead>\n",
              "    <tr style=\"text-align: right;\">\n",
              "      <th></th>\n",
              "      <th>Duration</th>\n",
              "      <th>Pulse</th>\n",
              "      <th>Maxpulse</th>\n",
              "      <th>Calories</th>\n",
              "    </tr>\n",
              "  </thead>\n",
              "  <tbody>\n",
              "    <tr>\n",
              "      <th>count</th>\n",
              "      <td>30.000000</td>\n",
              "      <td>30.000000</td>\n",
              "      <td>30.000000</td>\n",
              "      <td>28.000000</td>\n",
              "    </tr>\n",
              "    <tr>\n",
              "      <th>mean</th>\n",
              "      <td>69.500000</td>\n",
              "      <td>103.733333</td>\n",
              "      <td>129.100000</td>\n",
              "      <td>307.417857</td>\n",
              "    </tr>\n",
              "    <tr>\n",
              "      <th>std</th>\n",
              "      <td>72.258516</td>\n",
              "      <td>8.042702</td>\n",
              "      <td>13.215325</td>\n",
              "      <td>67.412594</td>\n",
              "    </tr>\n",
              "    <tr>\n",
              "      <th>min</th>\n",
              "      <td>30.000000</td>\n",
              "      <td>90.000000</td>\n",
              "      <td>101.000000</td>\n",
              "      <td>195.100000</td>\n",
              "    </tr>\n",
              "    <tr>\n",
              "      <th>25%</th>\n",
              "      <td>60.000000</td>\n",
              "      <td>100.000000</td>\n",
              "      <td>120.750000</td>\n",
              "      <td>250.525000</td>\n",
              "    </tr>\n",
              "    <tr>\n",
              "      <th>50%</th>\n",
              "      <td>60.000000</td>\n",
              "      <td>103.000000</td>\n",
              "      <td>128.500000</td>\n",
              "      <td>300.000000</td>\n",
              "    </tr>\n",
              "    <tr>\n",
              "      <th>75%</th>\n",
              "      <td>60.000000</td>\n",
              "      <td>107.500000</td>\n",
              "      <td>132.750000</td>\n",
              "      <td>350.025000</td>\n",
              "    </tr>\n",
              "    <tr>\n",
              "      <th>max</th>\n",
              "      <td>450.000000</td>\n",
              "      <td>130.000000</td>\n",
              "      <td>175.000000</td>\n",
              "      <td>479.000000</td>\n",
              "    </tr>\n",
              "  </tbody>\n",
              "</table>\n",
              "</div>"
            ],
            "text/plain": [
              "         Duration       Pulse    Maxpulse    Calories\n",
              "count   30.000000   30.000000   30.000000   28.000000\n",
              "mean    69.500000  103.733333  129.100000  307.417857\n",
              "std     72.258516    8.042702   13.215325   67.412594\n",
              "min     30.000000   90.000000  101.000000  195.100000\n",
              "25%     60.000000  100.000000  120.750000  250.525000\n",
              "50%     60.000000  103.000000  128.500000  300.000000\n",
              "75%     60.000000  107.500000  132.750000  350.025000\n",
              "max    450.000000  130.000000  175.000000  479.000000"
            ]
          },
          "metadata": {
            "tags": []
          },
          "execution_count": 20
        }
      ]
    },
    {
      "cell_type": "markdown",
      "metadata": {
        "id": "TFmpOFV1-WAK"
      },
      "source": [
        "* The mean and median seem to be fairly similar in all the numeric values"
      ]
    },
    {
      "cell_type": "code",
      "metadata": {
        "colab": {
          "base_uri": "https://localhost:8080/",
          "height": 525
        },
        "id": "zB9I4nis-TtH",
        "outputId": "ab34df18-6a09-4915-b2f5-67bc8de5d1b6"
      },
      "source": [
        "clean_dataset1 = dataset1.copy()\n",
        "calories_mean = clean_dataset1.Calories.mean()\n",
        "clean_dataset1.Calories = clean_dataset1.Calories.fillna(calories_mean)\n",
        "display(clean_dataset1.info(), clean_dataset1.describe())"
      ],
      "execution_count": 21,
      "outputs": [
        {
          "output_type": "stream",
          "text": [
            "<class 'pandas.core.frame.DataFrame'>\n",
            "Int64Index: 30 entries, 0 to 31\n",
            "Data columns (total 5 columns):\n",
            " #   Column    Non-Null Count  Dtype         \n",
            "---  ------    --------------  -----         \n",
            " 0   Duration  30 non-null     int64         \n",
            " 1   Date      30 non-null     datetime64[ns]\n",
            " 2   Pulse     30 non-null     int64         \n",
            " 3   Maxpulse  30 non-null     int64         \n",
            " 4   Calories  30 non-null     float64       \n",
            "dtypes: datetime64[ns](1), float64(1), int64(3)\n",
            "memory usage: 1.4 KB\n"
          ],
          "name": "stdout"
        },
        {
          "output_type": "display_data",
          "data": {
            "text/plain": [
              "None"
            ]
          },
          "metadata": {
            "tags": []
          }
        },
        {
          "output_type": "display_data",
          "data": {
            "text/html": [
              "<div>\n",
              "<style scoped>\n",
              "    .dataframe tbody tr th:only-of-type {\n",
              "        vertical-align: middle;\n",
              "    }\n",
              "\n",
              "    .dataframe tbody tr th {\n",
              "        vertical-align: top;\n",
              "    }\n",
              "\n",
              "    .dataframe thead th {\n",
              "        text-align: right;\n",
              "    }\n",
              "</style>\n",
              "<table border=\"1\" class=\"dataframe\">\n",
              "  <thead>\n",
              "    <tr style=\"text-align: right;\">\n",
              "      <th></th>\n",
              "      <th>Duration</th>\n",
              "      <th>Pulse</th>\n",
              "      <th>Maxpulse</th>\n",
              "      <th>Calories</th>\n",
              "    </tr>\n",
              "  </thead>\n",
              "  <tbody>\n",
              "    <tr>\n",
              "      <th>count</th>\n",
              "      <td>30.000000</td>\n",
              "      <td>30.000000</td>\n",
              "      <td>30.000000</td>\n",
              "      <td>30.000000</td>\n",
              "    </tr>\n",
              "    <tr>\n",
              "      <th>mean</th>\n",
              "      <td>69.500000</td>\n",
              "      <td>103.733333</td>\n",
              "      <td>129.100000</td>\n",
              "      <td>307.417857</td>\n",
              "    </tr>\n",
              "    <tr>\n",
              "      <th>std</th>\n",
              "      <td>72.258516</td>\n",
              "      <td>8.042702</td>\n",
              "      <td>13.215325</td>\n",
              "      <td>65.046498</td>\n",
              "    </tr>\n",
              "    <tr>\n",
              "      <th>min</th>\n",
              "      <td>30.000000</td>\n",
              "      <td>90.000000</td>\n",
              "      <td>101.000000</td>\n",
              "      <td>195.100000</td>\n",
              "    </tr>\n",
              "    <tr>\n",
              "      <th>25%</th>\n",
              "      <td>60.000000</td>\n",
              "      <td>100.000000</td>\n",
              "      <td>120.750000</td>\n",
              "      <td>251.350000</td>\n",
              "    </tr>\n",
              "    <tr>\n",
              "      <th>50%</th>\n",
              "      <td>60.000000</td>\n",
              "      <td>103.000000</td>\n",
              "      <td>128.500000</td>\n",
              "      <td>300.000000</td>\n",
              "    </tr>\n",
              "    <tr>\n",
              "      <th>75%</th>\n",
              "      <td>60.000000</td>\n",
              "      <td>107.500000</td>\n",
              "      <td>132.750000</td>\n",
              "      <td>343.975000</td>\n",
              "    </tr>\n",
              "    <tr>\n",
              "      <th>max</th>\n",
              "      <td>450.000000</td>\n",
              "      <td>130.000000</td>\n",
              "      <td>175.000000</td>\n",
              "      <td>479.000000</td>\n",
              "    </tr>\n",
              "  </tbody>\n",
              "</table>\n",
              "</div>"
            ],
            "text/plain": [
              "         Duration       Pulse    Maxpulse    Calories\n",
              "count   30.000000   30.000000   30.000000   30.000000\n",
              "mean    69.500000  103.733333  129.100000  307.417857\n",
              "std     72.258516    8.042702   13.215325   65.046498\n",
              "min     30.000000   90.000000  101.000000  195.100000\n",
              "25%     60.000000  100.000000  120.750000  251.350000\n",
              "50%     60.000000  103.000000  128.500000  300.000000\n",
              "75%     60.000000  107.500000  132.750000  343.975000\n",
              "max    450.000000  130.000000  175.000000  479.000000"
            ]
          },
          "metadata": {
            "tags": []
          }
        }
      ]
    },
    {
      "cell_type": "code",
      "metadata": {
        "colab": {
          "base_uri": "https://localhost:8080/",
          "height": 17
        },
        "id": "eEIWZrxWeINo",
        "outputId": "d365996f-dd98-429d-8521-5f8f0118ef07"
      },
      "source": [
        "from google.colab import files\n",
        "clean_dataset1.to_csv('dataset1.csv')\n",
        "files.download('dataset1.csv')"
      ],
      "execution_count": null,
      "outputs": [
        {
          "output_type": "display_data",
          "data": {
            "application/javascript": [
              "\n",
              "    async function download(id, filename, size) {\n",
              "      if (!google.colab.kernel.accessAllowed) {\n",
              "        return;\n",
              "      }\n",
              "      const div = document.createElement('div');\n",
              "      const label = document.createElement('label');\n",
              "      label.textContent = `Downloading \"${filename}\": `;\n",
              "      div.appendChild(label);\n",
              "      const progress = document.createElement('progress');\n",
              "      progress.max = size;\n",
              "      div.appendChild(progress);\n",
              "      document.body.appendChild(div);\n",
              "\n",
              "      const buffers = [];\n",
              "      let downloaded = 0;\n",
              "\n",
              "      const channel = await google.colab.kernel.comms.open(id);\n",
              "      // Send a message to notify the kernel that we're ready.\n",
              "      channel.send({})\n",
              "\n",
              "      for await (const message of channel.messages) {\n",
              "        // Send a message to notify the kernel that we're ready.\n",
              "        channel.send({})\n",
              "        if (message.buffers) {\n",
              "          for (const buffer of message.buffers) {\n",
              "            buffers.push(buffer);\n",
              "            downloaded += buffer.byteLength;\n",
              "            progress.value = downloaded;\n",
              "          }\n",
              "        }\n",
              "      }\n",
              "      const blob = new Blob(buffers, {type: 'application/binary'});\n",
              "      const a = document.createElement('a');\n",
              "      a.href = window.URL.createObjectURL(blob);\n",
              "      a.download = filename;\n",
              "      div.appendChild(a);\n",
              "      a.click();\n",
              "      div.remove();\n",
              "    }\n",
              "  "
            ],
            "text/plain": [
              "<IPython.core.display.Javascript object>"
            ]
          },
          "metadata": {
            "tags": []
          }
        },
        {
          "output_type": "display_data",
          "data": {
            "application/javascript": [
              "download(\"download_5206ce72-ade3-4206-8f9e-bed774fd2ae9\", \"dataset1.csv\", 1010)"
            ],
            "text/plain": [
              "<IPython.core.display.Javascript object>"
            ]
          },
          "metadata": {
            "tags": []
          }
        }
      ]
    },
    {
      "cell_type": "markdown",
      "metadata": {
        "id": "blitvvRwGi_A"
      },
      "source": [
        "### Data set 2 - Presidential election voting\n",
        "---\n",
        "\n"
      ]
    },
    {
      "cell_type": "code",
      "metadata": {
        "id": "KT0Ybc2kGnV-",
        "colab": {
          "base_uri": "https://localhost:8080/",
          "height": 305
        },
        "outputId": "4158ef87-760b-4d44-e0b3-82875ecf4a2f"
      },
      "source": [
        "import pandas as pd\n",
        "url2_raw = 'https://raw.githubusercontent.com/futureCodersSE/working-with-data/main/Data%20sets/Data%20Cleaning%20Data%20Sets/presDirty.csv'\n",
        "dataset2 = pd.read_csv(url2_raw)\n",
        "dataset2.head()"
      ],
      "execution_count": 23,
      "outputs": [
        {
          "output_type": "execute_result",
          "data": {
            "text/html": [
              "<div>\n",
              "<style scoped>\n",
              "    .dataframe tbody tr th:only-of-type {\n",
              "        vertical-align: middle;\n",
              "    }\n",
              "\n",
              "    .dataframe tbody tr th {\n",
              "        vertical-align: top;\n",
              "    }\n",
              "\n",
              "    .dataframe thead th {\n",
              "        text-align: right;\n",
              "    }\n",
              "</style>\n",
              "<table border=\"1\" class=\"dataframe\">\n",
              "  <thead>\n",
              "    <tr style=\"text-align: right;\">\n",
              "      <th></th>\n",
              "      <th>cycle</th>\n",
              "      <th>branch</th>\n",
              "      <th>model</th>\n",
              "      <th>modeldate</th>\n",
              "      <th>candidate_inc</th>\n",
              "      <th>candidate_chal</th>\n",
              "      <th>nat_voteshare_other_hi</th>\n",
              "      <th>national_voteshare_inc_lo</th>\n",
              "      <th>national_voteshare_chal_lo</th>\n",
              "      <th>national_voteshare_3rd_lo</th>\n",
              "      <th>nat_voteshare_other_lo</th>\n",
              "      <th>national_turnout</th>\n",
              "      <th>national_turnout_hi</th>\n",
              "      <th>national_turnout_lo</th>\n",
              "      <th>timestamp</th>\n",
              "      <th>simulations</th>\n",
              "    </tr>\n",
              "  </thead>\n",
              "  <tbody>\n",
              "    <tr>\n",
              "      <th>0</th>\n",
              "      <td>2020</td>\n",
              "      <td>President</td>\n",
              "      <td>polls-plus</td>\n",
              "      <td>11/03/2020</td>\n",
              "      <td>Trump</td>\n",
              "      <td>Biden</td>\n",
              "      <td>1.842986</td>\n",
              "      <td>42.91262</td>\n",
              "      <td>50.87952</td>\n",
              "      <td>NaN</td>\n",
              "      <td>0.724433</td>\n",
              "      <td>157972048.0</td>\n",
              "      <td>168424640.0</td>\n",
              "      <td>147487920.0</td>\n",
              "      <td>03/11/2020 00:00</td>\n",
              "      <td>40000</td>\n",
              "    </tr>\n",
              "    <tr>\n",
              "      <th>1</th>\n",
              "      <td>2020</td>\n",
              "      <td>President</td>\n",
              "      <td>polls-plus</td>\n",
              "      <td>11/02/2020</td>\n",
              "      <td>Trump</td>\n",
              "      <td>Biden</td>\n",
              "      <td>1.842986</td>\n",
              "      <td>42.91348</td>\n",
              "      <td>50.88025</td>\n",
              "      <td>NaN</td>\n",
              "      <td>0.724433</td>\n",
              "      <td>157972048.0</td>\n",
              "      <td>168424640.0</td>\n",
              "      <td>147487920.0</td>\n",
              "      <td>02/11/2020 23:45</td>\n",
              "      <td>40000</td>\n",
              "    </tr>\n",
              "    <tr>\n",
              "      <th>2</th>\n",
              "      <td>2020</td>\n",
              "      <td>President</td>\n",
              "      <td>polls-plus</td>\n",
              "      <td>11/02/2020</td>\n",
              "      <td>Trump</td>\n",
              "      <td>Biden</td>\n",
              "      <td>1.842986</td>\n",
              "      <td>42.91348</td>\n",
              "      <td>50.88025</td>\n",
              "      <td>NaN</td>\n",
              "      <td>0.724433</td>\n",
              "      <td>157972048.0</td>\n",
              "      <td>168424640.0</td>\n",
              "      <td>147487920.0</td>\n",
              "      <td>02/11/2020 23:45</td>\n",
              "      <td>40000</td>\n",
              "    </tr>\n",
              "    <tr>\n",
              "      <th>3</th>\n",
              "      <td>2020</td>\n",
              "      <td>President</td>\n",
              "      <td>polls-plus</td>\n",
              "      <td>10/31/2020</td>\n",
              "      <td>Trump</td>\n",
              "      <td>Biden</td>\n",
              "      <td>1.835479</td>\n",
              "      <td>42.98096</td>\n",
              "      <td>50.74764</td>\n",
              "      <td>NaN</td>\n",
              "      <td>0.689802</td>\n",
              "      <td>158044784.0</td>\n",
              "      <td>168497376.0</td>\n",
              "      <td>147560672.0</td>\n",
              "      <td>31/10/2020 22:23</td>\n",
              "      <td>40000</td>\n",
              "    </tr>\n",
              "    <tr>\n",
              "      <th>4</th>\n",
              "      <td>2020</td>\n",
              "      <td>President</td>\n",
              "      <td>polls-plus</td>\n",
              "      <td>10/30/2020</td>\n",
              "      <td>Trump</td>\n",
              "      <td>Biden</td>\n",
              "      <td>1.847821</td>\n",
              "      <td>42.92510</td>\n",
              "      <td>50.72821</td>\n",
              "      <td>NaN</td>\n",
              "      <td>0.692837</td>\n",
              "      <td>156723120.0</td>\n",
              "      <td>167175712.0</td>\n",
              "      <td>146239008.0</td>\n",
              "      <td>30/10/2020 21:34</td>\n",
              "      <td>40000</td>\n",
              "    </tr>\n",
              "  </tbody>\n",
              "</table>\n",
              "</div>"
            ],
            "text/plain": [
              "   cycle     branch  ...         timestamp simulations\n",
              "0   2020  President  ...  03/11/2020 00:00       40000\n",
              "1   2020  President  ...  02/11/2020 23:45       40000\n",
              "2   2020  President  ...  02/11/2020 23:45       40000\n",
              "3   2020  President  ...  31/10/2020 22:23       40000\n",
              "4   2020  President  ...  30/10/2020 21:34       40000\n",
              "\n",
              "[5 rows x 16 columns]"
            ]
          },
          "metadata": {
            "tags": []
          },
          "execution_count": 23
        }
      ]
    },
    {
      "cell_type": "markdown",
      "metadata": {
        "id": "2rUY8PtEJSab"
      },
      "source": [
        "* Start by inspecting the data"
      ]
    },
    {
      "cell_type": "code",
      "metadata": {
        "colab": {
          "base_uri": "https://localhost:8080/"
        },
        "id": "jef-MFD3JV0O",
        "outputId": "c3514705-b478-4ae7-b335-ac32129d4bfb"
      },
      "source": [
        "dataset2.info()"
      ],
      "execution_count": 24,
      "outputs": [
        {
          "output_type": "stream",
          "text": [
            "<class 'pandas.core.frame.DataFrame'>\n",
            "RangeIndex: 156 entries, 0 to 155\n",
            "Data columns (total 16 columns):\n",
            " #   Column                      Non-Null Count  Dtype  \n",
            "---  ------                      --------------  -----  \n",
            " 0   cycle                       156 non-null    int64  \n",
            " 1   branch                      156 non-null    object \n",
            " 2   model                       156 non-null    object \n",
            " 3   modeldate                   156 non-null    object \n",
            " 4   candidate_inc               156 non-null    object \n",
            " 5   candidate_chal              156 non-null    object \n",
            " 6   nat_voteshare_other_hi      156 non-null    float64\n",
            " 7   national_voteshare_inc_lo   156 non-null    float64\n",
            " 8   national_voteshare_chal_lo  156 non-null    float64\n",
            " 9   national_voteshare_3rd_lo   0 non-null      float64\n",
            " 10  nat_voteshare_other_lo      156 non-null    float64\n",
            " 11  national_turnout            59 non-null     float64\n",
            " 12  national_turnout_hi         59 non-null     float64\n",
            " 13  national_turnout_lo         59 non-null     float64\n",
            " 14  timestamp                   156 non-null    object \n",
            " 15  simulations                 156 non-null    int64  \n",
            "dtypes: float64(8), int64(2), object(6)\n",
            "memory usage: 19.6+ KB\n"
          ],
          "name": "stdout"
        }
      ]
    },
    {
      "cell_type": "markdown",
      "metadata": {
        "id": "OcG4V5uENoyB"
      },
      "source": [
        "* There is an empty column that can be deleted. \n",
        "* There are another 3 columns with roughly 2/3 on its values missing. Take a look at the statistics."
      ]
    },
    {
      "cell_type": "code",
      "metadata": {
        "colab": {
          "base_uri": "https://localhost:8080/",
          "height": 314
        },
        "id": "WzwoGOZpOhtY",
        "outputId": "b973fbac-c061-4f39-faee-044223efef3e"
      },
      "source": [
        "dataset2.drop(columns=['national_voteshare_3rd_lo'], inplace=True)\n",
        "dataset2.describe()"
      ],
      "execution_count": 25,
      "outputs": [
        {
          "output_type": "execute_result",
          "data": {
            "text/html": [
              "<div>\n",
              "<style scoped>\n",
              "    .dataframe tbody tr th:only-of-type {\n",
              "        vertical-align: middle;\n",
              "    }\n",
              "\n",
              "    .dataframe tbody tr th {\n",
              "        vertical-align: top;\n",
              "    }\n",
              "\n",
              "    .dataframe thead th {\n",
              "        text-align: right;\n",
              "    }\n",
              "</style>\n",
              "<table border=\"1\" class=\"dataframe\">\n",
              "  <thead>\n",
              "    <tr style=\"text-align: right;\">\n",
              "      <th></th>\n",
              "      <th>cycle</th>\n",
              "      <th>nat_voteshare_other_hi</th>\n",
              "      <th>national_voteshare_inc_lo</th>\n",
              "      <th>national_voteshare_chal_lo</th>\n",
              "      <th>nat_voteshare_other_lo</th>\n",
              "      <th>national_turnout</th>\n",
              "      <th>national_turnout_hi</th>\n",
              "      <th>national_turnout_lo</th>\n",
              "      <th>simulations</th>\n",
              "    </tr>\n",
              "  </thead>\n",
              "  <tbody>\n",
              "    <tr>\n",
              "      <th>count</th>\n",
              "      <td>156.0</td>\n",
              "      <td>156.000000</td>\n",
              "      <td>156.000000</td>\n",
              "      <td>156.000000</td>\n",
              "      <td>156.000000</td>\n",
              "      <td>5.900000e+01</td>\n",
              "      <td>5.900000e+01</td>\n",
              "      <td>5.900000e+01</td>\n",
              "      <td>156.0</td>\n",
              "    </tr>\n",
              "    <tr>\n",
              "      <th>mean</th>\n",
              "      <td>2020.0</td>\n",
              "      <td>2.004223</td>\n",
              "      <td>41.635853</td>\n",
              "      <td>48.650009</td>\n",
              "      <td>0.681118</td>\n",
              "      <td>1.445031e+08</td>\n",
              "      <td>1.545415e+08</td>\n",
              "      <td>1.343265e+08</td>\n",
              "      <td>40000.0</td>\n",
              "    </tr>\n",
              "    <tr>\n",
              "      <th>std</th>\n",
              "      <td>0.0</td>\n",
              "      <td>0.061918</td>\n",
              "      <td>0.626373</td>\n",
              "      <td>0.973757</td>\n",
              "      <td>0.016647</td>\n",
              "      <td>5.992601e+06</td>\n",
              "      <td>6.079481e+06</td>\n",
              "      <td>5.684473e+06</td>\n",
              "      <td>0.0</td>\n",
              "    </tr>\n",
              "    <tr>\n",
              "      <th>min</th>\n",
              "      <td>2020.0</td>\n",
              "      <td>1.835479</td>\n",
              "      <td>40.595360</td>\n",
              "      <td>47.484140</td>\n",
              "      <td>0.649471</td>\n",
              "      <td>1.410000e+08</td>\n",
              "      <td>1.510000e+08</td>\n",
              "      <td>1.310000e+08</td>\n",
              "      <td>40000.0</td>\n",
              "    </tr>\n",
              "    <tr>\n",
              "      <th>25%</th>\n",
              "      <td>2020.0</td>\n",
              "      <td>1.974398</td>\n",
              "      <td>41.035355</td>\n",
              "      <td>47.892697</td>\n",
              "      <td>0.668070</td>\n",
              "      <td>1.410000e+08</td>\n",
              "      <td>1.510000e+08</td>\n",
              "      <td>1.310000e+08</td>\n",
              "      <td>40000.0</td>\n",
              "    </tr>\n",
              "    <tr>\n",
              "      <th>50%</th>\n",
              "      <td>2020.0</td>\n",
              "      <td>2.030170</td>\n",
              "      <td>41.612205</td>\n",
              "      <td>48.246395</td>\n",
              "      <td>0.677246</td>\n",
              "      <td>1.410000e+08</td>\n",
              "      <td>1.510000e+08</td>\n",
              "      <td>1.310000e+08</td>\n",
              "      <td>40000.0</td>\n",
              "    </tr>\n",
              "    <tr>\n",
              "      <th>75%</th>\n",
              "      <td>2020.0</td>\n",
              "      <td>2.048704</td>\n",
              "      <td>42.110017</td>\n",
              "      <td>49.111713</td>\n",
              "      <td>0.693379</td>\n",
              "      <td>1.430000e+08</td>\n",
              "      <td>1.530000e+08</td>\n",
              "      <td>1.330000e+08</td>\n",
              "      <td>40000.0</td>\n",
              "    </tr>\n",
              "    <tr>\n",
              "      <th>max</th>\n",
              "      <td>2020.0</td>\n",
              "      <td>2.085074</td>\n",
              "      <td>42.980960</td>\n",
              "      <td>50.880250</td>\n",
              "      <td>0.724433</td>\n",
              "      <td>1.580448e+08</td>\n",
              "      <td>1.684974e+08</td>\n",
              "      <td>1.475607e+08</td>\n",
              "      <td>40000.0</td>\n",
              "    </tr>\n",
              "  </tbody>\n",
              "</table>\n",
              "</div>"
            ],
            "text/plain": [
              "        cycle  nat_voteshare_other_hi  ...  national_turnout_lo  simulations\n",
              "count   156.0              156.000000  ...         5.900000e+01        156.0\n",
              "mean   2020.0                2.004223  ...         1.343265e+08      40000.0\n",
              "std       0.0                0.061918  ...         5.684473e+06          0.0\n",
              "min    2020.0                1.835479  ...         1.310000e+08      40000.0\n",
              "25%    2020.0                1.974398  ...         1.310000e+08      40000.0\n",
              "50%    2020.0                2.030170  ...         1.310000e+08      40000.0\n",
              "75%    2020.0                2.048704  ...         1.330000e+08      40000.0\n",
              "max    2020.0                2.085074  ...         1.475607e+08      40000.0\n",
              "\n",
              "[8 rows x 9 columns]"
            ]
          },
          "metadata": {
            "tags": []
          },
          "execution_count": 25
        }
      ]
    },
    {
      "cell_type": "markdown",
      "metadata": {
        "id": "GduZvA0FPwN3"
      },
      "source": [
        "--> in the 3 columns the median value is equal to its minimum value, but the mean is higher than the upper quartile. Inspect more the dataset before making a decision."
      ]
    },
    {
      "cell_type": "markdown",
      "metadata": {
        "id": "Y0glfoPQRDqq"
      },
      "source": [
        "* Many of this columns don't seem to have the most efficient datatype. Look at the number of different values on each columns to see if they should be treated as categories"
      ]
    },
    {
      "cell_type": "code",
      "metadata": {
        "colab": {
          "base_uri": "https://localhost:8080/"
        },
        "id": "67plI0CZRkmq",
        "outputId": "90c0c2c3-d394-43ec-e942-9c8f159dcd33"
      },
      "source": [
        "for column in dataset2.columns:\n",
        "  print(column, ': ',\n",
        "        len(dataset2[column].unique()),\n",
        "        'different values')"
      ],
      "execution_count": 26,
      "outputs": [
        {
          "output_type": "stream",
          "text": [
            "cycle :  1 different values\n",
            "branch :  1 different values\n",
            "model :  1 different values\n",
            "modeldate :  155 different values\n",
            "candidate_inc :  2 different values\n",
            "candidate_chal :  1 different values\n",
            "nat_voteshare_other_hi :  154 different values\n",
            "national_voteshare_inc_lo :  155 different values\n",
            "national_voteshare_chal_lo :  155 different values\n",
            "nat_voteshare_other_lo :  154 different values\n",
            "national_turnout :  8 different values\n",
            "national_turnout_hi :  8 different values\n",
            "national_turnout_lo :  8 different values\n",
            "timestamp :  136 different values\n",
            "simulations :  1 different values\n"
          ],
          "name": "stdout"
        }
      ]
    },
    {
      "cell_type": "markdown",
      "metadata": {
        "id": "RZm2fryMSnNf"
      },
      "source": [
        "* All the columns with just 1 value could also be deleted as they don't provide valuable information, but keep the original dataset separated in case it's needed.\n",
        "* look at the 2 values of 'candidate_inc' \n"
      ]
    },
    {
      "cell_type": "code",
      "metadata": {
        "id": "n1KkFjnASvSG"
      },
      "source": [
        "clean_dataset2 = dataset2.copy()\n",
        "clean_dataset2.drop(columns=['cycle', 'branch', 'model', 'candidate_chal', 'simulations'], inplace=True)"
      ],
      "execution_count": 27,
      "outputs": []
    },
    {
      "cell_type": "code",
      "metadata": {
        "colab": {
          "base_uri": "https://localhost:8080/"
        },
        "id": "2P9OI7KnVU8P",
        "outputId": "38a6999d-13ec-4f52-fb28-c9310063c449"
      },
      "source": [
        "clean_dataset2.candidate_inc.unique()"
      ],
      "execution_count": 28,
      "outputs": [
        {
          "output_type": "execute_result",
          "data": {
            "text/plain": [
              "array(['Trump', ' '], dtype=object)"
            ]
          },
          "metadata": {
            "tags": []
          },
          "execution_count": 28
        }
      ]
    },
    {
      "cell_type": "code",
      "metadata": {
        "colab": {
          "base_uri": "https://localhost:8080/"
        },
        "id": "IFwBBObGVdyo",
        "outputId": "7724bfa6-14a3-4844-8b7f-0a1777a38b2e"
      },
      "source": [
        "clean_dataset2.candidate_inc.value_counts()"
      ],
      "execution_count": 29,
      "outputs": [
        {
          "output_type": "execute_result",
          "data": {
            "text/plain": [
              "Trump    154\n",
              "           2\n",
              "Name: candidate_inc, dtype: int64"
            ]
          },
          "metadata": {
            "tags": []
          },
          "execution_count": 29
        }
      ]
    },
    {
      "cell_type": "markdown",
      "metadata": {
        "id": "9ue8wG5UVrWW"
      },
      "source": [
        "--> so these couple of 'blanks' are actually unrecognized missing values"
      ]
    },
    {
      "cell_type": "markdown",
      "metadata": {
        "id": "vyYYljR5WKdz"
      },
      "source": [
        "* convert the 'timestamp' and the 'modeldate' columns into the correct pandas type and calculate the range of time of the data"
      ]
    },
    {
      "cell_type": "code",
      "metadata": {
        "colab": {
          "base_uri": "https://localhost:8080/"
        },
        "id": "esLkQb4-WeFN",
        "outputId": "82977034-c509-48a3-af71-a4bfbe20cdd3"
      },
      "source": [
        "clean_dataset2.timestamp = pd.to_datetime(clean_dataset2.timestamp)\n",
        "print('The data was collected from', clean_dataset2.timestamp.min(), 'to', clean_dataset2.timestamp.max())"
      ],
      "execution_count": 30,
      "outputs": [
        {
          "output_type": "stream",
          "text": [
            "The data was collected from 2020-01-09 19:06:00 to 2020-12-10 21:07:00\n"
          ],
          "name": "stdout"
        }
      ]
    },
    {
      "cell_type": "markdown",
      "metadata": {
        "id": "XWbidAcKZjuw"
      },
      "source": [
        "--> This suggest the missing data in candidate_inc is also 'Trump' and there is a unique value in the column so it can be also eliminated"
      ]
    },
    {
      "cell_type": "code",
      "metadata": {
        "colab": {
          "base_uri": "https://localhost:8080/",
          "height": 202
        },
        "id": "uUs5smYP_iuT",
        "outputId": "07f31e41-4879-41cb-c111-af550a1710ff"
      },
      "source": [
        "clean_dataset2[['modeldate', 'timestamp']].head()"
      ],
      "execution_count": 31,
      "outputs": [
        {
          "output_type": "execute_result",
          "data": {
            "text/html": [
              "<div>\n",
              "<style scoped>\n",
              "    .dataframe tbody tr th:only-of-type {\n",
              "        vertical-align: middle;\n",
              "    }\n",
              "\n",
              "    .dataframe tbody tr th {\n",
              "        vertical-align: top;\n",
              "    }\n",
              "\n",
              "    .dataframe thead th {\n",
              "        text-align: right;\n",
              "    }\n",
              "</style>\n",
              "<table border=\"1\" class=\"dataframe\">\n",
              "  <thead>\n",
              "    <tr style=\"text-align: right;\">\n",
              "      <th></th>\n",
              "      <th>modeldate</th>\n",
              "      <th>timestamp</th>\n",
              "    </tr>\n",
              "  </thead>\n",
              "  <tbody>\n",
              "    <tr>\n",
              "      <th>0</th>\n",
              "      <td>11/03/2020</td>\n",
              "      <td>2020-03-11 00:00:00</td>\n",
              "    </tr>\n",
              "    <tr>\n",
              "      <th>1</th>\n",
              "      <td>11/02/2020</td>\n",
              "      <td>2020-02-11 23:45:00</td>\n",
              "    </tr>\n",
              "    <tr>\n",
              "      <th>2</th>\n",
              "      <td>11/02/2020</td>\n",
              "      <td>2020-02-11 23:45:00</td>\n",
              "    </tr>\n",
              "    <tr>\n",
              "      <th>3</th>\n",
              "      <td>10/31/2020</td>\n",
              "      <td>2020-10-31 22:23:00</td>\n",
              "    </tr>\n",
              "    <tr>\n",
              "      <th>4</th>\n",
              "      <td>10/30/2020</td>\n",
              "      <td>2020-10-30 21:34:00</td>\n",
              "    </tr>\n",
              "  </tbody>\n",
              "</table>\n",
              "</div>"
            ],
            "text/plain": [
              "    modeldate           timestamp\n",
              "0  11/03/2020 2020-03-11 00:00:00\n",
              "1  11/02/2020 2020-02-11 23:45:00\n",
              "2  11/02/2020 2020-02-11 23:45:00\n",
              "3  10/31/2020 2020-10-31 22:23:00\n",
              "4  10/30/2020 2020-10-30 21:34:00"
            ]
          },
          "metadata": {
            "tags": []
          },
          "execution_count": 31
        }
      ]
    },
    {
      "cell_type": "markdown",
      "metadata": {
        "id": "6u1nJqgr_3sP"
      },
      "source": [
        "--> 'modeldate' seems to be the data from the timestamp in US format, so it doesn't provide any information and could be deleted"
      ]
    },
    {
      "cell_type": "code",
      "metadata": {
        "id": "XZIXrbxEZ9ly"
      },
      "source": [
        "clean_dataset2.drop(['candidate_inc', 'modeldate'], axis=1, inplace=True)"
      ],
      "execution_count": 32,
      "outputs": []
    },
    {
      "cell_type": "markdown",
      "metadata": {
        "id": "c2QaOuPmaVmf"
      },
      "source": [
        "* Get more info about the 3 columns that still have missing values"
      ]
    },
    {
      "cell_type": "code",
      "metadata": {
        "id": "NPqd0-HicqSP"
      },
      "source": [
        "clean_dataset2.sort_values('timestamp', inplace=True)"
      ],
      "execution_count": 33,
      "outputs": []
    },
    {
      "cell_type": "code",
      "metadata": {
        "colab": {
          "base_uri": "https://localhost:8080/",
          "height": 314
        },
        "id": "6P1dFhpCaf2c",
        "outputId": "1ea59e7e-2d7c-4fb5-eea9-8ac27b834164"
      },
      "source": [
        "clean_dataset2.groupby('national_turnout').median()"
      ],
      "execution_count": 38,
      "outputs": [
        {
          "output_type": "execute_result",
          "data": {
            "text/html": [
              "<div>\n",
              "<style scoped>\n",
              "    .dataframe tbody tr th:only-of-type {\n",
              "        vertical-align: middle;\n",
              "    }\n",
              "\n",
              "    .dataframe tbody tr th {\n",
              "        vertical-align: top;\n",
              "    }\n",
              "\n",
              "    .dataframe thead th {\n",
              "        text-align: right;\n",
              "    }\n",
              "</style>\n",
              "<table border=\"1\" class=\"dataframe\">\n",
              "  <thead>\n",
              "    <tr style=\"text-align: right;\">\n",
              "      <th></th>\n",
              "      <th>nat_voteshare_other_hi</th>\n",
              "      <th>national_voteshare_inc_lo</th>\n",
              "      <th>national_voteshare_chal_lo</th>\n",
              "      <th>nat_voteshare_other_lo</th>\n",
              "      <th>national_turnout_hi</th>\n",
              "      <th>national_turnout_lo</th>\n",
              "    </tr>\n",
              "    <tr>\n",
              "      <th>national_turnout</th>\n",
              "      <th></th>\n",
              "      <th></th>\n",
              "      <th></th>\n",
              "      <th></th>\n",
              "      <th></th>\n",
              "      <th></th>\n",
              "    </tr>\n",
              "  </thead>\n",
              "  <tbody>\n",
              "    <tr>\n",
              "      <th>141000000.0</th>\n",
              "      <td>1.976343</td>\n",
              "      <td>42.079610</td>\n",
              "      <td>49.089965</td>\n",
              "      <td>0.692156</td>\n",
              "      <td>151000000.0</td>\n",
              "      <td>131000000.0</td>\n",
              "    </tr>\n",
              "    <tr>\n",
              "      <th>143000000.0</th>\n",
              "      <td>1.903847</td>\n",
              "      <td>42.127560</td>\n",
              "      <td>50.480000</td>\n",
              "      <td>0.680205</td>\n",
              "      <td>153000000.0</td>\n",
              "      <td>133000000.0</td>\n",
              "    </tr>\n",
              "    <tr>\n",
              "      <th>146000000.0</th>\n",
              "      <td>1.900200</td>\n",
              "      <td>42.396420</td>\n",
              "      <td>50.503680</td>\n",
              "      <td>0.691971</td>\n",
              "      <td>156000000.0</td>\n",
              "      <td>136000000.0</td>\n",
              "    </tr>\n",
              "    <tr>\n",
              "      <th>154000000.0</th>\n",
              "      <td>1.882668</td>\n",
              "      <td>42.665595</td>\n",
              "      <td>50.564565</td>\n",
              "      <td>0.697410</td>\n",
              "      <td>164000000.0</td>\n",
              "      <td>143000000.0</td>\n",
              "    </tr>\n",
              "    <tr>\n",
              "      <th>156723120.0</th>\n",
              "      <td>1.847821</td>\n",
              "      <td>42.925100</td>\n",
              "      <td>50.728210</td>\n",
              "      <td>0.692837</td>\n",
              "      <td>167175712.0</td>\n",
              "      <td>146239008.0</td>\n",
              "    </tr>\n",
              "    <tr>\n",
              "      <th>157972048.0</th>\n",
              "      <td>1.842986</td>\n",
              "      <td>42.913480</td>\n",
              "      <td>50.880250</td>\n",
              "      <td>0.724433</td>\n",
              "      <td>168424640.0</td>\n",
              "      <td>147487920.0</td>\n",
              "    </tr>\n",
              "    <tr>\n",
              "      <th>158044784.0</th>\n",
              "      <td>1.835479</td>\n",
              "      <td>42.980960</td>\n",
              "      <td>50.747640</td>\n",
              "      <td>0.689802</td>\n",
              "      <td>168497376.0</td>\n",
              "      <td>147560672.0</td>\n",
              "    </tr>\n",
              "  </tbody>\n",
              "</table>\n",
              "</div>"
            ],
            "text/plain": [
              "                  nat_voteshare_other_hi  ...  national_turnout_lo\n",
              "national_turnout                          ...                     \n",
              "141000000.0                     1.976343  ...          131000000.0\n",
              "143000000.0                     1.903847  ...          133000000.0\n",
              "146000000.0                     1.900200  ...          136000000.0\n",
              "154000000.0                     1.882668  ...          143000000.0\n",
              "156723120.0                     1.847821  ...          146239008.0\n",
              "157972048.0                     1.842986  ...          147487920.0\n",
              "158044784.0                     1.835479  ...          147560672.0\n",
              "\n",
              "[7 rows x 6 columns]"
            ]
          },
          "metadata": {
            "tags": []
          },
          "execution_count": 38
        }
      ]
    },
    {
      "cell_type": "code",
      "metadata": {
        "colab": {
          "base_uri": "https://localhost:8080/",
          "height": 314
        },
        "id": "LWefM1y6bCXY",
        "outputId": "219bc8ab-9fc3-44a9-f1b8-9738619cc52c"
      },
      "source": [
        "clean_dataset2.groupby('national_turnout_hi').median()"
      ],
      "execution_count": 39,
      "outputs": [
        {
          "output_type": "execute_result",
          "data": {
            "text/html": [
              "<div>\n",
              "<style scoped>\n",
              "    .dataframe tbody tr th:only-of-type {\n",
              "        vertical-align: middle;\n",
              "    }\n",
              "\n",
              "    .dataframe tbody tr th {\n",
              "        vertical-align: top;\n",
              "    }\n",
              "\n",
              "    .dataframe thead th {\n",
              "        text-align: right;\n",
              "    }\n",
              "</style>\n",
              "<table border=\"1\" class=\"dataframe\">\n",
              "  <thead>\n",
              "    <tr style=\"text-align: right;\">\n",
              "      <th></th>\n",
              "      <th>nat_voteshare_other_hi</th>\n",
              "      <th>national_voteshare_inc_lo</th>\n",
              "      <th>national_voteshare_chal_lo</th>\n",
              "      <th>nat_voteshare_other_lo</th>\n",
              "      <th>national_turnout</th>\n",
              "      <th>national_turnout_lo</th>\n",
              "    </tr>\n",
              "    <tr>\n",
              "      <th>national_turnout_hi</th>\n",
              "      <th></th>\n",
              "      <th></th>\n",
              "      <th></th>\n",
              "      <th></th>\n",
              "      <th></th>\n",
              "      <th></th>\n",
              "    </tr>\n",
              "  </thead>\n",
              "  <tbody>\n",
              "    <tr>\n",
              "      <th>151000000.0</th>\n",
              "      <td>1.976343</td>\n",
              "      <td>42.079610</td>\n",
              "      <td>49.089965</td>\n",
              "      <td>0.692156</td>\n",
              "      <td>141000000.0</td>\n",
              "      <td>131000000.0</td>\n",
              "    </tr>\n",
              "    <tr>\n",
              "      <th>153000000.0</th>\n",
              "      <td>1.903847</td>\n",
              "      <td>42.127560</td>\n",
              "      <td>50.480000</td>\n",
              "      <td>0.680205</td>\n",
              "      <td>143000000.0</td>\n",
              "      <td>133000000.0</td>\n",
              "    </tr>\n",
              "    <tr>\n",
              "      <th>156000000.0</th>\n",
              "      <td>1.900200</td>\n",
              "      <td>42.396420</td>\n",
              "      <td>50.503680</td>\n",
              "      <td>0.691971</td>\n",
              "      <td>146000000.0</td>\n",
              "      <td>136000000.0</td>\n",
              "    </tr>\n",
              "    <tr>\n",
              "      <th>164000000.0</th>\n",
              "      <td>1.882668</td>\n",
              "      <td>42.665595</td>\n",
              "      <td>50.564565</td>\n",
              "      <td>0.697410</td>\n",
              "      <td>154000000.0</td>\n",
              "      <td>143000000.0</td>\n",
              "    </tr>\n",
              "    <tr>\n",
              "      <th>167175712.0</th>\n",
              "      <td>1.847821</td>\n",
              "      <td>42.925100</td>\n",
              "      <td>50.728210</td>\n",
              "      <td>0.692837</td>\n",
              "      <td>156723120.0</td>\n",
              "      <td>146239008.0</td>\n",
              "    </tr>\n",
              "    <tr>\n",
              "      <th>168424640.0</th>\n",
              "      <td>1.842986</td>\n",
              "      <td>42.913480</td>\n",
              "      <td>50.880250</td>\n",
              "      <td>0.724433</td>\n",
              "      <td>157972048.0</td>\n",
              "      <td>147487920.0</td>\n",
              "    </tr>\n",
              "    <tr>\n",
              "      <th>168497376.0</th>\n",
              "      <td>1.835479</td>\n",
              "      <td>42.980960</td>\n",
              "      <td>50.747640</td>\n",
              "      <td>0.689802</td>\n",
              "      <td>158044784.0</td>\n",
              "      <td>147560672.0</td>\n",
              "    </tr>\n",
              "  </tbody>\n",
              "</table>\n",
              "</div>"
            ],
            "text/plain": [
              "                     nat_voteshare_other_hi  ...  national_turnout_lo\n",
              "national_turnout_hi                          ...                     \n",
              "151000000.0                        1.976343  ...          131000000.0\n",
              "153000000.0                        1.903847  ...          133000000.0\n",
              "156000000.0                        1.900200  ...          136000000.0\n",
              "164000000.0                        1.882668  ...          143000000.0\n",
              "167175712.0                        1.847821  ...          146239008.0\n",
              "168424640.0                        1.842986  ...          147487920.0\n",
              "168497376.0                        1.835479  ...          147560672.0\n",
              "\n",
              "[7 rows x 6 columns]"
            ]
          },
          "metadata": {
            "tags": []
          },
          "execution_count": 39
        }
      ]
    },
    {
      "cell_type": "code",
      "metadata": {
        "colab": {
          "base_uri": "https://localhost:8080/",
          "height": 344
        },
        "id": "gXb8DtZmbXe5",
        "outputId": "d3bd9207-2944-4558-d1c5-1220dc6917e4"
      },
      "source": [
        "clean_dataset2.groupby('national_turnout_lo').agg(['min', 'median', 'max'])"
      ],
      "execution_count": 40,
      "outputs": [
        {
          "output_type": "execute_result",
          "data": {
            "text/html": [
              "<div>\n",
              "<style scoped>\n",
              "    .dataframe tbody tr th:only-of-type {\n",
              "        vertical-align: middle;\n",
              "    }\n",
              "\n",
              "    .dataframe tbody tr th {\n",
              "        vertical-align: top;\n",
              "    }\n",
              "\n",
              "    .dataframe thead tr th {\n",
              "        text-align: left;\n",
              "    }\n",
              "\n",
              "    .dataframe thead tr:last-of-type th {\n",
              "        text-align: right;\n",
              "    }\n",
              "</style>\n",
              "<table border=\"1\" class=\"dataframe\">\n",
              "  <thead>\n",
              "    <tr>\n",
              "      <th></th>\n",
              "      <th colspan=\"3\" halign=\"left\">nat_voteshare_other_hi</th>\n",
              "      <th colspan=\"3\" halign=\"left\">national_voteshare_inc_lo</th>\n",
              "      <th colspan=\"3\" halign=\"left\">national_voteshare_chal_lo</th>\n",
              "      <th colspan=\"3\" halign=\"left\">nat_voteshare_other_lo</th>\n",
              "      <th colspan=\"3\" halign=\"left\">national_turnout</th>\n",
              "      <th colspan=\"3\" halign=\"left\">national_turnout_hi</th>\n",
              "    </tr>\n",
              "    <tr>\n",
              "      <th></th>\n",
              "      <th>min</th>\n",
              "      <th>median</th>\n",
              "      <th>max</th>\n",
              "      <th>min</th>\n",
              "      <th>median</th>\n",
              "      <th>max</th>\n",
              "      <th>min</th>\n",
              "      <th>median</th>\n",
              "      <th>max</th>\n",
              "      <th>min</th>\n",
              "      <th>median</th>\n",
              "      <th>max</th>\n",
              "      <th>min</th>\n",
              "      <th>median</th>\n",
              "      <th>max</th>\n",
              "      <th>min</th>\n",
              "      <th>median</th>\n",
              "      <th>max</th>\n",
              "    </tr>\n",
              "    <tr>\n",
              "      <th>national_turnout_lo</th>\n",
              "      <th></th>\n",
              "      <th></th>\n",
              "      <th></th>\n",
              "      <th></th>\n",
              "      <th></th>\n",
              "      <th></th>\n",
              "      <th></th>\n",
              "      <th></th>\n",
              "      <th></th>\n",
              "      <th></th>\n",
              "      <th></th>\n",
              "      <th></th>\n",
              "      <th></th>\n",
              "      <th></th>\n",
              "      <th></th>\n",
              "      <th></th>\n",
              "      <th></th>\n",
              "      <th></th>\n",
              "    </tr>\n",
              "  </thead>\n",
              "  <tbody>\n",
              "    <tr>\n",
              "      <th>131000000.0</th>\n",
              "      <td>1.911543</td>\n",
              "      <td>1.976343</td>\n",
              "      <td>2.030350</td>\n",
              "      <td>41.81036</td>\n",
              "      <td>42.079610</td>\n",
              "      <td>42.44763</td>\n",
              "      <td>48.26233</td>\n",
              "      <td>49.089965</td>\n",
              "      <td>50.29504</td>\n",
              "      <td>0.673267</td>\n",
              "      <td>0.692156</td>\n",
              "      <td>0.713914</td>\n",
              "      <td>141000000.0</td>\n",
              "      <td>141000000.0</td>\n",
              "      <td>141000000.0</td>\n",
              "      <td>151000000.0</td>\n",
              "      <td>151000000.0</td>\n",
              "      <td>151000000.0</td>\n",
              "    </tr>\n",
              "    <tr>\n",
              "      <th>133000000.0</th>\n",
              "      <td>1.899508</td>\n",
              "      <td>1.903847</td>\n",
              "      <td>1.914557</td>\n",
              "      <td>42.11010</td>\n",
              "      <td>42.127560</td>\n",
              "      <td>42.30985</td>\n",
              "      <td>50.28674</td>\n",
              "      <td>50.480000</td>\n",
              "      <td>50.55529</td>\n",
              "      <td>0.675187</td>\n",
              "      <td>0.680205</td>\n",
              "      <td>0.689905</td>\n",
              "      <td>143000000.0</td>\n",
              "      <td>143000000.0</td>\n",
              "      <td>143000000.0</td>\n",
              "      <td>153000000.0</td>\n",
              "      <td>153000000.0</td>\n",
              "      <td>153000000.0</td>\n",
              "    </tr>\n",
              "    <tr>\n",
              "      <th>136000000.0</th>\n",
              "      <td>1.900200</td>\n",
              "      <td>1.900200</td>\n",
              "      <td>1.900200</td>\n",
              "      <td>42.39642</td>\n",
              "      <td>42.396420</td>\n",
              "      <td>42.39642</td>\n",
              "      <td>50.50368</td>\n",
              "      <td>50.503680</td>\n",
              "      <td>50.50368</td>\n",
              "      <td>0.691971</td>\n",
              "      <td>0.691971</td>\n",
              "      <td>0.691971</td>\n",
              "      <td>146000000.0</td>\n",
              "      <td>146000000.0</td>\n",
              "      <td>146000000.0</td>\n",
              "      <td>156000000.0</td>\n",
              "      <td>156000000.0</td>\n",
              "      <td>156000000.0</td>\n",
              "    </tr>\n",
              "    <tr>\n",
              "      <th>143000000.0</th>\n",
              "      <td>1.866135</td>\n",
              "      <td>1.882668</td>\n",
              "      <td>1.902303</td>\n",
              "      <td>42.41592</td>\n",
              "      <td>42.665595</td>\n",
              "      <td>42.83503</td>\n",
              "      <td>50.48753</td>\n",
              "      <td>50.564565</td>\n",
              "      <td>50.72867</td>\n",
              "      <td>0.695292</td>\n",
              "      <td>0.697410</td>\n",
              "      <td>0.702630</td>\n",
              "      <td>154000000.0</td>\n",
              "      <td>154000000.0</td>\n",
              "      <td>154000000.0</td>\n",
              "      <td>164000000.0</td>\n",
              "      <td>164000000.0</td>\n",
              "      <td>164000000.0</td>\n",
              "    </tr>\n",
              "    <tr>\n",
              "      <th>146239008.0</th>\n",
              "      <td>1.847821</td>\n",
              "      <td>1.847821</td>\n",
              "      <td>1.847821</td>\n",
              "      <td>42.92510</td>\n",
              "      <td>42.925100</td>\n",
              "      <td>42.92510</td>\n",
              "      <td>50.72821</td>\n",
              "      <td>50.728210</td>\n",
              "      <td>50.72821</td>\n",
              "      <td>0.692837</td>\n",
              "      <td>0.692837</td>\n",
              "      <td>0.692837</td>\n",
              "      <td>156723120.0</td>\n",
              "      <td>156723120.0</td>\n",
              "      <td>156723120.0</td>\n",
              "      <td>167175712.0</td>\n",
              "      <td>167175712.0</td>\n",
              "      <td>167175712.0</td>\n",
              "    </tr>\n",
              "    <tr>\n",
              "      <th>147487920.0</th>\n",
              "      <td>1.842986</td>\n",
              "      <td>1.842986</td>\n",
              "      <td>1.842986</td>\n",
              "      <td>42.91262</td>\n",
              "      <td>42.913480</td>\n",
              "      <td>42.91348</td>\n",
              "      <td>50.87952</td>\n",
              "      <td>50.880250</td>\n",
              "      <td>50.88025</td>\n",
              "      <td>0.724433</td>\n",
              "      <td>0.724433</td>\n",
              "      <td>0.724433</td>\n",
              "      <td>157972048.0</td>\n",
              "      <td>157972048.0</td>\n",
              "      <td>157972048.0</td>\n",
              "      <td>168424640.0</td>\n",
              "      <td>168424640.0</td>\n",
              "      <td>168424640.0</td>\n",
              "    </tr>\n",
              "    <tr>\n",
              "      <th>147560672.0</th>\n",
              "      <td>1.835479</td>\n",
              "      <td>1.835479</td>\n",
              "      <td>1.835479</td>\n",
              "      <td>42.98096</td>\n",
              "      <td>42.980960</td>\n",
              "      <td>42.98096</td>\n",
              "      <td>50.74764</td>\n",
              "      <td>50.747640</td>\n",
              "      <td>50.74764</td>\n",
              "      <td>0.689802</td>\n",
              "      <td>0.689802</td>\n",
              "      <td>0.689802</td>\n",
              "      <td>158044784.0</td>\n",
              "      <td>158044784.0</td>\n",
              "      <td>158044784.0</td>\n",
              "      <td>168497376.0</td>\n",
              "      <td>168497376.0</td>\n",
              "      <td>168497376.0</td>\n",
              "    </tr>\n",
              "  </tbody>\n",
              "</table>\n",
              "</div>"
            ],
            "text/plain": [
              "                    nat_voteshare_other_hi            ... national_turnout_hi             \n",
              "                                       min    median  ...              median          max\n",
              "national_turnout_lo                                   ...                                 \n",
              "131000000.0                       1.911543  1.976343  ...         151000000.0  151000000.0\n",
              "133000000.0                       1.899508  1.903847  ...         153000000.0  153000000.0\n",
              "136000000.0                       1.900200  1.900200  ...         156000000.0  156000000.0\n",
              "143000000.0                       1.866135  1.882668  ...         164000000.0  164000000.0\n",
              "146239008.0                       1.847821  1.847821  ...         167175712.0  167175712.0\n",
              "147487920.0                       1.842986  1.842986  ...         168424640.0  168424640.0\n",
              "147560672.0                       1.835479  1.835479  ...         168497376.0  168497376.0\n",
              "\n",
              "[7 rows x 18 columns]"
            ]
          },
          "metadata": {
            "tags": []
          },
          "execution_count": 40
        }
      ]
    },
    {
      "cell_type": "code",
      "metadata": {
        "colab": {
          "base_uri": "https://localhost:8080/",
          "height": 767
        },
        "id": "Gx6KL6RybocL",
        "outputId": "dca9ffa9-93ca-4df3-a509-2c62fe326c3f"
      },
      "source": [
        "clean_dataset2[clean_dataset2.isna().any(axis=1)]"
      ],
      "execution_count": 41,
      "outputs": [
        {
          "output_type": "execute_result",
          "data": {
            "text/html": [
              "<div>\n",
              "<style scoped>\n",
              "    .dataframe tbody tr th:only-of-type {\n",
              "        vertical-align: middle;\n",
              "    }\n",
              "\n",
              "    .dataframe tbody tr th {\n",
              "        vertical-align: top;\n",
              "    }\n",
              "\n",
              "    .dataframe thead th {\n",
              "        text-align: right;\n",
              "    }\n",
              "</style>\n",
              "<table border=\"1\" class=\"dataframe\">\n",
              "  <thead>\n",
              "    <tr style=\"text-align: right;\">\n",
              "      <th></th>\n",
              "      <th>nat_voteshare_other_hi</th>\n",
              "      <th>national_voteshare_inc_lo</th>\n",
              "      <th>national_voteshare_chal_lo</th>\n",
              "      <th>nat_voteshare_other_lo</th>\n",
              "      <th>national_turnout</th>\n",
              "      <th>national_turnout_hi</th>\n",
              "      <th>national_turnout_lo</th>\n",
              "      <th>timestamp</th>\n",
              "    </tr>\n",
              "  </thead>\n",
              "  <tbody>\n",
              "    <tr>\n",
              "      <th>63</th>\n",
              "      <td>2.036718</td>\n",
              "      <td>42.08624</td>\n",
              "      <td>47.95645</td>\n",
              "      <td>0.700532</td>\n",
              "      <td>NaN</td>\n",
              "      <td>NaN</td>\n",
              "      <td>NaN</td>\n",
              "      <td>2020-01-09 19:06:00</td>\n",
              "    </tr>\n",
              "    <tr>\n",
              "      <th>62</th>\n",
              "      <td>2.043273</td>\n",
              "      <td>41.92453</td>\n",
              "      <td>48.15030</td>\n",
              "      <td>0.699968</td>\n",
              "      <td>NaN</td>\n",
              "      <td>NaN</td>\n",
              "      <td>NaN</td>\n",
              "      <td>2020-02-09 21:52:00</td>\n",
              "    </tr>\n",
              "    <tr>\n",
              "      <th>61</th>\n",
              "      <td>2.024914</td>\n",
              "      <td>41.92551</td>\n",
              "      <td>48.18411</td>\n",
              "      <td>0.709845</td>\n",
              "      <td>NaN</td>\n",
              "      <td>NaN</td>\n",
              "      <td>NaN</td>\n",
              "      <td>2020-03-09 21:55:00</td>\n",
              "    </tr>\n",
              "    <tr>\n",
              "      <th>60</th>\n",
              "      <td>2.035542</td>\n",
              "      <td>41.94962</td>\n",
              "      <td>48.30067</td>\n",
              "      <td>0.710622</td>\n",
              "      <td>NaN</td>\n",
              "      <td>NaN</td>\n",
              "      <td>NaN</td>\n",
              "      <td>2020-04-09 22:34:00</td>\n",
              "    </tr>\n",
              "    <tr>\n",
              "      <th>59</th>\n",
              "      <td>2.040212</td>\n",
              "      <td>41.95213</td>\n",
              "      <td>48.27627</td>\n",
              "      <td>0.711379</td>\n",
              "      <td>NaN</td>\n",
              "      <td>NaN</td>\n",
              "      <td>NaN</td>\n",
              "      <td>2020-05-09 22:17:00</td>\n",
              "    </tr>\n",
              "    <tr>\n",
              "      <th>...</th>\n",
              "      <td>...</td>\n",
              "      <td>...</td>\n",
              "      <td>...</td>\n",
              "      <td>...</td>\n",
              "      <td>...</td>\n",
              "      <td>...</td>\n",
              "      <td>...</td>\n",
              "      <td>...</td>\n",
              "    </tr>\n",
              "    <tr>\n",
              "      <th>148</th>\n",
              "      <td>2.051627</td>\n",
              "      <td>41.52457</td>\n",
              "      <td>47.69545</td>\n",
              "      <td>0.673951</td>\n",
              "      <td>NaN</td>\n",
              "      <td>NaN</td>\n",
              "      <td>NaN</td>\n",
              "      <td>2020-10-08 11:59:00</td>\n",
              "    </tr>\n",
              "    <tr>\n",
              "      <th>152</th>\n",
              "      <td>2.039343</td>\n",
              "      <td>41.49159</td>\n",
              "      <td>47.87417</td>\n",
              "      <td>0.661686</td>\n",
              "      <td>NaN</td>\n",
              "      <td>NaN</td>\n",
              "      <td>NaN</td>\n",
              "      <td>2020-10-08 12:03:00</td>\n",
              "    </tr>\n",
              "    <tr>\n",
              "      <th>85</th>\n",
              "      <td>2.034930</td>\n",
              "      <td>41.55241</td>\n",
              "      <td>47.82245</td>\n",
              "      <td>0.677032</td>\n",
              "      <td>NaN</td>\n",
              "      <td>NaN</td>\n",
              "      <td>NaN</td>\n",
              "      <td>2020-10-08 23:50:00</td>\n",
              "    </tr>\n",
              "    <tr>\n",
              "      <th>84</th>\n",
              "      <td>2.028735</td>\n",
              "      <td>41.59494</td>\n",
              "      <td>47.85249</td>\n",
              "      <td>0.662762</td>\n",
              "      <td>NaN</td>\n",
              "      <td>NaN</td>\n",
              "      <td>NaN</td>\n",
              "      <td>2020-11-08 19:08:00</td>\n",
              "    </tr>\n",
              "    <tr>\n",
              "      <th>83</th>\n",
              "      <td>2.027544</td>\n",
              "      <td>41.56429</td>\n",
              "      <td>47.97743</td>\n",
              "      <td>0.666302</td>\n",
              "      <td>NaN</td>\n",
              "      <td>NaN</td>\n",
              "      <td>NaN</td>\n",
              "      <td>2020-12-08 23:41:00</td>\n",
              "    </tr>\n",
              "  </tbody>\n",
              "</table>\n",
              "<p>97 rows × 8 columns</p>\n",
              "</div>"
            ],
            "text/plain": [
              "     nat_voteshare_other_hi  ...           timestamp\n",
              "63                 2.036718  ... 2020-01-09 19:06:00\n",
              "62                 2.043273  ... 2020-02-09 21:52:00\n",
              "61                 2.024914  ... 2020-03-09 21:55:00\n",
              "60                 2.035542  ... 2020-04-09 22:34:00\n",
              "59                 2.040212  ... 2020-05-09 22:17:00\n",
              "..                      ...  ...                 ...\n",
              "148                2.051627  ... 2020-10-08 11:59:00\n",
              "152                2.039343  ... 2020-10-08 12:03:00\n",
              "85                 2.034930  ... 2020-10-08 23:50:00\n",
              "84                 2.028735  ... 2020-11-08 19:08:00\n",
              "83                 2.027544  ... 2020-12-08 23:41:00\n",
              "\n",
              "[97 rows x 8 columns]"
            ]
          },
          "metadata": {
            "tags": []
          },
          "execution_count": 41
        }
      ]
    },
    {
      "cell_type": "markdown",
      "metadata": {
        "id": "Z_JMgFgSAdlp"
      },
      "source": [
        "Eliminating 97 rows from a 156-row dataframe is not an option. We've seen there are only 7 unique values on each of these 3 columns, and they all seem to be quite correlated with the columns 'nat_voteshare_other_hi' and 'national_voteshare_inc_lo'. \n",
        "\n",
        "* One option would be deleting these 3 columns if these information is not going to be used.\n",
        "\n",
        "* Another is replacing the missing values with the most suitable ones. To keep it simple for this exercise this will be sorted by splitting the dataframe in two and through replacement of the missing values on each columns of each dataset portion with the most suitable value (taken fron the statistics above analized with `.describe()`).\n",
        "    * par1 of the dataframe will contain rows with lower values in the column 'nat_voteshare_other_hi' and missing values in the 3 turnout columns will be higher (the upper percentile)\n",
        "    * par2 of the dataframe will contain rows with higher values in the column 'nat_voteshare_other_hi' and missing values in the 3 turnout columns will be lower (the median)"
      ]
    },
    {
      "cell_type": "markdown",
      "metadata": {
        "id": "CfviHogpBeSJ"
      },
      "source": [
        "* instead of using the keyword `inplace` in `fillna()` in this case it works better assigning the changed dataset portions to new variables to append them afterwards"
      ]
    },
    {
      "cell_type": "code",
      "metadata": {
        "colab": {
          "base_uri": "https://localhost:8080/"
        },
        "id": "nccCccHXc4wS",
        "outputId": "921c5a7d-8d3c-4963-e439-a65d1df66a22"
      },
      "source": [
        "clean_dataset2_part1 = clean_dataset2[clean_dataset2['nat_voteshare_other_hi'] < clean_dataset2['nat_voteshare_other_hi'].quantile(0.6)]\n",
        "clean_dataset2_part1 = clean_dataset2_part1.fillna(value= {'national_turnout': 1.430000e+08, 'national_turnout_hi': 1.530000e+08, 'national_turnout_lo': 1.330000e+08})\n",
        "\n",
        "clean_dataset2_part2 = clean_dataset2[clean_dataset2['nat_voteshare_other_hi'] >= clean_dataset2['nat_voteshare_other_hi'].quantile(0.6)]\n",
        "clean_dataset2_part2 = clean_dataset2_part2.fillna(value= {'national_turnout': 1.410000e+08\t, 'national_turnout_hi': 1.510000e+08\t, 'national_turnout_lo': 1.310000e+08})\n",
        "\n",
        "clean_dataset_new = clean_dataset2_part1.append([clean_dataset2_part2])\n",
        "clean_dataset_new.info()"
      ],
      "execution_count": 42,
      "outputs": [
        {
          "output_type": "stream",
          "text": [
            "<class 'pandas.core.frame.DataFrame'>\n",
            "Int64Index: 156 entries, 63 to 148\n",
            "Data columns (total 8 columns):\n",
            " #   Column                      Non-Null Count  Dtype         \n",
            "---  ------                      --------------  -----         \n",
            " 0   nat_voteshare_other_hi      156 non-null    float64       \n",
            " 1   national_voteshare_inc_lo   156 non-null    float64       \n",
            " 2   national_voteshare_chal_lo  156 non-null    float64       \n",
            " 3   nat_voteshare_other_lo      156 non-null    float64       \n",
            " 4   national_turnout            156 non-null    float64       \n",
            " 5   national_turnout_hi         156 non-null    float64       \n",
            " 6   national_turnout_lo         156 non-null    float64       \n",
            " 7   timestamp                   156 non-null    datetime64[ns]\n",
            "dtypes: datetime64[ns](1), float64(7)\n",
            "memory usage: 11.0 KB\n"
          ],
          "name": "stdout"
        }
      ]
    },
    {
      "cell_type": "code",
      "metadata": {
        "colab": {
          "base_uri": "https://localhost:8080/",
          "height": 314
        },
        "id": "Koay635_7TJB",
        "outputId": "d44964cb-b926-4768-d44f-7700da3713d4"
      },
      "source": [
        "clean_dataset_new.describe()"
      ],
      "execution_count": 43,
      "outputs": [
        {
          "output_type": "execute_result",
          "data": {
            "text/html": [
              "<div>\n",
              "<style scoped>\n",
              "    .dataframe tbody tr th:only-of-type {\n",
              "        vertical-align: middle;\n",
              "    }\n",
              "\n",
              "    .dataframe tbody tr th {\n",
              "        vertical-align: top;\n",
              "    }\n",
              "\n",
              "    .dataframe thead th {\n",
              "        text-align: right;\n",
              "    }\n",
              "</style>\n",
              "<table border=\"1\" class=\"dataframe\">\n",
              "  <thead>\n",
              "    <tr style=\"text-align: right;\">\n",
              "      <th></th>\n",
              "      <th>nat_voteshare_other_hi</th>\n",
              "      <th>national_voteshare_inc_lo</th>\n",
              "      <th>national_voteshare_chal_lo</th>\n",
              "      <th>nat_voteshare_other_lo</th>\n",
              "      <th>national_turnout</th>\n",
              "      <th>national_turnout_hi</th>\n",
              "      <th>national_turnout_lo</th>\n",
              "    </tr>\n",
              "  </thead>\n",
              "  <tbody>\n",
              "    <tr>\n",
              "      <th>count</th>\n",
              "      <td>156.000000</td>\n",
              "      <td>156.000000</td>\n",
              "      <td>156.000000</td>\n",
              "      <td>156.000000</td>\n",
              "      <td>1.560000e+02</td>\n",
              "      <td>1.560000e+02</td>\n",
              "      <td>1.560000e+02</td>\n",
              "    </tr>\n",
              "    <tr>\n",
              "      <th>mean</th>\n",
              "      <td>2.004223</td>\n",
              "      <td>41.635853</td>\n",
              "      <td>48.650009</td>\n",
              "      <td>0.681118</td>\n",
              "      <td>1.427608e+08</td>\n",
              "      <td>1.527753e+08</td>\n",
              "      <td>1.326940e+08</td>\n",
              "    </tr>\n",
              "    <tr>\n",
              "      <th>std</th>\n",
              "      <td>0.061918</td>\n",
              "      <td>0.626373</td>\n",
              "      <td>0.973757</td>\n",
              "      <td>0.016647</td>\n",
              "      <td>3.983215e+06</td>\n",
              "      <td>4.038525e+06</td>\n",
              "      <td>3.780575e+06</td>\n",
              "    </tr>\n",
              "    <tr>\n",
              "      <th>min</th>\n",
              "      <td>1.835479</td>\n",
              "      <td>40.595360</td>\n",
              "      <td>47.484140</td>\n",
              "      <td>0.649471</td>\n",
              "      <td>1.410000e+08</td>\n",
              "      <td>1.510000e+08</td>\n",
              "      <td>1.310000e+08</td>\n",
              "    </tr>\n",
              "    <tr>\n",
              "      <th>25%</th>\n",
              "      <td>1.974398</td>\n",
              "      <td>41.035355</td>\n",
              "      <td>47.892697</td>\n",
              "      <td>0.668070</td>\n",
              "      <td>1.410000e+08</td>\n",
              "      <td>1.510000e+08</td>\n",
              "      <td>1.310000e+08</td>\n",
              "    </tr>\n",
              "    <tr>\n",
              "      <th>50%</th>\n",
              "      <td>2.030170</td>\n",
              "      <td>41.612205</td>\n",
              "      <td>48.246395</td>\n",
              "      <td>0.677246</td>\n",
              "      <td>1.410000e+08</td>\n",
              "      <td>1.510000e+08</td>\n",
              "      <td>1.310000e+08</td>\n",
              "    </tr>\n",
              "    <tr>\n",
              "      <th>75%</th>\n",
              "      <td>2.048704</td>\n",
              "      <td>42.110017</td>\n",
              "      <td>49.111713</td>\n",
              "      <td>0.693379</td>\n",
              "      <td>1.430000e+08</td>\n",
              "      <td>1.530000e+08</td>\n",
              "      <td>1.330000e+08</td>\n",
              "    </tr>\n",
              "    <tr>\n",
              "      <th>max</th>\n",
              "      <td>2.085074</td>\n",
              "      <td>42.980960</td>\n",
              "      <td>50.880250</td>\n",
              "      <td>0.724433</td>\n",
              "      <td>1.580448e+08</td>\n",
              "      <td>1.684974e+08</td>\n",
              "      <td>1.475607e+08</td>\n",
              "    </tr>\n",
              "  </tbody>\n",
              "</table>\n",
              "</div>"
            ],
            "text/plain": [
              "       nat_voteshare_other_hi  ...  national_turnout_lo\n",
              "count              156.000000  ...         1.560000e+02\n",
              "mean                 2.004223  ...         1.326940e+08\n",
              "std                  0.061918  ...         3.780575e+06\n",
              "min                  1.835479  ...         1.310000e+08\n",
              "25%                  1.974398  ...         1.310000e+08\n",
              "50%                  2.030170  ...         1.310000e+08\n",
              "75%                  2.048704  ...         1.330000e+08\n",
              "max                  2.085074  ...         1.475607e+08\n",
              "\n",
              "[8 rows x 7 columns]"
            ]
          },
          "metadata": {
            "tags": []
          },
          "execution_count": 43
        }
      ]
    },
    {
      "cell_type": "markdown",
      "metadata": {
        "id": "5cCYof5t-i09"
      },
      "source": [
        "--> We can see here that the statistic summary looks similar to the summary of the dataset before replacing the missig values (after a few attempts)."
      ]
    },
    {
      "cell_type": "code",
      "metadata": {
        "colab": {
          "base_uri": "https://localhost:8080/",
          "height": 16
        },
        "id": "TwlNZ-cMGySb",
        "outputId": "4a588c11-4506-46c2-cda8-8924963c7f6f"
      },
      "source": [
        "from google.colab import files\n",
        "clean_dataset2.to_csv('dataset2.csv') \n",
        "files.download('dataset2.csv')"
      ],
      "execution_count": 44,
      "outputs": [
        {
          "output_type": "display_data",
          "data": {
            "application/javascript": [
              "\n",
              "    async function download(id, filename, size) {\n",
              "      if (!google.colab.kernel.accessAllowed) {\n",
              "        return;\n",
              "      }\n",
              "      const div = document.createElement('div');\n",
              "      const label = document.createElement('label');\n",
              "      label.textContent = `Downloading \"${filename}\": `;\n",
              "      div.appendChild(label);\n",
              "      const progress = document.createElement('progress');\n",
              "      progress.max = size;\n",
              "      div.appendChild(progress);\n",
              "      document.body.appendChild(div);\n",
              "\n",
              "      const buffers = [];\n",
              "      let downloaded = 0;\n",
              "\n",
              "      const channel = await google.colab.kernel.comms.open(id);\n",
              "      // Send a message to notify the kernel that we're ready.\n",
              "      channel.send({})\n",
              "\n",
              "      for await (const message of channel.messages) {\n",
              "        // Send a message to notify the kernel that we're ready.\n",
              "        channel.send({})\n",
              "        if (message.buffers) {\n",
              "          for (const buffer of message.buffers) {\n",
              "            buffers.push(buffer);\n",
              "            downloaded += buffer.byteLength;\n",
              "            progress.value = downloaded;\n",
              "          }\n",
              "        }\n",
              "      }\n",
              "      const blob = new Blob(buffers, {type: 'application/binary'});\n",
              "      const a = document.createElement('a');\n",
              "      a.href = window.URL.createObjectURL(blob);\n",
              "      a.download = filename;\n",
              "      div.appendChild(a);\n",
              "      a.click();\n",
              "      div.remove();\n",
              "    }\n",
              "  "
            ],
            "text/plain": [
              "<IPython.core.display.Javascript object>"
            ]
          },
          "metadata": {
            "tags": []
          }
        },
        {
          "output_type": "display_data",
          "data": {
            "application/javascript": [
              "download(\"download_9b091345-fe12-43e2-8dae-e648912b6443\", \"dataset2.csv\", 13481)"
            ],
            "text/plain": [
              "<IPython.core.display.Javascript object>"
            ]
          },
          "metadata": {
            "tags": []
          }
        }
      ]
    },
    {
      "cell_type": "markdown",
      "metadata": {
        "id": "1XKeCthMzJg5"
      },
      "source": [
        "### Sorting and cleaning\n",
        "---"
      ]
    },
    {
      "cell_type": "markdown",
      "metadata": {
        "id": "DC65hEZGOKNL"
      },
      "source": [
        "##### Check for null values \n",
        "---\n",
        "\n",
        "1. Read data from the file housing_in_london_yearly_variables.csv from this link: https://raw.githubusercontent.com/futureCodersSE/working-with-data/main/Data%20sets/housing_in_london_yearly_variables.csv \n",
        "2. check if any NA values exist in the dataframe and print the result \n",
        "3. use df.info() to see which columns have null entries (*Hint: if the non-null count is less than total entries, column contains missing/NA entries*)  \n",
        "\n",
        "**Test output**:\n",
        "True\n",
        ".info shows median_salary, life_satisfaction, recycling_pct, population_size, number_of_jobs, area_size, no_of_houses all less than total rows (1071) \n",
        "\n"
      ]
    },
    {
      "cell_type": "code",
      "metadata": {
        "id": "U7LYkXDNVVc9",
        "colab": {
          "base_uri": "https://localhost:8080/",
          "height": 322
        },
        "outputId": "e6b82290-ee99-4d00-9609-dc5865a5d8e5"
      },
      "source": [
        "url_london = 'https://raw.githubusercontent.com/futureCodersSE/working-with-data/main/Data%20sets/housing_in_london_yearly_variables.csv'\n",
        "\n",
        "df_london = pd.read_csv(url_london)\n",
        "df_london.head()"
      ],
      "execution_count": 45,
      "outputs": [
        {
          "output_type": "execute_result",
          "data": {
            "text/html": [
              "<div>\n",
              "<style scoped>\n",
              "    .dataframe tbody tr th:only-of-type {\n",
              "        vertical-align: middle;\n",
              "    }\n",
              "\n",
              "    .dataframe tbody tr th {\n",
              "        vertical-align: top;\n",
              "    }\n",
              "\n",
              "    .dataframe thead th {\n",
              "        text-align: right;\n",
              "    }\n",
              "</style>\n",
              "<table border=\"1\" class=\"dataframe\">\n",
              "  <thead>\n",
              "    <tr style=\"text-align: right;\">\n",
              "      <th></th>\n",
              "      <th>code</th>\n",
              "      <th>area</th>\n",
              "      <th>date</th>\n",
              "      <th>median_salary</th>\n",
              "      <th>life_satisfaction</th>\n",
              "      <th>mean_salary</th>\n",
              "      <th>recycling_pct</th>\n",
              "      <th>population_size</th>\n",
              "      <th>number_of_jobs</th>\n",
              "      <th>area_size</th>\n",
              "      <th>no_of_houses</th>\n",
              "      <th>borough_flag</th>\n",
              "    </tr>\n",
              "  </thead>\n",
              "  <tbody>\n",
              "    <tr>\n",
              "      <th>0</th>\n",
              "      <td>E09000001</td>\n",
              "      <td>city of london</td>\n",
              "      <td>1999-12-01</td>\n",
              "      <td>33020.0</td>\n",
              "      <td>NaN</td>\n",
              "      <td>48922</td>\n",
              "      <td>0</td>\n",
              "      <td>6581.0</td>\n",
              "      <td>NaN</td>\n",
              "      <td>NaN</td>\n",
              "      <td>NaN</td>\n",
              "      <td>1</td>\n",
              "    </tr>\n",
              "    <tr>\n",
              "      <th>1</th>\n",
              "      <td>E09000002</td>\n",
              "      <td>barking and dagenham</td>\n",
              "      <td>1999-12-01</td>\n",
              "      <td>21480.0</td>\n",
              "      <td>NaN</td>\n",
              "      <td>23620</td>\n",
              "      <td>3</td>\n",
              "      <td>162444.0</td>\n",
              "      <td>NaN</td>\n",
              "      <td>NaN</td>\n",
              "      <td>NaN</td>\n",
              "      <td>1</td>\n",
              "    </tr>\n",
              "    <tr>\n",
              "      <th>2</th>\n",
              "      <td>E09000003</td>\n",
              "      <td>barnet</td>\n",
              "      <td>1999-12-01</td>\n",
              "      <td>19568.0</td>\n",
              "      <td>NaN</td>\n",
              "      <td>23128</td>\n",
              "      <td>8</td>\n",
              "      <td>313469.0</td>\n",
              "      <td>NaN</td>\n",
              "      <td>NaN</td>\n",
              "      <td>NaN</td>\n",
              "      <td>1</td>\n",
              "    </tr>\n",
              "    <tr>\n",
              "      <th>3</th>\n",
              "      <td>E09000004</td>\n",
              "      <td>bexley</td>\n",
              "      <td>1999-12-01</td>\n",
              "      <td>18621.0</td>\n",
              "      <td>NaN</td>\n",
              "      <td>21386</td>\n",
              "      <td>18</td>\n",
              "      <td>217458.0</td>\n",
              "      <td>NaN</td>\n",
              "      <td>NaN</td>\n",
              "      <td>NaN</td>\n",
              "      <td>1</td>\n",
              "    </tr>\n",
              "    <tr>\n",
              "      <th>4</th>\n",
              "      <td>E09000005</td>\n",
              "      <td>brent</td>\n",
              "      <td>1999-12-01</td>\n",
              "      <td>18532.0</td>\n",
              "      <td>NaN</td>\n",
              "      <td>20911</td>\n",
              "      <td>6</td>\n",
              "      <td>260317.0</td>\n",
              "      <td>NaN</td>\n",
              "      <td>NaN</td>\n",
              "      <td>NaN</td>\n",
              "      <td>1</td>\n",
              "    </tr>\n",
              "  </tbody>\n",
              "</table>\n",
              "</div>"
            ],
            "text/plain": [
              "        code                  area  ... no_of_houses  borough_flag\n",
              "0  E09000001        city of london  ...          NaN             1\n",
              "1  E09000002  barking and dagenham  ...          NaN             1\n",
              "2  E09000003                barnet  ...          NaN             1\n",
              "3  E09000004                bexley  ...          NaN             1\n",
              "4  E09000005                 brent  ...          NaN             1\n",
              "\n",
              "[5 rows x 12 columns]"
            ]
          },
          "metadata": {
            "tags": []
          },
          "execution_count": 45
        }
      ]
    },
    {
      "cell_type": "code",
      "metadata": {
        "colab": {
          "base_uri": "https://localhost:8080/"
        },
        "id": "O_s1_wfurXC-",
        "outputId": "c040bbbb-d788-4272-96b5-1f200f7a2fcb"
      },
      "source": [
        "df_london.isnull().values.any()"
      ],
      "execution_count": 46,
      "outputs": [
        {
          "output_type": "execute_result",
          "data": {
            "text/plain": [
              "True"
            ]
          },
          "metadata": {
            "tags": []
          },
          "execution_count": 46
        }
      ]
    },
    {
      "cell_type": "code",
      "metadata": {
        "colab": {
          "base_uri": "https://localhost:8080/"
        },
        "id": "HPycZ_RSre1s",
        "outputId": "cb59ef03-e8ed-42ad-de54-d1694d510e89"
      },
      "source": [
        "df_london.info()"
      ],
      "execution_count": 47,
      "outputs": [
        {
          "output_type": "stream",
          "text": [
            "<class 'pandas.core.frame.DataFrame'>\n",
            "RangeIndex: 1071 entries, 0 to 1070\n",
            "Data columns (total 12 columns):\n",
            " #   Column             Non-Null Count  Dtype  \n",
            "---  ------             --------------  -----  \n",
            " 0   code               1071 non-null   object \n",
            " 1   area               1071 non-null   object \n",
            " 2   date               1071 non-null   object \n",
            " 3   median_salary      1049 non-null   float64\n",
            " 4   life_satisfaction  352 non-null    float64\n",
            " 5   mean_salary        1071 non-null   object \n",
            " 6   recycling_pct      860 non-null    object \n",
            " 7   population_size    1018 non-null   float64\n",
            " 8   number_of_jobs     931 non-null    float64\n",
            " 9   area_size          666 non-null    float64\n",
            " 10  no_of_houses       666 non-null    float64\n",
            " 11  borough_flag       1071 non-null   int64  \n",
            "dtypes: float64(6), int64(1), object(5)\n",
            "memory usage: 100.5+ KB\n"
          ],
          "name": "stdout"
        }
      ]
    },
    {
      "cell_type": "markdown",
      "metadata": {
        "id": "aYcaQW3Cry5a"
      },
      "source": [
        "* `.values` converts the df into a np array"
      ]
    },
    {
      "cell_type": "code",
      "metadata": {
        "colab": {
          "base_uri": "https://localhost:8080/"
        },
        "id": "V5EpY4Oop0xF",
        "outputId": "7f64d80f-92c9-418d-c51b-c4e753a698e8"
      },
      "source": [
        "df_london.isnull().values"
      ],
      "execution_count": 48,
      "outputs": [
        {
          "output_type": "execute_result",
          "data": {
            "text/plain": [
              "array([[False, False, False, ...,  True,  True, False],\n",
              "       [False, False, False, ...,  True,  True, False],\n",
              "       [False, False, False, ...,  True,  True, False],\n",
              "       ...,\n",
              "       [False, False, False, ...,  True,  True, False],\n",
              "       [False, False, False, ...,  True,  True, False],\n",
              "       [False, False, False, ...,  True,  True, False]])"
            ]
          },
          "metadata": {
            "tags": []
          },
          "execution_count": 48
        }
      ]
    },
    {
      "cell_type": "markdown",
      "metadata": {
        "id": "EMjBu7jSr79-"
      },
      "source": [
        "* `.any()` tells if there is any `True` in each column of the df"
      ]
    },
    {
      "cell_type": "code",
      "metadata": {
        "colab": {
          "base_uri": "https://localhost:8080/"
        },
        "id": "TUsqPYFTn7hN",
        "outputId": "4f556251-fc65-477b-9d7f-d8f7b80c7e8b"
      },
      "source": [
        "df_london.isnull().any()"
      ],
      "execution_count": 49,
      "outputs": [
        {
          "output_type": "execute_result",
          "data": {
            "text/plain": [
              "code                 False\n",
              "area                 False\n",
              "date                 False\n",
              "median_salary         True\n",
              "life_satisfaction     True\n",
              "mean_salary          False\n",
              "recycling_pct         True\n",
              "population_size       True\n",
              "number_of_jobs        True\n",
              "area_size             True\n",
              "no_of_houses          True\n",
              "borough_flag         False\n",
              "dtype: bool"
            ]
          },
          "metadata": {
            "tags": []
          },
          "execution_count": 49
        }
      ]
    },
    {
      "cell_type": "code",
      "metadata": {
        "colab": {
          "base_uri": "https://localhost:8080/"
        },
        "id": "94yUJpWlsRRj",
        "outputId": "755e2ba8-51ac-490c-8b4d-ba60464ee986"
      },
      "source": [
        "df_london.isnull().any().any() # same output as .any() used once on an array"
      ],
      "execution_count": 50,
      "outputs": [
        {
          "output_type": "execute_result",
          "data": {
            "text/plain": [
              "True"
            ]
          },
          "metadata": {
            "tags": []
          },
          "execution_count": 50
        }
      ]
    },
    {
      "cell_type": "markdown",
      "metadata": {
        "id": "ZID2I7Uvsl2h"
      },
      "source": [
        "* both fuctions 'isnull()` and `isna()' are the same (https://pandas-docs.github.io/pandas-docs-travis/reference/api/pandas.DataFrame.isnull.html)"
      ]
    },
    {
      "cell_type": "code",
      "metadata": {
        "colab": {
          "base_uri": "https://localhost:8080/"
        },
        "id": "jLnlakH4pGMz",
        "outputId": "13758259-6e06-4bb8-93fd-792cffc3bc2d"
      },
      "source": [
        "df_london.isna().any()  "
      ],
      "execution_count": 51,
      "outputs": [
        {
          "output_type": "execute_result",
          "data": {
            "text/plain": [
              "code                 False\n",
              "area                 False\n",
              "date                 False\n",
              "median_salary         True\n",
              "life_satisfaction     True\n",
              "mean_salary          False\n",
              "recycling_pct         True\n",
              "population_size       True\n",
              "number_of_jobs        True\n",
              "area_size             True\n",
              "no_of_houses          True\n",
              "borough_flag         False\n",
              "dtype: bool"
            ]
          },
          "metadata": {
            "tags": []
          },
          "execution_count": 51
        }
      ]
    },
    {
      "cell_type": "code",
      "metadata": {
        "colab": {
          "base_uri": "https://localhost:8080/"
        },
        "id": "WA_wlvsqrVfK",
        "outputId": "a0656546-710d-4cd5-c418-6650556301bb"
      },
      "source": [
        "df_london.isna().sum()  "
      ],
      "execution_count": 52,
      "outputs": [
        {
          "output_type": "execute_result",
          "data": {
            "text/plain": [
              "code                   0\n",
              "area                   0\n",
              "date                   0\n",
              "median_salary         22\n",
              "life_satisfaction    719\n",
              "mean_salary            0\n",
              "recycling_pct        211\n",
              "population_size       53\n",
              "number_of_jobs       140\n",
              "area_size            405\n",
              "no_of_houses         405\n",
              "borough_flag           0\n",
              "dtype: int64"
            ]
          },
          "metadata": {
            "tags": []
          },
          "execution_count": 52
        }
      ]
    },
    {
      "cell_type": "markdown",
      "metadata": {
        "id": "BRBLm_bJVItu"
      },
      "source": [
        "##### Remove null values \n",
        "---\n",
        "\n",
        "1. Remove rows with NA values for `life_satisfaction` (use [ ] even if only one column in list)\n",
        "2. Remove all NA values across whole dataframe \n",
        "\n",
        "**Test output**:  \n",
        "1.  Row count reduced to 352 rows\n",
        "2.  Row count reduced to 267 rows"
      ]
    },
    {
      "cell_type": "markdown",
      "metadata": {
        "id": "Dy8YMw5MtHOx"
      },
      "source": [
        "* Remove rows with NA values for `life_satisfaction` (use [ ] even if only one column in list)"
      ]
    },
    {
      "cell_type": "code",
      "metadata": {
        "colab": {
          "base_uri": "https://localhost:8080/"
        },
        "id": "xgFEzdDztGvr",
        "outputId": "1ad0cc75-9fbf-46d4-b7c3-9b730560cc9b"
      },
      "source": [
        "part1 = df_london.dropna(subset=['life_satisfaction'])\n",
        "print('Remaining rows:', part1.shape[0])"
      ],
      "execution_count": null,
      "outputs": [
        {
          "output_type": "stream",
          "text": [
            "Remaining rows: 352\n"
          ],
          "name": "stdout"
        }
      ]
    },
    {
      "cell_type": "markdown",
      "metadata": {
        "id": "uPrw63w-t-cO"
      },
      "source": [
        "* Remove all NA values across whole dataframe"
      ]
    },
    {
      "cell_type": "code",
      "metadata": {
        "id": "OjZJNIC3QObK",
        "colab": {
          "base_uri": "https://localhost:8080/"
        },
        "outputId": "c01c07d4-fe1c-43ed-e906-255b04723989"
      },
      "source": [
        "part2 = df_london.dropna()\n",
        "print('Remaining rows:', part2.shape[0])"
      ],
      "execution_count": null,
      "outputs": [
        {
          "output_type": "stream",
          "text": [
            "Remaining rows: 267\n"
          ],
          "name": "stdout"
        }
      ]
    },
    {
      "cell_type": "markdown",
      "metadata": {
        "id": "_2Qf6uMxSb5t"
      },
      "source": [
        "##### Removing duplicate entries \n",
        "---\n",
        "\n",
        "remove duplicate `area` entries keeping first instance  \n",
        "\n",
        "**Test output**:  \n",
        " Dataframe now contains 50 rows all with date 1999-12-*01* "
      ]
    },
    {
      "cell_type": "code",
      "metadata": {
        "id": "OQ8T0tYVQj74",
        "colab": {
          "base_uri": "https://localhost:8080/",
          "height": 52
        },
        "outputId": "4cd6e8bc-ad75-4226-e198-bf23b08ea7f5"
      },
      "source": [
        "unique_entries = df_london.drop_duplicates(subset=['area'])\n",
        "display(unique_entries.shape,unique_entries.date.unique()) "
      ],
      "execution_count": 53,
      "outputs": [
        {
          "output_type": "display_data",
          "data": {
            "text/plain": [
              "(51, 12)"
            ]
          },
          "metadata": {
            "tags": []
          }
        },
        {
          "output_type": "display_data",
          "data": {
            "text/plain": [
              "array(['1999-12-01'], dtype=object)"
            ]
          },
          "metadata": {
            "tags": []
          }
        }
      ]
    },
    {
      "cell_type": "code",
      "metadata": {
        "colab": {
          "base_uri": "https://localhost:8080/",
          "height": 322
        },
        "id": "KNKLopMXwzXh",
        "outputId": "ba034f40-7dcf-461e-d157-d13a5574ddd1"
      },
      "source": [
        "unique_entries.head()"
      ],
      "execution_count": 54,
      "outputs": [
        {
          "output_type": "execute_result",
          "data": {
            "text/html": [
              "<div>\n",
              "<style scoped>\n",
              "    .dataframe tbody tr th:only-of-type {\n",
              "        vertical-align: middle;\n",
              "    }\n",
              "\n",
              "    .dataframe tbody tr th {\n",
              "        vertical-align: top;\n",
              "    }\n",
              "\n",
              "    .dataframe thead th {\n",
              "        text-align: right;\n",
              "    }\n",
              "</style>\n",
              "<table border=\"1\" class=\"dataframe\">\n",
              "  <thead>\n",
              "    <tr style=\"text-align: right;\">\n",
              "      <th></th>\n",
              "      <th>code</th>\n",
              "      <th>area</th>\n",
              "      <th>date</th>\n",
              "      <th>median_salary</th>\n",
              "      <th>life_satisfaction</th>\n",
              "      <th>mean_salary</th>\n",
              "      <th>recycling_pct</th>\n",
              "      <th>population_size</th>\n",
              "      <th>number_of_jobs</th>\n",
              "      <th>area_size</th>\n",
              "      <th>no_of_houses</th>\n",
              "      <th>borough_flag</th>\n",
              "    </tr>\n",
              "  </thead>\n",
              "  <tbody>\n",
              "    <tr>\n",
              "      <th>0</th>\n",
              "      <td>E09000001</td>\n",
              "      <td>city of london</td>\n",
              "      <td>1999-12-01</td>\n",
              "      <td>33020.0</td>\n",
              "      <td>NaN</td>\n",
              "      <td>48922</td>\n",
              "      <td>0</td>\n",
              "      <td>6581.0</td>\n",
              "      <td>NaN</td>\n",
              "      <td>NaN</td>\n",
              "      <td>NaN</td>\n",
              "      <td>1</td>\n",
              "    </tr>\n",
              "    <tr>\n",
              "      <th>1</th>\n",
              "      <td>E09000002</td>\n",
              "      <td>barking and dagenham</td>\n",
              "      <td>1999-12-01</td>\n",
              "      <td>21480.0</td>\n",
              "      <td>NaN</td>\n",
              "      <td>23620</td>\n",
              "      <td>3</td>\n",
              "      <td>162444.0</td>\n",
              "      <td>NaN</td>\n",
              "      <td>NaN</td>\n",
              "      <td>NaN</td>\n",
              "      <td>1</td>\n",
              "    </tr>\n",
              "    <tr>\n",
              "      <th>2</th>\n",
              "      <td>E09000003</td>\n",
              "      <td>barnet</td>\n",
              "      <td>1999-12-01</td>\n",
              "      <td>19568.0</td>\n",
              "      <td>NaN</td>\n",
              "      <td>23128</td>\n",
              "      <td>8</td>\n",
              "      <td>313469.0</td>\n",
              "      <td>NaN</td>\n",
              "      <td>NaN</td>\n",
              "      <td>NaN</td>\n",
              "      <td>1</td>\n",
              "    </tr>\n",
              "    <tr>\n",
              "      <th>3</th>\n",
              "      <td>E09000004</td>\n",
              "      <td>bexley</td>\n",
              "      <td>1999-12-01</td>\n",
              "      <td>18621.0</td>\n",
              "      <td>NaN</td>\n",
              "      <td>21386</td>\n",
              "      <td>18</td>\n",
              "      <td>217458.0</td>\n",
              "      <td>NaN</td>\n",
              "      <td>NaN</td>\n",
              "      <td>NaN</td>\n",
              "      <td>1</td>\n",
              "    </tr>\n",
              "    <tr>\n",
              "      <th>4</th>\n",
              "      <td>E09000005</td>\n",
              "      <td>brent</td>\n",
              "      <td>1999-12-01</td>\n",
              "      <td>18532.0</td>\n",
              "      <td>NaN</td>\n",
              "      <td>20911</td>\n",
              "      <td>6</td>\n",
              "      <td>260317.0</td>\n",
              "      <td>NaN</td>\n",
              "      <td>NaN</td>\n",
              "      <td>NaN</td>\n",
              "      <td>1</td>\n",
              "    </tr>\n",
              "  </tbody>\n",
              "</table>\n",
              "</div>"
            ],
            "text/plain": [
              "        code                  area  ... no_of_houses  borough_flag\n",
              "0  E09000001        city of london  ...          NaN             1\n",
              "1  E09000002  barking and dagenham  ...          NaN             1\n",
              "2  E09000003                barnet  ...          NaN             1\n",
              "3  E09000004                bexley  ...          NaN             1\n",
              "4  E09000005                 brent  ...          NaN             1\n",
              "\n",
              "[5 rows x 12 columns]"
            ]
          },
          "metadata": {
            "tags": []
          },
          "execution_count": 54
        }
      ]
    },
    {
      "cell_type": "markdown",
      "metadata": {
        "id": "IeuIVyHgGixZ"
      },
      "source": [
        "# Normalising values where necessary"
      ]
    },
    {
      "cell_type": "markdown",
      "metadata": {
        "id": "bedV3hBxG0PR"
      },
      "source": [
        "# Correcting the format of dates where necessary"
      ]
    },
    {
      "cell_type": "markdown",
      "metadata": {
        "id": "hTnVoNooG3at"
      },
      "source": [
        "# Resetting data values"
      ]
    },
    {
      "cell_type": "markdown",
      "metadata": {
        "id": "AqZOyNvNG275"
      },
      "source": [
        "# Joining data from 2 different sources"
      ]
    },
    {
      "cell_type": "markdown",
      "metadata": {
        "id": "TIH8YEE4HGdn"
      },
      "source": [
        "# Merging and joining data"
      ]
    },
    {
      "cell_type": "code",
      "metadata": {
        "id": "kdCpBHU5GMJ7"
      },
      "source": [
        ""
      ],
      "execution_count": null,
      "outputs": []
    }
  ]
}