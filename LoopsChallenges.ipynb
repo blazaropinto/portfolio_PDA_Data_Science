{
  "nbformat": 4,
  "nbformat_minor": 0,
  "metadata": {
    "colab": {
      "name": "Copia de LoopsChallenges.ipynb",
      "provenance": [],
      "collapsed_sections": [],
      "include_colab_link": true
    },
    "kernelspec": {
      "name": "python3",
      "display_name": "Python 3"
    }
  },
  "cells": [
    {
      "cell_type": "markdown",
      "metadata": {
        "id": "view-in-github",
        "colab_type": "text"
      },
      "source": [
        "<a href=\"https://colab.research.google.com/github/blazaropinto/PDA_Data_Analysis_Python/blob/main/LoopsChallenges.ipynb\" target=\"_parent\"><img src=\"https://colab.research.google.com/assets/colab-badge.svg\" alt=\"Open In Colab\"/></a>"
      ]
    },
    {
      "cell_type": "markdown",
      "metadata": {
        "id": "lGjlNDuSFdXx"
      },
      "source": [
        "# Loop Challenges \n",
        "\n",
        "---\n",
        "\n",
        "Each of these challenges will need a loop.  This may be a **while** loop or a **for** loop, you will need to decide which is needed."
      ]
    },
    {
      "cell_type": "markdown",
      "metadata": {
        "id": "nSx5LRcdLzx-"
      },
      "source": [
        "---\n",
        "## Challenge 1 - Sum of random numbers \n",
        "Write a function called **random_generator()** where python generates random numbers between 1 and 99 until the number 1 is generated.\n",
        "\n",
        "* use `randint(1, 100)` to generate random numbers \n",
        "* keep a running `total` - add numbers as they are generated \n",
        "* print `total` at the end \n",
        "* print the final generated number (should be 1) to check your function is working \n",
        "\n",
        "Example input (computer):\n",
        "\n",
        "10  \n",
        "78  \n",
        "6  \n",
        "42  \n",
        "56  \n",
        "81  \n",
        "15   \n",
        "1  \n",
        "\n",
        "Expected output:  \n",
        "\n",
        "289  \n",
        "1  "
      ]
    },
    {
      "cell_type": "code",
      "metadata": {
        "id": "FRRBydPTN3cv",
        "colab": {
          "base_uri": "https://localhost:8080/"
        },
        "outputId": "f38c3f5a-7ee8-4edf-ea43-0c51780a43d8"
      },
      "source": [
        "from random import randint\n",
        "\n",
        "def random_generator():\n",
        "  number = 0\n",
        "  total = 0\n",
        "  while number != 1:\n",
        "    total += number  \n",
        "    # test first with print smaller numbers\n",
        "    #change number after adding it!!!\n",
        "    number = randint(1,100)\n",
        "    \n",
        "  print(total)\n",
        "  print(number)\n",
        "\n",
        "random_generator() #random input --> different output  each time the function is called"
      ],
      "execution_count": null,
      "outputs": [
        {
          "output_type": "stream",
          "text": [
            "13704\n",
            "1\n"
          ],
          "name": "stdout"
        }
      ]
    },
    {
      "cell_type": "markdown",
      "metadata": {
        "id": "aX8me4xxPMc0"
      },
      "source": [
        "---\n",
        "## Challenge 2 - Factorials \n",
        "\n",
        "Factorial of any number n is represented by n! and is equal to 1*2*3*....*(n-1)*n. \n",
        "\n",
        "E.g.   \n",
        "* 4! = 1 * 2 * 3 * 4 = 24  \n",
        "* 3! = 3 * 2 * 1 = 6\n",
        "* 2! = 2 * 1 = 2  \n",
        " Also,\n",
        "* 1! = 1\n",
        "* 0! = 1\n",
        "\n",
        "Write a function called **calculate_factorial()** which calculates the factorial of a user inputed number. \n",
        "\n",
        "* use a *while* loop to control repetition while the number being multiplied by is less than or equal to the number it is finding the factorial of, multiply each time round the loop  \n",
        "* print the answer at the end\n",
        "\n",
        "Test input:  \n",
        "\n",
        "6   \n",
        "10  \n",
        "1  \n",
        "0  \n",
        "\n",
        "Expected output:  \n",
        "\n",
        "720  \n",
        "3,628,800  \n",
        "1  \n",
        "1  \n",
        "\n",
        "### Extra challenge \n",
        "\n",
        "Can you write a function to calculate factorials but using a *for* loop instead? \n",
        "\n",
        "\n"
      ]
    },
    {
      "cell_type": "code",
      "metadata": {
        "id": "qcXqzf_lQDOv",
        "colab": {
          "base_uri": "https://localhost:8080/"
        },
        "outputId": "567f1001-110c-4672-eafa-a98a464d4441"
      },
      "source": [
        "def calculate_factorial():\n",
        "  number = int(input('please enter a number to be factorised'))\n",
        "  m = 1\n",
        "  if number == 0:\n",
        "    temp_mult = 1\n",
        "  else:\n",
        "    temp_mult = number\n",
        "  while m < number:\n",
        "    temp_mult *= m\n",
        "    m += 1\n",
        "  print(temp_mult)\n",
        "\n",
        "calculate_factorial() "
      ],
      "execution_count": null,
      "outputs": [
        {
          "output_type": "stream",
          "text": [
            "please enter a number to be factorised6\n",
            "720\n"
          ],
          "name": "stdout"
        }
      ]
    },
    {
      "cell_type": "code",
      "metadata": {
        "id": "ggBfNfiUtD1m",
        "outputId": "adeb0585-6a1d-48ea-b7e5-cabacc945158",
        "colab": {
          "base_uri": "https://localhost:8080/"
        }
      },
      "source": [
        "def calculate_factorial(): #the other way\n",
        "  number = int(input('please enter a number to be factorised'))\n",
        "  m = 1\n",
        "  if number == 0:\n",
        "    print(m)\n",
        "  else:\n",
        "    tempmult = 1\n",
        "    while tempmult <= number:\n",
        "      m *= tempmult\n",
        "      tempmult +=1\n",
        "    print(m)\n",
        "\n",
        "calculate_factorial()"
      ],
      "execution_count": 13,
      "outputs": [
        {
          "output_type": "stream",
          "text": [
            "please enter a number to be factorised6\n",
            "720\n"
          ],
          "name": "stdout"
        }
      ]
    },
    {
      "cell_type": "code",
      "metadata": {
        "id": "kPxEVjDluarO",
        "outputId": "a41f75e5-e62a-49a0-b1de-78ec2a161794",
        "colab": {
          "base_uri": "https://localhost:8080/"
        }
      },
      "source": [
        "calculate_factorial()\n"
      ],
      "execution_count": 14,
      "outputs": [
        {
          "output_type": "stream",
          "text": [
            "please enter a number to be factorised10\n",
            "3628800\n"
          ],
          "name": "stdout"
        }
      ]
    },
    {
      "cell_type": "code",
      "metadata": {
        "id": "CcFNW1dNujR5",
        "outputId": "fface339-29b9-4dce-84b4-c740af2cef43",
        "colab": {
          "base_uri": "https://localhost:8080/"
        }
      },
      "source": [
        "calculate_factorial()"
      ],
      "execution_count": 15,
      "outputs": [
        {
          "output_type": "stream",
          "text": [
            "please enter a number to be factorised1\n",
            "1\n"
          ],
          "name": "stdout"
        }
      ]
    },
    {
      "cell_type": "code",
      "metadata": {
        "colab": {
          "base_uri": "https://localhost:8080/"
        },
        "id": "x2g7uBl-wwKL",
        "outputId": "1f583d45-4100-4543-9a22-258fa36fb749"
      },
      "source": [
        "calculate_factorial()"
      ],
      "execution_count": null,
      "outputs": [
        {
          "output_type": "stream",
          "text": [
            "please enter a number to be factorised10\n",
            "3628800\n"
          ],
          "name": "stdout"
        }
      ]
    },
    {
      "cell_type": "code",
      "metadata": {
        "colab": {
          "base_uri": "https://localhost:8080/"
        },
        "id": "kwld6niIw3Hz",
        "outputId": "3c83ed8d-90c1-4037-a802-eec851c3fdc3"
      },
      "source": [
        "calculate_factorial()"
      ],
      "execution_count": null,
      "outputs": [
        {
          "output_type": "stream",
          "text": [
            "please enter a number to be factorised1\n",
            "1\n"
          ],
          "name": "stdout"
        }
      ]
    },
    {
      "cell_type": "code",
      "metadata": {
        "colab": {
          "base_uri": "https://localhost:8080/"
        },
        "id": "UkunjmEIw1Uv",
        "outputId": "25e9477f-4fa2-49e3-f22f-38e56e2960b8"
      },
      "source": [
        "calculate_factorial()"
      ],
      "execution_count": null,
      "outputs": [
        {
          "output_type": "stream",
          "text": [
            "please enter a number to be factorised0\n",
            "1\n"
          ],
          "name": "stdout"
        }
      ]
    },
    {
      "cell_type": "markdown",
      "metadata": {
        "id": "q1q-bTvERBHm"
      },
      "source": [
        "---\n",
        "## Challenge 3 - rolling a dice \n",
        "\n",
        "Write a function called **roll_dice()** that will use the `randint()` function from random to create random dice rolls for two dice.\n",
        "\n",
        "*  'roll' the two dice 6 times and count how many doubles were rolled in those 6 rolls.\n",
        "*  use a *for* loop\n",
        "\n",
        "*Hint: to throw a dice use the following:*\n",
        "\n",
        "`dice1 = randint(1,7)`\n",
        "\n",
        "Example input (computer):  \n",
        "\n",
        "4 1   \n",
        "5 5   \n",
        "6 3   \n",
        "2 2   \n",
        "3 4  \n",
        "1 1 \n",
        "\n",
        "Expected output:\n",
        "\n",
        "3   "
      ]
    },
    {
      "cell_type": "code",
      "metadata": {
        "id": "tppPCMWHR5Vv",
        "colab": {
          "base_uri": "https://localhost:8080/"
        },
        "outputId": "9af79486-05f6-4c9f-b249-5ceea8f3e3dd"
      },
      "source": [
        "from random import randint \n",
        "\n",
        "# Add your function below here\n",
        "def roll_dice():\n",
        "  count = 0\n",
        "  for i in range(6):\n",
        "    dice1 = randint(1,7)\n",
        "    dice2 = randint(1,7)\n",
        "    if dice1 == dice2:\n",
        "      count += 1\n",
        "  print(count)\n",
        "\n",
        "roll_dice() #random results"
      ],
      "execution_count": null,
      "outputs": [
        {
          "output_type": "stream",
          "text": [
            "2\n"
          ],
          "name": "stdout"
        }
      ]
    },
    {
      "cell_type": "markdown",
      "metadata": {
        "id": "Kn0hb-ORSETx"
      },
      "source": [
        "---\n",
        "## Challenge 4 - fizz buzz \n",
        "\n",
        "Write a function called **fizz_buzz()** using a *for* loop which:\n",
        "\n",
        "* iterates over the numbers 1 to 30   \n",
        "* if the **number** is a multiple of 3 - print \"fizz\" instead of the `number`  \n",
        "* if it is a multiple of 5 - print \"buzz\" instead of the `number`   \n",
        "* if it is a multiple of both 3 and 5 - print \"fizzbuzz\" instead of the `number`    \n",
        "\n",
        "Expected Output:   \n",
        "1  \n",
        "2  \n",
        "fizz  \n",
        "4  \n",
        "buzz  \n",
        "fizz  \n",
        "7  \n",
        "8  \n",
        "fizz  \n",
        "buzz  \n",
        "11  \n",
        "fizz  \n",
        "13  \n",
        "14  \n",
        "fizz  \n",
        "16  \n",
        "17  \n",
        "fizz  \n",
        "19  \n",
        "20  \n",
        "fizz  \n",
        "22  \n",
        "23  \n",
        "fizz  \n",
        "25  \n",
        "26  \n",
        "fizz  \n",
        "28  \n",
        "29  \n",
        "fizzbuzz  "
      ]
    },
    {
      "cell_type": "code",
      "metadata": {
        "id": "L3CBRgNdSZhy",
        "colab": {
          "base_uri": "https://localhost:8080/"
        },
        "outputId": "626fdeb5-19fc-425d-96c9-7f7ca6261256"
      },
      "source": [
        "def fizz_buzz():\n",
        "  for i in range(1,31):\n",
        "    if i%3 == 0 and i%5 == 0:\n",
        "      print('fizzbuzz')\n",
        "    elif i%3 == 0:\n",
        "      print('fizz')\n",
        "    elif i%5 == 0:\n",
        "      print('buzz')\n",
        "    else:\n",
        "      print(i)\n",
        "\n",
        "fizz_buzz()"
      ],
      "execution_count": null,
      "outputs": [
        {
          "output_type": "stream",
          "text": [
            "1\n",
            "2\n",
            "fizz\n",
            "4\n",
            "buzz\n",
            "fizz\n",
            "7\n",
            "8\n",
            "fizz\n",
            "buzz\n",
            "11\n",
            "fizz\n",
            "13\n",
            "14\n",
            "fizzbuzz\n",
            "16\n",
            "17\n",
            "fizz\n",
            "19\n",
            "buzz\n",
            "fizz\n",
            "22\n",
            "23\n",
            "fizz\n",
            "buzz\n",
            "26\n",
            "fizz\n",
            "28\n",
            "29\n",
            "fizzbuzz\n"
          ],
          "name": "stdout"
        }
      ]
    },
    {
      "cell_type": "markdown",
      "metadata": {
        "id": "xFo3wYgkTBLs"
      },
      "source": [
        "---\n",
        "## Challenge 5 - perfect numbers \n",
        "\n",
        "Write a function called **check_perfect()** which checks whether a given number is perfect or not.\n",
        "\n",
        "* *a perfect number is a positive integer that is equal to the sum of its positive factors (factors > 0) excluding the number itself.* \n",
        "* *it is also half the sum of all positive factors including itself*\n",
        "\n",
        "\n",
        "*For example:*  \n",
        "*6 is a perfect number. It's only factors are 1, 2 & 3.   \n",
        "1 + 2 + 3 = 6  \n",
        "(1 + 2 + 3 + 6)/2 =6*  \n",
        "\n",
        "**Your function will:**\n",
        "\n",
        "* ask the user to input a **number**\n",
        "* find all of the given numbers that are positive factors, adding them together as it goes through the loop \n",
        "* check whether `number` is perfect or not (both checks)  \n",
        "* print either `number` is perfect or `number` is not perfect\n",
        "\n",
        "Test input:  \n",
        "6   \n",
        "23   \n",
        "28\n",
        "\n",
        "Expected output:  \n",
        "6 is perfect   \n",
        "23 is not perfect  \n",
        "28 is perfect    \n",
        "\n",
        "\n",
        "\n"
      ]
    },
    {
      "cell_type": "code",
      "metadata": {
        "id": "RsYuicPCWHqo",
        "colab": {
          "base_uri": "https://localhost:8080/"
        },
        "outputId": "97319834-db0b-48dc-a8a2-95872e48cc5c"
      },
      "source": [
        "def check_perfect():\n",
        "  number = int(input('please enter a number: '))\n",
        "  factor_sum = 0\n",
        "  for i in range(1,number):\n",
        "    if number%i == 0:\n",
        "      factor_sum += i\n",
        "  if factor_sum == number:\n",
        "    print(number, 'is perfect')\n",
        "  elif factor_sum != number:\n",
        "    print(number, 'is not perfect')\n",
        "\n",
        "check_perfect()"
      ],
      "execution_count": null,
      "outputs": [
        {
          "output_type": "stream",
          "text": [
            "please enter a number: 6\n",
            "6 is perfect\n"
          ],
          "name": "stdout"
        }
      ]
    },
    {
      "cell_type": "code",
      "metadata": {
        "colab": {
          "base_uri": "https://localhost:8080/"
        },
        "id": "zpAtxUNy7K_o",
        "outputId": "7cd224e8-02ce-41d1-cafb-91e7217aff01"
      },
      "source": [
        "check_perfect()"
      ],
      "execution_count": null,
      "outputs": [
        {
          "output_type": "stream",
          "text": [
            "please enter a number: 23\n",
            "23 is not perfect\n"
          ],
          "name": "stdout"
        }
      ]
    },
    {
      "cell_type": "code",
      "metadata": {
        "colab": {
          "base_uri": "https://localhost:8080/"
        },
        "id": "Kcum1zrz7Psw",
        "outputId": "d366ee42-5091-4407-f829-4589f64f65c0"
      },
      "source": [
        "check_perfect()"
      ],
      "execution_count": null,
      "outputs": [
        {
          "output_type": "stream",
          "text": [
            "please enter a number: 28\n",
            "28 is perfect\n"
          ],
          "name": "stdout"
        }
      ]
    },
    {
      "cell_type": "markdown",
      "metadata": {
        "id": "i8sxKhcEH11h"
      },
      "source": [
        "## Challenge 6 - Passcode   \n",
        "\n",
        "Write a function called **guess_letter(passcode, missing_letter)** which will allow a user to play a game with the computer.  \n",
        "\n",
        "* the computer needs to 'generate' a random passcode with a missing letter (this is done for you)   \n",
        "* the user has up to three attempts to guess the missing letter in a passcode.  \n",
        "\n",
        "### the passcode generator  \n",
        "\n",
        "This code is given to you and will choose 4 letters in the range A-Z (capitals only) and randomly selecting one to be replaced by a *  \n",
        "\n",
        "**Your function should follow these rules:**\n",
        "\n",
        "*  ask the user to enter the missing **letter**  \n",
        "*  count the **attempt**  \n",
        "* if the letter is correct, print the message \"Correct passcode\" and then stop    \n",
        "* if the letter is incorrect, print the message, \"You have `attempts` attempts left\"  \n",
        "* if three wrong attempts have been made and the user hasn't entered the correct letter, print \"No more attempts\"  \n",
        "\n",
        "Example input (computer):  \n",
        "\n",
        "NR*R , B \n",
        "\n",
        "Example input (user):  \n",
        "A    \n",
        "B  \n",
        "C  \n",
        "\n",
        "Expected output:  \n",
        "No more attempts   \n",
        "\n",
        "Example input (computer):  \n",
        "A*RD , T  \n",
        "\n",
        "Example input (user):  \n",
        "T    \n",
        "\n",
        "Expected output:  \n",
        "Correct passcode  \n",
        "\n",
        "Example input (computer):  \n",
        "*FES , F  \n",
        "\n",
        "Example input (user):  \n",
        "T\n",
        "F    \n",
        "\n",
        "Expected output:  \n",
        "You have 2 attempts left\n",
        "Correct passcode"
      ]
    },
    {
      "cell_type": "code",
      "metadata": {
        "id": "NJp2CgvtKP2Q",
        "colab": {
          "base_uri": "https://localhost:8080/"
        },
        "outputId": "ab9ac186-019c-40c0-e8f0-de6b17e9b189"
      },
      "source": [
        "### importing package random \n",
        "from random import choice, randint\n",
        "\n",
        "def guess_letter(passcode, missing_letter):\n",
        "# add your code below here:\n",
        "  attempts = 0\n",
        "  while attempts < 3:\n",
        "    letter = (input('please enter a letter: ')).upper()\n",
        "    attempts += 1\n",
        "    if letter == missing_letter:\n",
        "      print('Correct passcode')\n",
        "      break\n",
        "    elif letter != missing_letter:\n",
        "      if attempts == 3:\n",
        "        print('No more attempts')\n",
        "      else:\n",
        "        print('You have', 3 - attempts, 'attempts left')\n",
        "    \n",
        "  print(passcode, missing_letter)\n",
        "\n",
        "\n",
        "\n",
        "### code to generate a passcode with a missing letter, then run the function guess_passcode\n",
        "### DO NOT change anything below here\n",
        "passcode = \"\"\n",
        "letters = [chr(a) for a in range(ord('A'),ord('Z')+1)] # generate the letter between A and Z\n",
        "missing_position = randint(0,4)\n",
        "missing_letter = \"*\"\n",
        "for i in range(4):\n",
        "  letter = choice(letters)\n",
        "  if i == missing_position:\n",
        "    missing_letter = letter\n",
        "    passcode += \"*\"\n",
        "  else:\n",
        "    passcode += letter\n",
        "\n",
        "guess_letter(passcode, missing_letter)"
      ],
      "execution_count": null,
      "outputs": [
        {
          "output_type": "stream",
          "text": [
            "please enter a letter: A\n",
            "You have 2 attempts left\n",
            "please enter a letter: B\n",
            "You have 1 attempts left\n",
            "please enter a letter: C\n",
            "No more attempts\n",
            "SF*I L\n"
          ],
          "name": "stdout"
        }
      ]
    },
    {
      "cell_type": "code",
      "metadata": {
        "colab": {
          "base_uri": "https://localhost:8080/"
        },
        "id": "ykO8wxBiAh9Y",
        "outputId": "3fc0565c-eabd-4d77-bd0a-3a11bded9616"
      },
      "source": [
        "guess_letter(passcode, missing_letter)"
      ],
      "execution_count": null,
      "outputs": [
        {
          "output_type": "stream",
          "text": [
            "please enter a letter: T\n",
            "You have 2 attempts left\n",
            "please enter a letter: U\n",
            "You have 1 attempts left\n",
            "please enter a letter: y\n",
            "No more attempts\n",
            "SF*I L\n"
          ],
          "name": "stdout"
        }
      ]
    }
  ]
}