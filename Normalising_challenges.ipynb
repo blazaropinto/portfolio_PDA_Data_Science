{
  "nbformat": 4,
  "nbformat_minor": 0,
  "metadata": {
    "colab": {
      "name": "Copia de Normalising challenges.ipynb",
      "provenance": [],
      "collapsed_sections": [],
      "include_colab_link": true
    },
    "kernelspec": {
      "name": "python3",
      "display_name": "Python 3"
    },
    "language_info": {
      "name": "python"
    }
  },
  "cells": [
    {
      "cell_type": "markdown",
      "metadata": {
        "id": "view-in-github",
        "colab_type": "text"
      },
      "source": [
        "<a href=\"https://colab.research.google.com/github/blazaropinto/PDA_Data_Analysis_Python/blob/main/Normalising_challenges.ipynb\" target=\"_parent\"><img src=\"https://colab.research.google.com/assets/colab-badge.svg\" alt=\"Open In Colab\"/></a>"
      ]
    },
    {
      "cell_type": "markdown",
      "metadata": {
        "id": "qKkgkBgnagnq"
      },
      "source": [
        "#  Normalisation challenges"
      ]
    },
    {
      "cell_type": "markdown",
      "metadata": {
        "id": "gHU4-ADHU4eq"
      },
      "source": [
        "### Challenge 1 - prepare dataset for normalisation \n",
        "---\n",
        "1. Read Covid vaccination data from the `by_country` sheet in the Excel file at this link : https://github.com/lilaceri/Working-with-data-/blob/342abab10d93c4bf23b5c55a50f189f12a137c5f/Data%20Sets%20for%20code%20divisio/Covid%20Vaccination%20Data.xlsx?raw=true\n",
        "2. Use .info() to find out which columns have missing values\n",
        "3. Remove all rows with missing data in the total_vaccination column\n",
        "4. Find the median vaccinations per hundred \n",
        "5. display the mean people vaccinated per hundred for each country in descending order\n",
        "6. find the range of total_vaccinations across the dataframe \n",
        "\n",
        "\n",
        "**Test output**:  \n",
        "1. dataframe is saved in a variable\n",
        "2. \n",
        "```\n",
        "RangeIndex: 14994 entries, 0 to 14993\n",
        "Data columns (total 15 columns):\n",
        "    Column                               Non-Null Count  Dtype         \n",
        "                                \n",
        " 0   country                              14994 non-null  object        \n",
        " 1   iso_code                             14994 non-null  object        \n",
        " 2   date                                 14994 non-null  datetime64[ns]\n",
        " 3   total_vaccinations                   9011 non-null   float64       \n",
        " 4   people_vaccinated                    8370 non-null   float64       \n",
        " 5   people_fully_vaccinated              6158 non-null   float64       \n",
        " 6   daily_vaccinations_raw               7575 non-null   float64       \n",
        " 7   daily_vaccinations                   14796 non-null  float64       \n",
        " 8   total_vaccinations_per_hundred       9011 non-null   float64       \n",
        " 9   people_vaccinated_per_hundred        8370 non-null   float64       \n",
        " 10  people_fully_vaccinated_per_hundred  6158 non-null   float64       \n",
        " 11  daily_vaccinations_per_million       14796 non-null  float64       \n",
        " 12  vaccines                             14994 non-null  object        \n",
        " 13  source_name                          14994 non-null  object        \n",
        " 14  source_website                       14994 non-null  object        \n",
        "dtypes: datetime64[ns](1), float64(9), object(5)\n",
        "memory usage: 1.7+ MB\n",
        "```\n",
        "3. 9011 rows × 15 columns\n",
        "4. 7.78\n",
        "5. \n",
        "```\n",
        "country\n",
        "Gibraltar       72.172462\n",
        "Maldives        51.276087\n",
        "Israel          48.931008\n",
        "Seychelles      48.233333\n",
        "Aruba           42.155000\n",
        "                  ...    \n",
        "Guinea           0.677000\n",
        "Sierra Leone     0.530000\n",
        "Namibia          0.317143\n",
        "South Africa     0.261667\n",
        "Albania          0.080000\n",
        "Name: people_vaccinated_per_hundred, Length: 104, dtype: float64\n",
        "```\n",
        "6. 275338000.0\n"
      ]
    },
    {
      "cell_type": "code",
      "metadata": {
        "id": "Hb36AOCAbJIR",
        "colab": {
          "base_uri": "https://localhost:8080/",
          "height": 264
        },
        "outputId": "0191677e-be62-45a6-c947-c469e2ed5989"
      },
      "source": [
        "import pandas as pd\n",
        "\n",
        "excel_url = 'https://github.com/lilaceri/Working-with-data-/blob/342abab10d93c4bf23b5c55a50f189f12a137c5f/Data%20Sets%20for%20code%20divisio/Covid%20Vaccination%20Data.xlsx?raw=true'\n",
        "\n",
        "sheet = 'by_country'\n",
        "\n",
        "covid_vaccination = pd.read_excel(excel_url, sheet_name=sheet)\n",
        "\n",
        "covid_vaccination.head(3)"
      ],
      "execution_count": 24,
      "outputs": [
        {
          "output_type": "execute_result",
          "data": {
            "text/html": [
              "<div>\n",
              "<style scoped>\n",
              "    .dataframe tbody tr th:only-of-type {\n",
              "        vertical-align: middle;\n",
              "    }\n",
              "\n",
              "    .dataframe tbody tr th {\n",
              "        vertical-align: top;\n",
              "    }\n",
              "\n",
              "    .dataframe thead th {\n",
              "        text-align: right;\n",
              "    }\n",
              "</style>\n",
              "<table border=\"1\" class=\"dataframe\">\n",
              "  <thead>\n",
              "    <tr style=\"text-align: right;\">\n",
              "      <th></th>\n",
              "      <th>country</th>\n",
              "      <th>iso_code</th>\n",
              "      <th>date</th>\n",
              "      <th>total_vaccinations</th>\n",
              "      <th>people_vaccinated</th>\n",
              "      <th>people_fully_vaccinated</th>\n",
              "      <th>daily_vaccinations_raw</th>\n",
              "      <th>daily_vaccinations</th>\n",
              "      <th>total_vaccinations_per_hundred</th>\n",
              "      <th>people_vaccinated_per_hundred</th>\n",
              "      <th>people_fully_vaccinated_per_hundred</th>\n",
              "      <th>daily_vaccinations_per_million</th>\n",
              "      <th>vaccines</th>\n",
              "      <th>source_name</th>\n",
              "      <th>source_website</th>\n",
              "    </tr>\n",
              "  </thead>\n",
              "  <tbody>\n",
              "    <tr>\n",
              "      <th>0</th>\n",
              "      <td>Afghanistan</td>\n",
              "      <td>AFG</td>\n",
              "      <td>2021-02-22</td>\n",
              "      <td>0.0</td>\n",
              "      <td>0.0</td>\n",
              "      <td>NaN</td>\n",
              "      <td>NaN</td>\n",
              "      <td>NaN</td>\n",
              "      <td>0.0</td>\n",
              "      <td>0.0</td>\n",
              "      <td>NaN</td>\n",
              "      <td>NaN</td>\n",
              "      <td>Oxford/AstraZeneca</td>\n",
              "      <td>Government of Afghanistan</td>\n",
              "      <td>https://reliefweb.int/report/afghanistan/afgha...</td>\n",
              "    </tr>\n",
              "    <tr>\n",
              "      <th>1</th>\n",
              "      <td>Afghanistan</td>\n",
              "      <td>AFG</td>\n",
              "      <td>2021-02-23</td>\n",
              "      <td>NaN</td>\n",
              "      <td>NaN</td>\n",
              "      <td>NaN</td>\n",
              "      <td>NaN</td>\n",
              "      <td>1367.0</td>\n",
              "      <td>NaN</td>\n",
              "      <td>NaN</td>\n",
              "      <td>NaN</td>\n",
              "      <td>35.0</td>\n",
              "      <td>Oxford/AstraZeneca</td>\n",
              "      <td>Government of Afghanistan</td>\n",
              "      <td>https://reliefweb.int/report/afghanistan/afgha...</td>\n",
              "    </tr>\n",
              "    <tr>\n",
              "      <th>2</th>\n",
              "      <td>Afghanistan</td>\n",
              "      <td>AFG</td>\n",
              "      <td>2021-02-24</td>\n",
              "      <td>NaN</td>\n",
              "      <td>NaN</td>\n",
              "      <td>NaN</td>\n",
              "      <td>NaN</td>\n",
              "      <td>1367.0</td>\n",
              "      <td>NaN</td>\n",
              "      <td>NaN</td>\n",
              "      <td>NaN</td>\n",
              "      <td>35.0</td>\n",
              "      <td>Oxford/AstraZeneca</td>\n",
              "      <td>Government of Afghanistan</td>\n",
              "      <td>https://reliefweb.int/report/afghanistan/afgha...</td>\n",
              "    </tr>\n",
              "  </tbody>\n",
              "</table>\n",
              "</div>"
            ],
            "text/plain": [
              "       country  ...                                     source_website\n",
              "0  Afghanistan  ...  https://reliefweb.int/report/afghanistan/afgha...\n",
              "1  Afghanistan  ...  https://reliefweb.int/report/afghanistan/afgha...\n",
              "2  Afghanistan  ...  https://reliefweb.int/report/afghanistan/afgha...\n",
              "\n",
              "[3 rows x 15 columns]"
            ]
          },
          "metadata": {
            "tags": []
          },
          "execution_count": 24
        }
      ]
    },
    {
      "cell_type": "markdown",
      "metadata": {
        "id": "RVmWMukJ40r9"
      },
      "source": [
        "##### Use .info() to find out which columns have missing values"
      ]
    },
    {
      "cell_type": "code",
      "metadata": {
        "colab": {
          "base_uri": "https://localhost:8080/"
        },
        "id": "QV3qv94e12Cb",
        "outputId": "c309e6c5-0d3f-47c7-f333-6d63096db312"
      },
      "source": [
        "covid_vaccination.info()"
      ],
      "execution_count": 25,
      "outputs": [
        {
          "output_type": "stream",
          "text": [
            "<class 'pandas.core.frame.DataFrame'>\n",
            "RangeIndex: 14994 entries, 0 to 14993\n",
            "Data columns (total 15 columns):\n",
            " #   Column                               Non-Null Count  Dtype         \n",
            "---  ------                               --------------  -----         \n",
            " 0   country                              14994 non-null  object        \n",
            " 1   iso_code                             14994 non-null  object        \n",
            " 2   date                                 14994 non-null  datetime64[ns]\n",
            " 3   total_vaccinations                   9011 non-null   float64       \n",
            " 4   people_vaccinated                    8370 non-null   float64       \n",
            " 5   people_fully_vaccinated              6158 non-null   float64       \n",
            " 6   daily_vaccinations_raw               7575 non-null   float64       \n",
            " 7   daily_vaccinations                   14796 non-null  float64       \n",
            " 8   total_vaccinations_per_hundred       9011 non-null   float64       \n",
            " 9   people_vaccinated_per_hundred        8370 non-null   float64       \n",
            " 10  people_fully_vaccinated_per_hundred  6158 non-null   float64       \n",
            " 11  daily_vaccinations_per_million       14796 non-null  float64       \n",
            " 12  vaccines                             14994 non-null  object        \n",
            " 13  source_name                          14994 non-null  object        \n",
            " 14  source_website                       14994 non-null  object        \n",
            "dtypes: datetime64[ns](1), float64(9), object(5)\n",
            "memory usage: 1.7+ MB\n"
          ],
          "name": "stdout"
        }
      ]
    },
    {
      "cell_type": "markdown",
      "metadata": {
        "id": "cvm4laVS437O"
      },
      "source": [
        "##### Remove all rows with missing data in the total_vaccination column"
      ]
    },
    {
      "cell_type": "code",
      "metadata": {
        "id": "KjxZxb3519Kw"
      },
      "source": [
        "covid_vaccination.dropna(subset=['total_vaccinations'], inplace=True)"
      ],
      "execution_count": 26,
      "outputs": []
    },
    {
      "cell_type": "code",
      "metadata": {
        "colab": {
          "base_uri": "https://localhost:8080/"
        },
        "id": "KIdqrYsj2a6d",
        "outputId": "cf845c0a-b019-45cc-ac82-a54c8905f66f"
      },
      "source": [
        "covid_vaccination.shape"
      ],
      "execution_count": 27,
      "outputs": [
        {
          "output_type": "execute_result",
          "data": {
            "text/plain": [
              "(9011, 15)"
            ]
          },
          "metadata": {
            "tags": []
          },
          "execution_count": 27
        }
      ]
    },
    {
      "cell_type": "code",
      "metadata": {
        "colab": {
          "base_uri": "https://localhost:8080/"
        },
        "id": "0opRn7v02WZF",
        "outputId": "2bf2a8b1-6283-4c28-b36c-e890e56f7da9"
      },
      "source": [
        "covid_vaccination.info() # still null values as we only aked to look in one column"
      ],
      "execution_count": 28,
      "outputs": [
        {
          "output_type": "stream",
          "text": [
            "<class 'pandas.core.frame.DataFrame'>\n",
            "Int64Index: 9011 entries, 0 to 14993\n",
            "Data columns (total 15 columns):\n",
            " #   Column                               Non-Null Count  Dtype         \n",
            "---  ------                               --------------  -----         \n",
            " 0   country                              9011 non-null   object        \n",
            " 1   iso_code                             9011 non-null   object        \n",
            " 2   date                                 9011 non-null   datetime64[ns]\n",
            " 3   total_vaccinations                   9011 non-null   float64       \n",
            " 4   people_vaccinated                    8294 non-null   float64       \n",
            " 5   people_fully_vaccinated              6157 non-null   float64       \n",
            " 6   daily_vaccinations_raw               7575 non-null   float64       \n",
            " 7   daily_vaccinations                   8816 non-null   float64       \n",
            " 8   total_vaccinations_per_hundred       9011 non-null   float64       \n",
            " 9   people_vaccinated_per_hundred        8294 non-null   float64       \n",
            " 10  people_fully_vaccinated_per_hundred  6157 non-null   float64       \n",
            " 11  daily_vaccinations_per_million       8816 non-null   float64       \n",
            " 12  vaccines                             9011 non-null   object        \n",
            " 13  source_name                          9011 non-null   object        \n",
            " 14  source_website                       9011 non-null   object        \n",
            "dtypes: datetime64[ns](1), float64(9), object(5)\n",
            "memory usage: 1.1+ MB\n"
          ],
          "name": "stdout"
        }
      ]
    },
    {
      "cell_type": "markdown",
      "metadata": {
        "id": "rm4gm4In5QI_"
      },
      "source": [
        "##### Find the median vaccinations per hundred"
      ]
    },
    {
      "cell_type": "code",
      "metadata": {
        "colab": {
          "base_uri": "https://localhost:8080/"
        },
        "id": "RCtKW_AP2tVc",
        "outputId": "17b2ab0b-de8b-4538-ae4b-3710bdfa35b8"
      },
      "source": [
        "covid_vaccination.total_vaccinations_per_hundred.median() "
      ],
      "execution_count": 29,
      "outputs": [
        {
          "output_type": "execute_result",
          "data": {
            "text/plain": [
              "6.3"
            ]
          },
          "metadata": {
            "tags": []
          },
          "execution_count": 29
        }
      ]
    },
    {
      "cell_type": "markdown",
      "metadata": {
        "id": "x9UvDkzu5YfN"
      },
      "source": [
        "##### display the mean people vaccinated per hundred for each country in descending order"
      ]
    },
    {
      "cell_type": "code",
      "metadata": {
        "colab": {
          "base_uri": "https://localhost:8080/"
        },
        "id": "xSNYd5-w2PuF",
        "outputId": "ae0d244c-6af1-4ee8-e6f9-4c7f8e4d8433"
      },
      "source": [
        "covid_vaccination.groupby('country')['total_vaccinations_per_hundred'].mean().sort_values(ascending=False)"
      ],
      "execution_count": 30,
      "outputs": [
        {
          "output_type": "execute_result",
          "data": {
            "text/plain": [
              "country\n",
              "Gibraltar                       107.252796\n",
              "Israel                           76.560963\n",
              "Falkland Islands                 67.773333\n",
              "Seychelles                       63.874902\n",
              "United Arab Emirates             59.860000\n",
              "                                   ...    \n",
              "Niger                             0.005000\n",
              "Syria                             0.005000\n",
              "South Sudan                       0.005000\n",
              "Democratic Republic of Congo      0.000000\n",
              "Cameroon                          0.000000\n",
              "Name: total_vaccinations_per_hundred, Length: 195, dtype: float64"
            ]
          },
          "metadata": {
            "tags": []
          },
          "execution_count": 30
        }
      ]
    },
    {
      "cell_type": "markdown",
      "metadata": {
        "id": "UGTIyN7L5bkD"
      },
      "source": [
        "##### find the range of total_vaccinations across the dataframe"
      ]
    },
    {
      "cell_type": "code",
      "metadata": {
        "colab": {
          "base_uri": "https://localhost:8080/"
        },
        "id": "GPFSFdK55e9C",
        "outputId": "5388c729-1e2a-41ea-a6a4-c435114823e0"
      },
      "source": [
        "print('The values go from', covid_vaccination.total_vaccinations.min(), 'to', covid_vaccination.total_vaccinations.max(), '\\nso the range is:', covid_vaccination.total_vaccinations.max()-covid_vaccination.total_vaccinations.min())"
      ],
      "execution_count": 31,
      "outputs": [
        {
          "output_type": "stream",
          "text": [
            "The values go from 0.0 to 275338000.0 \n",
            "so the range is: 275338000.0\n"
          ],
          "name": "stdout"
        }
      ]
    },
    {
      "cell_type": "markdown",
      "metadata": {
        "id": "G8yHJH706Cd9"
      },
      "source": [
        "### Challenge 2 - normalise daily vaccinations \n",
        "---\n",
        "\n",
        "1. Find the median daily vaccinations per million \n",
        "2. Write a function to normalise daily vaccinations per million, where values greater than or equal to median = 1 and values less than median = 0 \n",
        "\n",
        "**Test output**: \n",
        "\n",
        "1. 1915.5\n",
        "2. \n",
        "```\n",
        "0        0\n",
        "6        0\n",
        "22       0\n",
        "44       0\n",
        "59       0\n",
        "        ..\n",
        "14989    0\n",
        "14990    0\n",
        "14991    0\n",
        "14992    0\n",
        "14993    0\n",
        "Name: daily_vaccinations_per_million, Length: 9011, dtype: int64\n",
        "```"
      ]
    },
    {
      "cell_type": "code",
      "metadata": {
        "id": "nwmvVLa0aYli",
        "colab": {
          "base_uri": "https://localhost:8080/"
        },
        "outputId": "abc66b45-4e5a-4a00-bde3-e16c7a83cb24"
      },
      "source": [
        "dv_median = covid_vaccination.daily_vaccinations_per_million.median()\n",
        "dv_median"
      ],
      "execution_count": 32,
      "outputs": [
        {
          "output_type": "execute_result",
          "data": {
            "text/plain": [
              "1915.5"
            ]
          },
          "metadata": {
            "tags": []
          },
          "execution_count": 32
        }
      ]
    },
    {
      "cell_type": "code",
      "metadata": {
        "colab": {
          "base_uri": "https://localhost:8080/"
        },
        "id": "notCYsqq-EUy",
        "outputId": "9921dc13-1ce4-4b7c-f69a-301fe14acea7"
      },
      "source": [
        "def normalise_daily_vaccinations_per_million(df):\n",
        "  if df['daily_vaccinations_per_million'] >= dv_median:\n",
        "    return 1\n",
        "  else:\n",
        "    return 0\n",
        "\n",
        "covid_vaccination.apply(normalise_daily_vaccinations_per_million, axis=1) #this is not stored anywhere but to test the function"
      ],
      "execution_count": 33,
      "outputs": [
        {
          "output_type": "execute_result",
          "data": {
            "text/plain": [
              "0        0\n",
              "6        0\n",
              "22       0\n",
              "44       0\n",
              "59       0\n",
              "        ..\n",
              "14989    0\n",
              "14990    0\n",
              "14991    0\n",
              "14992    0\n",
              "14993    0\n",
              "Length: 9011, dtype: int64"
            ]
          },
          "metadata": {
            "tags": []
          },
          "execution_count": 33
        }
      ]
    },
    {
      "cell_type": "markdown",
      "metadata": {
        "id": "KznNiO1ooEcw"
      },
      "source": [
        "### Challenge 3 - Normalising total vaccinations   \n",
        "---\n",
        "The United Kingdom has been praised for its fast vaccine rollout. \n",
        "1. Find the minimum total vaccinations for the United Kingdom \n",
        "2. Save this value in a variable rounded down to an integer\n",
        "3. Write a function to normalise total_vaccinations column so that all values less than the UK's min are 0 and all values greater than or equal to the UK's min are coded as 1 \n",
        "4. Display the countries for which total vaccinated is at the same rate or more than the UK\n",
        "\n",
        "**Test output**:\n",
        "\n",
        "1. 1402432.0\n",
        "2. 1402432\n",
        "3. `df['total_vaccinations']` should output:\n",
        "```\n",
        "0        0\n",
        "6        0\n",
        "22       0\n",
        "44       0\n",
        "59       0\n",
        "        ..\n",
        "14989    0\n",
        "14990    0\n",
        "14991    0\n",
        "14992    0\n",
        "14993    0\n",
        "Name: total_vaccinations, Length: 9011, dtype: int64\n",
        "```\n",
        "4. \n",
        "```\n",
        "array(['Argentina', 'Australia', 'Austria', 'Azerbaijan', 'Bangladesh',\n",
        "       'Belgium', 'Brazil', 'Cambodia', 'Canada', 'Chile', 'China',\n",
        "       'Colombia', 'Czechia', 'Denmark', 'Dominican Republic', 'England',\n",
        "       'Finland', 'France', 'Germany', 'Greece', 'Hong Kong', 'Hungary',\n",
        "       'India', 'Indonesia', 'Ireland', 'Israel', 'Italy', 'Japan',\n",
        "       'Kazakhstan', 'Malaysia', 'Mexico', 'Morocco', 'Nepal',\n",
        "       'Netherlands', 'Norway', 'Pakistan', 'Peru', 'Philippines',\n",
        "       'Poland', 'Portugal', 'Qatar', 'Romania', 'Russia', 'Saudi Arabia',\n",
        "       'Scotland', 'Serbia', 'Singapore', 'Slovakia', 'South Korea',\n",
        "       'Spain', 'Sweden', 'Switzerland', 'Thailand', 'Turkey',\n",
        "       'United Arab Emirates', 'United Kingdom', 'United States',\n",
        "       'Uruguay', 'Wales'], dtype=object)\n",
        "```\n",
        "\n",
        "\n"
      ]
    },
    {
      "cell_type": "markdown",
      "metadata": {
        "id": "wPHMm6Hk_7Ga"
      },
      "source": [
        "##### Find the minimum total vaccinations for the United Kingdom"
      ]
    },
    {
      "cell_type": "code",
      "metadata": {
        "colab": {
          "base_uri": "https://localhost:8080/"
        },
        "id": "7CGZLfQz_-Bg",
        "outputId": "d9550b40-0cb9-4386-d738-01992c0b8790"
      },
      "source": [
        "covid_vaccination[covid_vaccination.country == 'United Kingdom']['total_vaccinations'].min()"
      ],
      "execution_count": 34,
      "outputs": [
        {
          "output_type": "execute_result",
          "data": {
            "text/plain": [
              "1402432.0"
            ]
          },
          "metadata": {
            "tags": []
          },
          "execution_count": 34
        }
      ]
    },
    {
      "cell_type": "markdown",
      "metadata": {
        "id": "r8czUAlIAiik"
      },
      "source": [
        "##### Save this value in a variable rounded down to an integer"
      ]
    },
    {
      "cell_type": "code",
      "metadata": {
        "id": "D6-QmeusbTIx",
        "colab": {
          "base_uri": "https://localhost:8080/"
        },
        "outputId": "9271713f-e5f2-4634-a989-c96544ba0208"
      },
      "source": [
        "min_total_vacc_UK = round(covid_vaccination[covid_vaccination.country == 'United Kingdom']['total_vaccinations'].min(),0)\n",
        "min_total_vacc_UK"
      ],
      "execution_count": 35,
      "outputs": [
        {
          "output_type": "execute_result",
          "data": {
            "text/plain": [
              "1402432.0"
            ]
          },
          "metadata": {
            "tags": []
          },
          "execution_count": 35
        }
      ]
    },
    {
      "cell_type": "markdown",
      "metadata": {
        "id": "X1e4o2s5BBLv"
      },
      "source": [
        "##### Write a function to normalise total_vaccinations column so that all values less than the UK's min are 0 and all values greater than or equal to the UK's min are coded as 1"
      ]
    },
    {
      "cell_type": "code",
      "metadata": {
        "colab": {
          "base_uri": "https://localhost:8080/"
        },
        "id": "UTLnN20DBFRb",
        "outputId": "e823a9e2-40bd-40a7-b011-18c0b66d6292"
      },
      "source": [
        "def normalise_total_vaccinations(df):\n",
        "  if df['total_vaccinations'] < min_total_vacc_UK:\n",
        "    return 0\n",
        "  else:\n",
        "    return 1\n",
        "\n",
        "covid_vaccination.apply(normalise_total_vaccinations, axis=1)"
      ],
      "execution_count": 36,
      "outputs": [
        {
          "output_type": "execute_result",
          "data": {
            "text/plain": [
              "0        0\n",
              "6        0\n",
              "22       0\n",
              "44       0\n",
              "59       0\n",
              "        ..\n",
              "14989    0\n",
              "14990    0\n",
              "14991    0\n",
              "14992    0\n",
              "14993    0\n",
              "Length: 9011, dtype: int64"
            ]
          },
          "metadata": {
            "tags": []
          },
          "execution_count": 36
        }
      ]
    },
    {
      "cell_type": "markdown",
      "metadata": {
        "id": "YO4FyCWHCacz"
      },
      "source": [
        "##### Display the countries for which total vaccinated is at the same rate or more than the UK"
      ]
    },
    {
      "cell_type": "code",
      "metadata": {
        "colab": {
          "base_uri": "https://localhost:8080/"
        },
        "id": "_OOcX3TABw6x",
        "outputId": "aba87703-2d9a-4242-da9a-006a44fc2a46"
      },
      "source": [
        "covid_vaccination[covid_vaccination.apply(normalise_total_vaccinations, axis=1) == 1]['country'].unique()"
      ],
      "execution_count": 37,
      "outputs": [
        {
          "output_type": "execute_result",
          "data": {
            "text/plain": [
              "array(['Argentina', 'Australia', 'Austria', 'Azerbaijan', 'Bangladesh',\n",
              "       'Belgium', 'Brazil', 'Cambodia', 'Canada', 'Chile', 'China',\n",
              "       'Colombia', 'Czechia', 'Denmark', 'Dominican Republic', 'England',\n",
              "       'Finland', 'France', 'Germany', 'Greece', 'Hong Kong', 'Hungary',\n",
              "       'India', 'Indonesia', 'Ireland', 'Israel', 'Italy', 'Japan',\n",
              "       'Kazakhstan', 'Malaysia', 'Mexico', 'Morocco', 'Nepal',\n",
              "       'Netherlands', 'Norway', 'Pakistan', 'Peru', 'Philippines',\n",
              "       'Poland', 'Portugal', 'Qatar', 'Romania', 'Russia', 'Saudi Arabia',\n",
              "       'Scotland', 'Serbia', 'Singapore', 'Slovakia', 'South Korea',\n",
              "       'Spain', 'Sweden', 'Switzerland', 'Thailand', 'Turkey',\n",
              "       'United Arab Emirates', 'United Kingdom', 'United States',\n",
              "       'Uruguay', 'Wales'], dtype=object)"
            ]
          },
          "metadata": {
            "tags": []
          },
          "execution_count": 37
        }
      ]
    },
    {
      "cell_type": "markdown",
      "metadata": {
        "id": "9upnqmDO9Yko"
      },
      "source": [
        "### Challenge 4 - create new series of total vaccinations for each manufacturer\n",
        "---\n",
        "\n",
        "To create a new column in your dataframe:\n",
        "\n",
        "`df['new_column'] = ...`\n",
        "\n",
        "For example:\n",
        "\n",
        "* to duplicate an existing column\n",
        "  * `df['new_column'] = df['old_column']`\n",
        "* to add two columns together \n",
        "  * `df['new_column'] = df['column1'] + df['column2']`\n",
        "* to make a percentages column \n",
        "  * `df['new_column'] = (df['column1']/df['column1].sum()) * 100`\n",
        "\n",
        "  \n",
        "1. read data from 'by_manufacturer' sheet from Covid data \n",
        "2. find the sum of total vaccinations for each manufacturer\n",
        "3. create a new column that has the total vaccinations as a percentage of the overall sum of total vaccinations \n",
        "4. find the median percentage \n",
        "5. create a new column called 'normalised_percentages' which duplicates the percentages column\n",
        "6. normalise the normalised_percentages column so that any values greater than or equal to the median percentage = 1 and any lesser than = 0 \n",
        "\n",
        "\n",
        "**Test output**:\n",
        "\n",
        "1.\n",
        "2. \n",
        "```\n",
        "vaccine\n",
        "Johnson&Johnson        264839828\n",
        "Moderna               5548036383\n",
        "Oxford/AstraZeneca     539433203\n",
        "Pfizer/BioNTech       8690461304\n",
        "Sinovac                604660293\n",
        "Name: total_vaccinations, dtype: int64\n",
        "```\n",
        "3. \n",
        "```\n",
        "\tlocation\tdate\tvaccine\ttotal_vaccinations\tpercentages\n",
        "0\tChile\t2020-12-24\tPfizer/BioNTech\t420\t0.000003\n",
        "1\tChile\t2020-12-25\tPfizer/BioNTech\t5198\t0.000033\n",
        "2\tChile\t2020-12-26\tPfizer/BioNTech\t8338\t0.000053\n",
        "3\tChile\t2020-12-27\tPfizer/BioNTech\t8649\t0.000055\n",
        "4\tChile\t2020-12-28\tPfizer/BioNTech\t8649\t0.000055\n",
        "...\t...\t...\t...\t...\t...\n",
        "3291\tUnited States\t2021-05-01\tModerna\t105947940\t0.677095\n",
        "3292\tUnited States\t2021-05-01\tPfizer/BioNTech\t129013657\t0.824504\n",
        "3293\tUnited States\t2021-05-02\tJohnson&Johnson\t8374395\t0.053519\n",
        "3294\tUnited States\t2021-05-02\tModerna\t106780082\t0.682413\n",
        "3295\tUnited States\t2021-05-02\tPfizer/BioNTech\t130252779\t0.832423\n",
        "3296 rows × 5 columns\n",
        "```\n",
        "4. 0.0011110194374896931\n",
        "5. \n",
        "6. \n",
        "```\n",
        "\tlocation\tdate\tvaccine\ttotal_vaccinations\tpercentages\tnormalise\tnormalised\n",
        "0\tChile\t2020-12-24\tPfizer/BioNTech\t420\t0.000003\t0.000003\t0\n",
        "1\tChile\t2020-12-25\tPfizer/BioNTech\t5198\t0.000033\t0.000033\t0\n",
        "2\tChile\t2020-12-26\tPfizer/BioNTech\t8338\t0.000053\t0.000053\t0\n",
        "3\tChile\t2020-12-27\tPfizer/BioNTech\t8649\t0.000055\t0.000055\t0\n",
        "4\tChile\t2020-12-28\tPfizer/BioNTech\t8649\t0.000055\t0.000055\t0\n",
        "...\t...\t...\t...\t...\t...\t...\t...\n",
        "3291\tUnited States\t2021-05-01\tModerna\t105947940\t0.677095\t0.677095\t1\n",
        "3292\tUnited States\t2021-05-01\tPfizer/BioNTech\t129013657\t0.824504\t0.824504\t1\n",
        "3293\tUnited States\t2021-05-02\tJohnson&Johnson\t8374395\t0.053519\t0.053519\t1\n",
        "3294\tUnited States\t2021-05-02\tModerna\t106780082\t0.682413\t0.682413\t1\n",
        "3295\tUnited States\t2021-05-02\tPfizer/BioNTech\t130252779\t0.832423\t0.832423\t1\n",
        "3296 rows × 7 columns\n",
        "```\n",
        "\n"
      ]
    },
    {
      "cell_type": "markdown",
      "metadata": {
        "id": "F_Ugydj2DxFW"
      },
      "source": [
        "##### read data from 'by_manufacturer' sheet from Covid data"
      ]
    },
    {
      "cell_type": "code",
      "metadata": {
        "id": "SOR5I5cIbTx5",
        "colab": {
          "base_uri": "https://localhost:8080/",
          "height": 142
        },
        "outputId": "fbfc6f1b-e52e-400d-c808-c9324aa8d032"
      },
      "source": [
        "sheet2 = 'by_manufacturer'\n",
        "\n",
        "covid_vaccination2 = pd.read_excel(excel_url, sheet2)\n",
        "covid_vaccination2.head(3)"
      ],
      "execution_count": 38,
      "outputs": [
        {
          "output_type": "execute_result",
          "data": {
            "text/html": [
              "<div>\n",
              "<style scoped>\n",
              "    .dataframe tbody tr th:only-of-type {\n",
              "        vertical-align: middle;\n",
              "    }\n",
              "\n",
              "    .dataframe tbody tr th {\n",
              "        vertical-align: top;\n",
              "    }\n",
              "\n",
              "    .dataframe thead th {\n",
              "        text-align: right;\n",
              "    }\n",
              "</style>\n",
              "<table border=\"1\" class=\"dataframe\">\n",
              "  <thead>\n",
              "    <tr style=\"text-align: right;\">\n",
              "      <th></th>\n",
              "      <th>location</th>\n",
              "      <th>date</th>\n",
              "      <th>vaccine</th>\n",
              "      <th>total_vaccinations</th>\n",
              "    </tr>\n",
              "  </thead>\n",
              "  <tbody>\n",
              "    <tr>\n",
              "      <th>0</th>\n",
              "      <td>Chile</td>\n",
              "      <td>2020-12-24</td>\n",
              "      <td>Pfizer/BioNTech</td>\n",
              "      <td>420</td>\n",
              "    </tr>\n",
              "    <tr>\n",
              "      <th>1</th>\n",
              "      <td>Chile</td>\n",
              "      <td>2020-12-25</td>\n",
              "      <td>Pfizer/BioNTech</td>\n",
              "      <td>5198</td>\n",
              "    </tr>\n",
              "    <tr>\n",
              "      <th>2</th>\n",
              "      <td>Chile</td>\n",
              "      <td>2020-12-26</td>\n",
              "      <td>Pfizer/BioNTech</td>\n",
              "      <td>8338</td>\n",
              "    </tr>\n",
              "  </tbody>\n",
              "</table>\n",
              "</div>"
            ],
            "text/plain": [
              "  location       date          vaccine  total_vaccinations\n",
              "0    Chile 2020-12-24  Pfizer/BioNTech                 420\n",
              "1    Chile 2020-12-25  Pfizer/BioNTech                5198\n",
              "2    Chile 2020-12-26  Pfizer/BioNTech                8338"
            ]
          },
          "metadata": {
            "tags": []
          },
          "execution_count": 38
        }
      ]
    },
    {
      "cell_type": "markdown",
      "metadata": {
        "id": "TvWo0bVOD0M8"
      },
      "source": [
        "##### find the sum of total vaccinations for each manufacturer"
      ]
    },
    {
      "cell_type": "code",
      "metadata": {
        "colab": {
          "base_uri": "https://localhost:8080/"
        },
        "id": "th6OrK7UExxx",
        "outputId": "a5911eb9-d72c-4ee2-d7e2-543ee871371b"
      },
      "source": [
        "covid_vaccination2.groupby('vaccine')['total_vaccinations'].sum()"
      ],
      "execution_count": 39,
      "outputs": [
        {
          "output_type": "execute_result",
          "data": {
            "text/plain": [
              "vaccine\n",
              "Johnson&Johnson        264839828\n",
              "Moderna               5548036383\n",
              "Oxford/AstraZeneca     539433203\n",
              "Pfizer/BioNTech       8690461304\n",
              "Sinovac                604660293\n",
              "Name: total_vaccinations, dtype: int64"
            ]
          },
          "metadata": {
            "tags": []
          },
          "execution_count": 39
        }
      ]
    },
    {
      "cell_type": "markdown",
      "metadata": {
        "id": "rMjvYUk4D3zO"
      },
      "source": [
        "##### create a new column that has the total vaccinations as a percentage of the overall sum of total vaccinations"
      ]
    },
    {
      "cell_type": "code",
      "metadata": {
        "id": "KPXWXd7gFN6Z",
        "colab": {
          "base_uri": "https://localhost:8080/",
          "height": 204
        },
        "outputId": "562823d1-5184-46bc-f3ac-1fef5a035db7"
      },
      "source": [
        "covid_vaccination2['percentages'] = covid_vaccination2.total_vaccinations * 100 / covid_vaccination2.total_vaccinations.sum()\n",
        "covid_vaccination2.head()"
      ],
      "execution_count": 40,
      "outputs": [
        {
          "output_type": "execute_result",
          "data": {
            "text/html": [
              "<div>\n",
              "<style scoped>\n",
              "    .dataframe tbody tr th:only-of-type {\n",
              "        vertical-align: middle;\n",
              "    }\n",
              "\n",
              "    .dataframe tbody tr th {\n",
              "        vertical-align: top;\n",
              "    }\n",
              "\n",
              "    .dataframe thead th {\n",
              "        text-align: right;\n",
              "    }\n",
              "</style>\n",
              "<table border=\"1\" class=\"dataframe\">\n",
              "  <thead>\n",
              "    <tr style=\"text-align: right;\">\n",
              "      <th></th>\n",
              "      <th>location</th>\n",
              "      <th>date</th>\n",
              "      <th>vaccine</th>\n",
              "      <th>total_vaccinations</th>\n",
              "      <th>percentages</th>\n",
              "    </tr>\n",
              "  </thead>\n",
              "  <tbody>\n",
              "    <tr>\n",
              "      <th>0</th>\n",
              "      <td>Chile</td>\n",
              "      <td>2020-12-24</td>\n",
              "      <td>Pfizer/BioNTech</td>\n",
              "      <td>420</td>\n",
              "      <td>0.000003</td>\n",
              "    </tr>\n",
              "    <tr>\n",
              "      <th>1</th>\n",
              "      <td>Chile</td>\n",
              "      <td>2020-12-25</td>\n",
              "      <td>Pfizer/BioNTech</td>\n",
              "      <td>5198</td>\n",
              "      <td>0.000033</td>\n",
              "    </tr>\n",
              "    <tr>\n",
              "      <th>2</th>\n",
              "      <td>Chile</td>\n",
              "      <td>2020-12-26</td>\n",
              "      <td>Pfizer/BioNTech</td>\n",
              "      <td>8338</td>\n",
              "      <td>0.000053</td>\n",
              "    </tr>\n",
              "    <tr>\n",
              "      <th>3</th>\n",
              "      <td>Chile</td>\n",
              "      <td>2020-12-27</td>\n",
              "      <td>Pfizer/BioNTech</td>\n",
              "      <td>8649</td>\n",
              "      <td>0.000055</td>\n",
              "    </tr>\n",
              "    <tr>\n",
              "      <th>4</th>\n",
              "      <td>Chile</td>\n",
              "      <td>2020-12-28</td>\n",
              "      <td>Pfizer/BioNTech</td>\n",
              "      <td>8649</td>\n",
              "      <td>0.000055</td>\n",
              "    </tr>\n",
              "  </tbody>\n",
              "</table>\n",
              "</div>"
            ],
            "text/plain": [
              "  location       date          vaccine  total_vaccinations  percentages\n",
              "0    Chile 2020-12-24  Pfizer/BioNTech                 420     0.000003\n",
              "1    Chile 2020-12-25  Pfizer/BioNTech                5198     0.000033\n",
              "2    Chile 2020-12-26  Pfizer/BioNTech                8338     0.000053\n",
              "3    Chile 2020-12-27  Pfizer/BioNTech                8649     0.000055\n",
              "4    Chile 2020-12-28  Pfizer/BioNTech                8649     0.000055"
            ]
          },
          "metadata": {
            "tags": []
          },
          "execution_count": 40
        }
      ]
    },
    {
      "cell_type": "markdown",
      "metadata": {
        "id": "ePS1SXdJD7bN"
      },
      "source": [
        "##### find the median percentage"
      ]
    },
    {
      "cell_type": "code",
      "metadata": {
        "colab": {
          "base_uri": "https://localhost:8080/"
        },
        "id": "twToqjHlHix4",
        "outputId": "67e143a8-ec92-4964-e07e-9746d874c803"
      },
      "source": [
        "perc_median = covid_vaccination2.percentages.median()\n",
        "perc_median"
      ],
      "execution_count": 41,
      "outputs": [
        {
          "output_type": "execute_result",
          "data": {
            "text/plain": [
              "0.0011110194374896931"
            ]
          },
          "metadata": {
            "tags": []
          },
          "execution_count": 41
        }
      ]
    },
    {
      "cell_type": "markdown",
      "metadata": {
        "id": "Dxbr2vU0D-Vr"
      },
      "source": [
        "##### create a new column called 'normalised_percentages' which duplicates the percentages column"
      ]
    },
    {
      "cell_type": "code",
      "metadata": {
        "id": "FUMTns9EHzJd"
      },
      "source": [
        "covid_vaccination2['normalised_percentages'] = covid_vaccination2.percentages"
      ],
      "execution_count": 42,
      "outputs": []
    },
    {
      "cell_type": "markdown",
      "metadata": {
        "id": "rXfjR9FBELv0"
      },
      "source": [
        "##### normalise the normalised_percentages column so that any values greater than or equal to the median percentage = 1 and any lesser than = 0"
      ]
    },
    {
      "cell_type": "code",
      "metadata": {
        "colab": {
          "base_uri": "https://localhost:8080/",
          "height": 419
        },
        "id": "sjspFWzvIK45",
        "outputId": "69438a85-1d73-4425-8001-f21a02059184"
      },
      "source": [
        "def normalise_normalised_percentages(df):\n",
        "  if df['normalised_percentages'] >= perc_median:\n",
        "    return 1\n",
        "  else:\n",
        "    return 0\n",
        "\n",
        "covid_vaccination2['normalised'] = covid_vaccination2.apply(normalise_normalised_percentages, axis=1)\n",
        "covid_vaccination2"
      ],
      "execution_count": 43,
      "outputs": [
        {
          "output_type": "execute_result",
          "data": {
            "text/html": [
              "<div>\n",
              "<style scoped>\n",
              "    .dataframe tbody tr th:only-of-type {\n",
              "        vertical-align: middle;\n",
              "    }\n",
              "\n",
              "    .dataframe tbody tr th {\n",
              "        vertical-align: top;\n",
              "    }\n",
              "\n",
              "    .dataframe thead th {\n",
              "        text-align: right;\n",
              "    }\n",
              "</style>\n",
              "<table border=\"1\" class=\"dataframe\">\n",
              "  <thead>\n",
              "    <tr style=\"text-align: right;\">\n",
              "      <th></th>\n",
              "      <th>location</th>\n",
              "      <th>date</th>\n",
              "      <th>vaccine</th>\n",
              "      <th>total_vaccinations</th>\n",
              "      <th>percentages</th>\n",
              "      <th>normalised_percentages</th>\n",
              "      <th>normalised</th>\n",
              "    </tr>\n",
              "  </thead>\n",
              "  <tbody>\n",
              "    <tr>\n",
              "      <th>0</th>\n",
              "      <td>Chile</td>\n",
              "      <td>2020-12-24</td>\n",
              "      <td>Pfizer/BioNTech</td>\n",
              "      <td>420</td>\n",
              "      <td>0.000003</td>\n",
              "      <td>0.000003</td>\n",
              "      <td>0</td>\n",
              "    </tr>\n",
              "    <tr>\n",
              "      <th>1</th>\n",
              "      <td>Chile</td>\n",
              "      <td>2020-12-25</td>\n",
              "      <td>Pfizer/BioNTech</td>\n",
              "      <td>5198</td>\n",
              "      <td>0.000033</td>\n",
              "      <td>0.000033</td>\n",
              "      <td>0</td>\n",
              "    </tr>\n",
              "    <tr>\n",
              "      <th>2</th>\n",
              "      <td>Chile</td>\n",
              "      <td>2020-12-26</td>\n",
              "      <td>Pfizer/BioNTech</td>\n",
              "      <td>8338</td>\n",
              "      <td>0.000053</td>\n",
              "      <td>0.000053</td>\n",
              "      <td>0</td>\n",
              "    </tr>\n",
              "    <tr>\n",
              "      <th>3</th>\n",
              "      <td>Chile</td>\n",
              "      <td>2020-12-27</td>\n",
              "      <td>Pfizer/BioNTech</td>\n",
              "      <td>8649</td>\n",
              "      <td>0.000055</td>\n",
              "      <td>0.000055</td>\n",
              "      <td>0</td>\n",
              "    </tr>\n",
              "    <tr>\n",
              "      <th>4</th>\n",
              "      <td>Chile</td>\n",
              "      <td>2020-12-28</td>\n",
              "      <td>Pfizer/BioNTech</td>\n",
              "      <td>8649</td>\n",
              "      <td>0.000055</td>\n",
              "      <td>0.000055</td>\n",
              "      <td>0</td>\n",
              "    </tr>\n",
              "    <tr>\n",
              "      <th>...</th>\n",
              "      <td>...</td>\n",
              "      <td>...</td>\n",
              "      <td>...</td>\n",
              "      <td>...</td>\n",
              "      <td>...</td>\n",
              "      <td>...</td>\n",
              "      <td>...</td>\n",
              "    </tr>\n",
              "    <tr>\n",
              "      <th>3291</th>\n",
              "      <td>United States</td>\n",
              "      <td>2021-05-01</td>\n",
              "      <td>Moderna</td>\n",
              "      <td>105947940</td>\n",
              "      <td>0.677095</td>\n",
              "      <td>0.677095</td>\n",
              "      <td>1</td>\n",
              "    </tr>\n",
              "    <tr>\n",
              "      <th>3292</th>\n",
              "      <td>United States</td>\n",
              "      <td>2021-05-01</td>\n",
              "      <td>Pfizer/BioNTech</td>\n",
              "      <td>129013657</td>\n",
              "      <td>0.824504</td>\n",
              "      <td>0.824504</td>\n",
              "      <td>1</td>\n",
              "    </tr>\n",
              "    <tr>\n",
              "      <th>3293</th>\n",
              "      <td>United States</td>\n",
              "      <td>2021-05-02</td>\n",
              "      <td>Johnson&amp;Johnson</td>\n",
              "      <td>8374395</td>\n",
              "      <td>0.053519</td>\n",
              "      <td>0.053519</td>\n",
              "      <td>1</td>\n",
              "    </tr>\n",
              "    <tr>\n",
              "      <th>3294</th>\n",
              "      <td>United States</td>\n",
              "      <td>2021-05-02</td>\n",
              "      <td>Moderna</td>\n",
              "      <td>106780082</td>\n",
              "      <td>0.682413</td>\n",
              "      <td>0.682413</td>\n",
              "      <td>1</td>\n",
              "    </tr>\n",
              "    <tr>\n",
              "      <th>3295</th>\n",
              "      <td>United States</td>\n",
              "      <td>2021-05-02</td>\n",
              "      <td>Pfizer/BioNTech</td>\n",
              "      <td>130252779</td>\n",
              "      <td>0.832423</td>\n",
              "      <td>0.832423</td>\n",
              "      <td>1</td>\n",
              "    </tr>\n",
              "  </tbody>\n",
              "</table>\n",
              "<p>3296 rows × 7 columns</p>\n",
              "</div>"
            ],
            "text/plain": [
              "           location       date  ... normalised_percentages  normalised\n",
              "0             Chile 2020-12-24  ...               0.000003           0\n",
              "1             Chile 2020-12-25  ...               0.000033           0\n",
              "2             Chile 2020-12-26  ...               0.000053           0\n",
              "3             Chile 2020-12-27  ...               0.000055           0\n",
              "4             Chile 2020-12-28  ...               0.000055           0\n",
              "...             ...        ...  ...                    ...         ...\n",
              "3291  United States 2021-05-01  ...               0.677095           1\n",
              "3292  United States 2021-05-01  ...               0.824504           1\n",
              "3293  United States 2021-05-02  ...               0.053519           1\n",
              "3294  United States 2021-05-02  ...               0.682413           1\n",
              "3295  United States 2021-05-02  ...               0.832423           1\n",
              "\n",
              "[3296 rows x 7 columns]"
            ]
          },
          "metadata": {
            "tags": []
          },
          "execution_count": 43
        }
      ]
    }
  ]
}