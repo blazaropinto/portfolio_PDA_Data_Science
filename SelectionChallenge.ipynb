{
  "nbformat": 4,
  "nbformat_minor": 0,
  "metadata": {
    "colab": {
      "name": "Copia de SelectionChallenge.ipynb",
      "provenance": [],
      "collapsed_sections": [],
      "include_colab_link": true
    },
    "kernelspec": {
      "name": "python3",
      "display_name": "Python 3"
    }
  },
  "cells": [
    {
      "cell_type": "markdown",
      "metadata": {
        "id": "view-in-github",
        "colab_type": "text"
      },
      "source": [
        "<a href=\"https://colab.research.google.com/github/blazaropinto/PDA_Data_Analysis_Python/blob/main/SelectionChallenge.ipynb\" target=\"_parent\"><img src=\"https://colab.research.google.com/assets/colab-badge.svg\" alt=\"Open In Colab\"/></a>"
      ]
    },
    {
      "cell_type": "markdown",
      "metadata": {
        "id": "-QxAKPD8DZfj"
      },
      "source": [
        "# Three selection challenges\n",
        "\n",
        "---\n"
      ]
    },
    {
      "cell_type": "markdown",
      "metadata": {
        "id": "2KYUALILDcM9"
      },
      "source": [
        "### Challenge 1 - password format  \n",
        "\n",
        "Write a function called **check_password_valid()** which will check the validity of a **password** input by a user.\n",
        "\n",
        "Rules for a valid password are:  \n",
        "\n",
        "*  At least 1 letter between [a-z] and 1 letter between [A-Z].\n",
        "*  At least 1 number between [0-9].\n",
        "*  At least 1 character from [$#@].\n",
        "*  Minimum length 6 characters.\n",
        "*  Maximum length 16 characters.  \n",
        "\n",
        "Let the user know if the `password` they have typed is valid and, if not, where was the first error.\n",
        "\n",
        "*Hint:  to test if a set of characters is present in a password String, you can use re.search([character set], `password`)*  \n",
        "\n",
        "Example:   \n",
        "*if re.search([a-z],`password`):*    \n",
        "this will be True if there is at least 1 character a-z in the password.\n",
        "\n",
        "**re** is a pre-written Python function for pattern searching in Strings.  It has been imported for you in the code cell below.  "
      ]
    },
    {
      "cell_type": "code",
      "metadata": {
        "colab": {
          "base_uri": "https://localhost:8080/"
        },
        "id": "T88BNZyvOncZ",
        "outputId": "e7ea9c11-1c5f-4e8d-e9c1-b0b64a9d892c"
      },
      "source": [
        "import re\n",
        "\n",
        "type(re.search('[a-z]','a00'))"
      ],
      "execution_count": 29,
      "outputs": [
        {
          "output_type": "execute_result",
          "data": {
            "text/plain": [
              "re.Match"
            ]
          },
          "metadata": {
            "tags": []
          },
          "execution_count": 29
        }
      ]
    },
    {
      "cell_type": "code",
      "metadata": {
        "id": "8wBK9IA4BO2e",
        "colab": {
          "base_uri": "https://localhost:8080/"
        },
        "outputId": "adafe620-c2ac-47db-cae1-0e618992593e"
      },
      "source": [
        "import re\n",
        "\n",
        "# add your check_Password_valid() function and call below here\n",
        "def check_password_valid():\n",
        "  password = input('please input a password: ')\n",
        "  rule1 = re.search('[a-z]', password)\n",
        "  rule2 = re.search('[A-Z]', password)\n",
        "  rule3 = re.search('[0-9]', password)\n",
        "  rule4 = re.search('[$#@]', password)\n",
        "  rule5 = len(password) >= 6\n",
        "  rule6 = len(password) <= 16\n",
        "  if rule1 and rule2 and rule3 and rule4 and rule5 and rule6:\n",
        "    print('valid password! :)')\n",
        "  else:\n",
        "    print('''\n",
        "    oups..try again, the rules are:\\n'\n",
        "    -At least 1 letter between [a-z] and 1 letter between [A-Z].\\n\n",
        "    -At least 1 number between [0-9].\\n\n",
        "    -At least 1 character from [$#@].\\n\n",
        "    -Minimum length 6 characters.\\n\n",
        "    -Maximum length 16 characters.\n",
        "    ''')\n",
        "\n",
        "    if not rule1:\n",
        "      print('...check the first rule')\n",
        "    elif not rule2:\n",
        "      print('...check the second rule')\n",
        "    elif not rule3:\n",
        "      print('...check the third rule')\n",
        "    elif not rule4:\n",
        "      print('...check the fourth rule')\n",
        "    elif not rule5:\n",
        "      print('...check the fifth rule')\n",
        "    else:\n",
        "      print('...check the last rule')\n",
        "\n",
        "check_password_valid()\n"
      ],
      "execution_count": 57,
      "outputs": [
        {
          "output_type": "stream",
          "text": [
            "please input a password: AAAaaa000@@@\n",
            "valid password! :)\n"
          ],
          "name": "stdout"
        }
      ]
    },
    {
      "cell_type": "code",
      "metadata": {
        "colab": {
          "base_uri": "https://localhost:8080/"
        },
        "id": "c0UKkY_qQzet",
        "outputId": "3c7f6730-d7c1-4b69-ebe5-0333066b8196"
      },
      "source": [
        "check_password_valid()"
      ],
      "execution_count": 58,
      "outputs": [
        {
          "output_type": "stream",
          "text": [
            "please input a password: AA00$$$$\n",
            "\n",
            "    oups..try again, the rules are:\n",
            "'\n",
            "    -At least 1 letter between [a-z] and 1 letter between [A-Z].\n",
            "\n",
            "    -At least 1 number between [0-9].\n",
            "\n",
            "    -At least 1 character from [$#@].\n",
            "\n",
            "    -Minimum length 6 characters.\n",
            "\n",
            "    -Maximum length 16 characters.\n",
            "    \n",
            "...check the first rule\n"
          ],
          "name": "stdout"
        }
      ]
    },
    {
      "cell_type": "code",
      "metadata": {
        "colab": {
          "base_uri": "https://localhost:8080/"
        },
        "id": "iy9wyasWeq_s",
        "outputId": "28867865-0b33-4362-b58a-8558a35dc819"
      },
      "source": [
        "check_password_valid()"
      ],
      "execution_count": 59,
      "outputs": [
        {
          "output_type": "stream",
          "text": [
            "please input a password: AAAaaa111***\n",
            "\n",
            "    oups..try again, the rules are:\n",
            "'\n",
            "    -At least 1 letter between [a-z] and 1 letter between [A-Z].\n",
            "\n",
            "    -At least 1 number between [0-9].\n",
            "\n",
            "    -At least 1 character from [$#@].\n",
            "\n",
            "    -Minimum length 6 characters.\n",
            "\n",
            "    -Maximum length 16 characters.\n",
            "    \n",
            "...check the fourth rule\n"
          ],
          "name": "stdout"
        }
      ]
    },
    {
      "cell_type": "markdown",
      "metadata": {
        "id": "f0R4GYTEFQS-"
      },
      "source": [
        "---\n",
        "### Challenge 2 - triangle shape  \n",
        "\n",
        "Write a function called **evaluate_triangle_shape()** which will check if a triangle is equilateral, isosceles or scalene, based on the three side lengths entered by a user (**x**, **y** and **z**.\n",
        "\n",
        "An equilateral triangle is a triangle in which all three sides are equal.\n",
        "A scalene triangle is a triangle that has three unequal sides.\n",
        "An isosceles triangle is a triangle with (at least) two equal sides.\n",
        "\n",
        "For example:  \n",
        "A triange with side lengths                                 \n",
        "x: 6                                                                    \n",
        "y: 8                                                                    \n",
        "z: 12                                                                   \n",
        "is a *Scalene triangle*\n",
        "\n",
        "A triangle with side lengths\n",
        "x:5  \n",
        "y:3   \n",
        "z:5  \n",
        "is an *Isosceles triangle*"
      ]
    },
    {
      "cell_type": "code",
      "metadata": {
        "id": "oBgl4ro1DVL0",
        "colab": {
          "base_uri": "https://localhost:8080/"
        },
        "outputId": "df193c0f-c768-45c9-823c-be4e9a510801"
      },
      "source": [
        "def evaluate_triangle_shape():\n",
        "  nums = input('Please enter the lenght of each side of a triangle as 3 whole numbers separated by a space: ')\n",
        "  x = int(nums.split(' ')[0])\n",
        "  y = int(nums.split(' ')[1])\n",
        "  z = int(nums.split(' ')[2])\n",
        "  sides = [x, y, z] \n",
        "  if len(set(sides)) == 1:\n",
        "    print('equilateral')\n",
        "  elif len(set(sides)) == 2:\n",
        "    print('isosceles')\n",
        "  else:\n",
        "    print('escalene')\n",
        "\n",
        "evaluate_triangle_shape()"
      ],
      "execution_count": 24,
      "outputs": [
        {
          "output_type": "stream",
          "text": [
            "Please enter the lenght of each side of a triangle as 3 whole numbers separated by a space: 6 8 12\n",
            "escalene\n"
          ],
          "name": "stdout"
        }
      ]
    },
    {
      "cell_type": "code",
      "metadata": {
        "colab": {
          "base_uri": "https://localhost:8080/"
        },
        "id": "J1YCqPSHXCFP",
        "outputId": "c1aff8a6-72cc-4ab8-fda2-b91a116abdbf"
      },
      "source": [
        "evaluate_triangle_shape()"
      ],
      "execution_count": 25,
      "outputs": [
        {
          "output_type": "stream",
          "text": [
            "Please enter the lenght of each side of a triangle as 3 whole numbers separated by a space: 5 3 5\n",
            "isosceles\n"
          ],
          "name": "stdout"
        }
      ]
    },
    {
      "cell_type": "markdown",
      "metadata": {
        "id": "hr2EotkqG33l"
      },
      "source": [
        "---\n",
        "### Challenge 3 - which season\n",
        "\n",
        "Write a function called **determine_season()** which will ask the user to enter two integers representing a **month** and **day** and prints the season for that month and day.\n",
        "\n",
        "Note:  for this exercise the season dates are:\n",
        "*  Winter December 21 to March 20    \n",
        "*  Spring March 21 to June 20  \n",
        "*  Summer June 21 to September 20  \n",
        "*  Autumn September 21 to December 20\n",
        "\n",
        "Test input:  \n",
        "Input the month (e.g. January, February etc.): 7                     \n",
        "Input the day: 31                                                       \n",
        "\n",
        "Expected output:  \n",
        "Season is summer \n",
        "\n",
        "*Note: this will require multiple and or or operators and you should use brackets to help Python know which operations to do first*  \n",
        "\n",
        "*For an extra challenge you can check that the day is valid for the month*"
      ]
    },
    {
      "cell_type": "code",
      "metadata": {
        "id": "cvbfz8nzG4IL",
        "colab": {
          "base_uri": "https://localhost:8080/"
        },
        "outputId": "cd377874-a6d9-49cd-b3f5-c816a5e7141f"
      },
      "source": [
        "def determine_season():\n",
        "  month = int(input('please enter an integer representing a month, between 1 and 12: '))\n",
        "  day = int(input('please enter an integer representing a month, between 1 and 31: '))\n",
        "  if month < 3:\n",
        "    s = 'Winter'\n",
        "  elif month  == 3:\n",
        "    if day <= 20:\n",
        "      s = 'Winter'\n",
        "    else:\n",
        "      s = 'Spring'\n",
        "  elif month > 3 and month < 6:\n",
        "    s = 'Spring'\n",
        "  elif month == 6:\n",
        "    if day <= 20:\n",
        "      s = 'Spring'\n",
        "    elif day >20 and day <=30:\n",
        "      s = 'Summer'\n",
        "    else:\n",
        "      print('this date does not exist')\n",
        "  elif month > 6 and month < 9:\n",
        "    s = 'Summer'\n",
        "  elif month == 9:\n",
        "    if day <= 20:\n",
        "      s = 'Summer'\n",
        "    elif day >20 and day <=30:\n",
        "      s = 'Autumn'\n",
        "    else:\n",
        "      print('this date does not exist')\n",
        "  elif month > 9 and month < 12:\n",
        "    s = 'Autumn'\n",
        "  elif month == 12:\n",
        "    if day <= 20:\n",
        "      s = 'Autumn'\n",
        "    elif day >20 and day <=30:\n",
        "      s = 'Winter'\n",
        "  print(s)\n",
        "\n",
        "determine_season()"
      ],
      "execution_count": 60,
      "outputs": [
        {
          "output_type": "stream",
          "text": [
            "please enter an integer representing a month, between 1 and 12: 7\n",
            "please enter an integer representing a month, between 1 and 31: 31\n",
            "Summer\n"
          ],
          "name": "stdout"
        }
      ]
    }
  ]
}