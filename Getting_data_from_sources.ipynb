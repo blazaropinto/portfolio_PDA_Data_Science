{
  "nbformat": 4,
  "nbformat_minor": 0,
  "metadata": {
    "colab": {
      "name": "Getting_data_from_sources.ipynb",
      "provenance": [],
      "authorship_tag": "ABX9TyPhqyJQRi8Mqtae2MWp6+4J",
      "include_colab_link": true
    },
    "kernelspec": {
      "name": "python3",
      "display_name": "Python 3"
    },
    "language_info": {
      "name": "python"
    }
  },
  "cells": [
    {
      "cell_type": "markdown",
      "metadata": {
        "id": "view-in-github",
        "colab_type": "text"
      },
      "source": [
        "<a href=\"https://colab.research.google.com/github/blazaropinto/portfolio_PDA_Data_Science/blob/development/Getting_data_from_sources.ipynb\" target=\"_parent\"><img src=\"https://colab.research.google.com/assets/colab-badge.svg\" alt=\"Open In Colab\"/></a>"
      ]
    },
    {
      "cell_type": "markdown",
      "metadata": {
        "id": "1-mkmZKkIK6O"
      },
      "source": [
        "# Getting data from a range of sources\n",
        "\n",
        "Examples of data being retrieved from different sources"
      ]
    },
    {
      "cell_type": "markdown",
      "metadata": {
        "id": "a_ewU932LIO-"
      },
      "source": [
        "## From a web page\n",
        "---\n",
        "\n",
        "The code below reads all the data tables from the Wikipedia page on Glasgow.  The 8th table on the page shows population data over a period of centuries.\n",
        "\n",
        "The code reads the data from the page into a list of datatables.  The index [7] is used to access the 8th table in the list.  Change the index to see other data tables.  Use len(datatables) to find out how many tables are in the list."
      ]
    },
    {
      "cell_type": "code",
      "metadata": {
        "id": "uAV9q4J3t-zy",
        "colab": {
          "base_uri": "https://localhost:8080/",
          "height": 202
        },
        "outputId": "29fa1450-545c-48d5-cfcb-ea42ee5da1de"
      },
      "source": [
        "import pandas as pd\n",
        "datatables = pd.read_html('https://en.wikipedia.org/wiki/Glasgow#Climate')\n",
        "df = datatables[7]  # Glasgow population data\n",
        "df.columns = [df.iloc[1, col] for col in range(5)]\n",
        "df.drop(df.index[[0,1]], inplace=True)\n",
        "df.head()"
      ],
      "execution_count": 1,
      "outputs": [
        {
          "output_type": "execute_result",
          "data": {
            "text/html": [
              "<div>\n",
              "<style scoped>\n",
              "    .dataframe tbody tr th:only-of-type {\n",
              "        vertical-align: middle;\n",
              "    }\n",
              "\n",
              "    .dataframe tbody tr th {\n",
              "        vertical-align: top;\n",
              "    }\n",
              "\n",
              "    .dataframe thead th {\n",
              "        text-align: right;\n",
              "    }\n",
              "</style>\n",
              "<table border=\"1\" class=\"dataframe\">\n",
              "  <thead>\n",
              "    <tr style=\"text-align: right;\">\n",
              "      <th></th>\n",
              "      <th>Year[78]</th>\n",
              "      <th>Population</th>\n",
              "      <th>Area (km2)</th>\n",
              "      <th>Density (inhabitants/km2)</th>\n",
              "      <th>Area changes</th>\n",
              "    </tr>\n",
              "  </thead>\n",
              "  <tbody>\n",
              "    <tr>\n",
              "      <th>2</th>\n",
              "      <td>1300</td>\n",
              "      <td>1500</td>\n",
              "      <td>-[79]</td>\n",
              "      <td>–</td>\n",
              "      <td>Initial</td>\n",
              "    </tr>\n",
              "    <tr>\n",
              "      <th>3</th>\n",
              "      <td>1600</td>\n",
              "      <td>7000</td>\n",
              "      <td>–</td>\n",
              "      <td>–</td>\n",
              "      <td>Unknown</td>\n",
              "    </tr>\n",
              "    <tr>\n",
              "      <th>4</th>\n",
              "      <td>1791</td>\n",
              "      <td>66000</td>\n",
              "      <td>7.16</td>\n",
              "      <td>9217</td>\n",
              "      <td>Anderson to James Street/West Nile Street to C...</td>\n",
              "    </tr>\n",
              "    <tr>\n",
              "      <th>5</th>\n",
              "      <td>1831</td>\n",
              "      <td>202426</td>\n",
              "      <td>8.83</td>\n",
              "      <td>22924</td>\n",
              "      <td>Necropolis and Blythswood</td>\n",
              "    </tr>\n",
              "    <tr>\n",
              "      <th>6</th>\n",
              "      <td>1846</td>\n",
              "      <td>280000</td>\n",
              "      <td>23.44</td>\n",
              "      <td>11945</td>\n",
              "      <td>Burghs of Anderston and Calton/Barony of Gorbals</td>\n",
              "    </tr>\n",
              "  </tbody>\n",
              "</table>\n",
              "</div>"
            ],
            "text/plain": [
              "  Year[78]  ...                                       Area changes\n",
              "2     1300  ...                                            Initial\n",
              "3     1600  ...                                            Unknown\n",
              "4     1791  ...  Anderson to James Street/West Nile Street to C...\n",
              "5     1831  ...                          Necropolis and Blythswood\n",
              "6     1846  ...   Burghs of Anderston and Calton/Barony of Gorbals\n",
              "\n",
              "[5 rows x 5 columns]"
            ]
          },
          "metadata": {
            "tags": []
          },
          "execution_count": 1
        }
      ]
    },
    {
      "cell_type": "code",
      "metadata": {
        "colab": {
          "base_uri": "https://localhost:8080/"
        },
        "id": "CjpmNxYJS8RC",
        "outputId": "63df0873-2b09-40c6-b59e-3e3eecacbfe7"
      },
      "source": [
        "print('There are', len(datatables), 'tables in this web page')"
      ],
      "execution_count": 2,
      "outputs": [
        {
          "output_type": "stream",
          "text": [
            "There are 25 tables in this web page\n"
          ],
          "name": "stdout"
        }
      ]
    },
    {
      "cell_type": "markdown",
      "metadata": {
        "id": "I9m4HHb3Loxe"
      },
      "source": [
        "## From a csv file hosted on Github.com\n",
        "---\n",
        "\n",
        "The code below reads the data table stored in a Comma Separated Values file (this is a text file containing rows of data with each column within the row separated from the next column by a comma).  \n",
        "\n",
        "If you were using Jupyter Notebooks on your device, the url could be replaced with the path to the CSV file."
      ]
    },
    {
      "cell_type": "code",
      "metadata": {
        "id": "4mVk6FwZ-XZu",
        "colab": {
          "base_uri": "https://localhost:8080/",
          "height": 202
        },
        "outputId": "12701577-aabc-4ed4-8be6-6d58d46acbba"
      },
      "source": [
        "import pandas as pd\n",
        "url = \"https://raw.githubusercontent.com/futureCodersSE/working-with-data/main/Data%20sets/Paisley-Weather-Data.csv\"\n",
        "df = pd.read_csv(url)\n",
        "df.head()"
      ],
      "execution_count": 3,
      "outputs": [
        {
          "output_type": "execute_result",
          "data": {
            "text/html": [
              "<div>\n",
              "<style scoped>\n",
              "    .dataframe tbody tr th:only-of-type {\n",
              "        vertical-align: middle;\n",
              "    }\n",
              "\n",
              "    .dataframe tbody tr th {\n",
              "        vertical-align: top;\n",
              "    }\n",
              "\n",
              "    .dataframe thead th {\n",
              "        text-align: right;\n",
              "    }\n",
              "</style>\n",
              "<table border=\"1\" class=\"dataframe\">\n",
              "  <thead>\n",
              "    <tr style=\"text-align: right;\">\n",
              "      <th></th>\n",
              "      <th>yyyy</th>\n",
              "      <th>mm</th>\n",
              "      <th>tmax (degC)</th>\n",
              "      <th>tmin (degC)</th>\n",
              "      <th>af (days)</th>\n",
              "      <th>rain (mm)</th>\n",
              "      <th>sun (hours)</th>\n",
              "      <th>status</th>\n",
              "    </tr>\n",
              "  </thead>\n",
              "  <tbody>\n",
              "    <tr>\n",
              "      <th>0</th>\n",
              "      <td>1959</td>\n",
              "      <td>1</td>\n",
              "      <td>4</td>\n",
              "      <td>-2</td>\n",
              "      <td>25</td>\n",
              "      <td>40.9</td>\n",
              "      <td>54.1</td>\n",
              "      <td>NaN</td>\n",
              "    </tr>\n",
              "    <tr>\n",
              "      <th>1</th>\n",
              "      <td>1959</td>\n",
              "      <td>2</td>\n",
              "      <td>6.6</td>\n",
              "      <td>2.1</td>\n",
              "      <td>10</td>\n",
              "      <td>41.8</td>\n",
              "      <td>17.8</td>\n",
              "      <td>NaN</td>\n",
              "    </tr>\n",
              "    <tr>\n",
              "      <th>2</th>\n",
              "      <td>1959</td>\n",
              "      <td>3</td>\n",
              "      <td>10.6</td>\n",
              "      <td>4.2</td>\n",
              "      <td>0</td>\n",
              "      <td>50.9</td>\n",
              "      <td>85.7</td>\n",
              "      <td>NaN</td>\n",
              "    </tr>\n",
              "    <tr>\n",
              "      <th>3</th>\n",
              "      <td>1959</td>\n",
              "      <td>4</td>\n",
              "      <td>13</td>\n",
              "      <td>5.2</td>\n",
              "      <td>0</td>\n",
              "      <td>76.3</td>\n",
              "      <td>125.1</td>\n",
              "      <td>NaN</td>\n",
              "    </tr>\n",
              "    <tr>\n",
              "      <th>4</th>\n",
              "      <td>1959</td>\n",
              "      <td>5</td>\n",
              "      <td>18.1</td>\n",
              "      <td>7.9</td>\n",
              "      <td>0</td>\n",
              "      <td>24</td>\n",
              "      <td>222</td>\n",
              "      <td>NaN</td>\n",
              "    </tr>\n",
              "  </tbody>\n",
              "</table>\n",
              "</div>"
            ],
            "text/plain": [
              "   yyyy  mm tmax (degC) tmin (degC) af (days) rain (mm) sun (hours) status\n",
              "0  1959   1           4          -2        25      40.9        54.1    NaN\n",
              "1  1959   2         6.6         2.1        10      41.8        17.8    NaN\n",
              "2  1959   3        10.6         4.2         0      50.9        85.7    NaN\n",
              "3  1959   4          13         5.2         0      76.3       125.1    NaN\n",
              "4  1959   5        18.1         7.9         0        24         222    NaN"
            ]
          },
          "metadata": {
            "tags": []
          },
          "execution_count": 3
        }
      ]
    },
    {
      "cell_type": "markdown",
      "metadata": {
        "id": "uVBfyjCQMVvA"
      },
      "source": [
        "## From an Excel file hosted on Github.com\n",
        "---\n",
        "\n",
        "The code below reads the data table from a sheet in an Excel file.  If you don't specify a sheet then it will assume that you want to read the data from the first sheet in the Excel workbook (sheet_name = 0).  If you don't know the sheet name but know it is the second sheet, you can use sheet_name = 1, or 2 for the third sheet, etc.\n",
        "\n",
        "If you were using Jupyter Notebooks on your device, the url could be replace with the path to the Excel file."
      ]
    },
    {
      "cell_type": "code",
      "metadata": {
        "id": "Att2-4UtBAhW",
        "colab": {
          "base_uri": "https://localhost:8080/",
          "height": 472
        },
        "outputId": "3898011e-27ab-4e5c-8f77-15ee2166ea62"
      },
      "source": [
        "import pandas as pd\n",
        "url = \"https://github.com/futureCodersSE/working-with-data/blob/main/Data%20sets/public_use-talent-migration.xlsx?raw=true\"\n",
        "df = pd.read_excel(url,sheet_name=\"Industry Migration\")\n",
        "df.head()"
      ],
      "execution_count": 4,
      "outputs": [
        {
          "output_type": "execute_result",
          "data": {
            "text/html": [
              "<div>\n",
              "<style scoped>\n",
              "    .dataframe tbody tr th:only-of-type {\n",
              "        vertical-align: middle;\n",
              "    }\n",
              "\n",
              "    .dataframe tbody tr th {\n",
              "        vertical-align: top;\n",
              "    }\n",
              "\n",
              "    .dataframe thead th {\n",
              "        text-align: right;\n",
              "    }\n",
              "</style>\n",
              "<table border=\"1\" class=\"dataframe\">\n",
              "  <thead>\n",
              "    <tr style=\"text-align: right;\">\n",
              "      <th></th>\n",
              "      <th>country_code</th>\n",
              "      <th>country_name</th>\n",
              "      <th>wb_income</th>\n",
              "      <th>wb_region</th>\n",
              "      <th>isic_section_index</th>\n",
              "      <th>isic_section_name</th>\n",
              "      <th>industry_id</th>\n",
              "      <th>industry_name</th>\n",
              "      <th>net_per_10K_2015</th>\n",
              "      <th>net_per_10K_2016</th>\n",
              "      <th>net_per_10K_2017</th>\n",
              "      <th>net_per_10K_2018</th>\n",
              "      <th>net_per_10K_2019</th>\n",
              "    </tr>\n",
              "  </thead>\n",
              "  <tbody>\n",
              "    <tr>\n",
              "      <th>0</th>\n",
              "      <td>ae</td>\n",
              "      <td>United Arab Emirates</td>\n",
              "      <td>High income</td>\n",
              "      <td>Middle East &amp; North Africa</td>\n",
              "      <td>C</td>\n",
              "      <td>Manufacturing</td>\n",
              "      <td>1</td>\n",
              "      <td>Defense &amp; Space</td>\n",
              "      <td>378.74</td>\n",
              "      <td>127.94</td>\n",
              "      <td>8.20</td>\n",
              "      <td>68.51</td>\n",
              "      <td>49.55</td>\n",
              "    </tr>\n",
              "    <tr>\n",
              "      <th>1</th>\n",
              "      <td>ae</td>\n",
              "      <td>United Arab Emirates</td>\n",
              "      <td>High income</td>\n",
              "      <td>Middle East &amp; North Africa</td>\n",
              "      <td>J</td>\n",
              "      <td>Information and communication</td>\n",
              "      <td>3</td>\n",
              "      <td>Computer Hardware</td>\n",
              "      <td>100.97</td>\n",
              "      <td>358.14</td>\n",
              "      <td>112.98</td>\n",
              "      <td>149.57</td>\n",
              "      <td>182.22</td>\n",
              "    </tr>\n",
              "    <tr>\n",
              "      <th>2</th>\n",
              "      <td>ae</td>\n",
              "      <td>United Arab Emirates</td>\n",
              "      <td>High income</td>\n",
              "      <td>Middle East &amp; North Africa</td>\n",
              "      <td>J</td>\n",
              "      <td>Information and communication</td>\n",
              "      <td>4</td>\n",
              "      <td>Computer Software</td>\n",
              "      <td>1079.36</td>\n",
              "      <td>848.15</td>\n",
              "      <td>596.48</td>\n",
              "      <td>409.18</td>\n",
              "      <td>407.41</td>\n",
              "    </tr>\n",
              "    <tr>\n",
              "      <th>3</th>\n",
              "      <td>ae</td>\n",
              "      <td>United Arab Emirates</td>\n",
              "      <td>High income</td>\n",
              "      <td>Middle East &amp; North Africa</td>\n",
              "      <td>J</td>\n",
              "      <td>Information and communication</td>\n",
              "      <td>5</td>\n",
              "      <td>Computer Networking</td>\n",
              "      <td>401.46</td>\n",
              "      <td>447.39</td>\n",
              "      <td>163.99</td>\n",
              "      <td>236.69</td>\n",
              "      <td>188.07</td>\n",
              "    </tr>\n",
              "    <tr>\n",
              "      <th>4</th>\n",
              "      <td>ae</td>\n",
              "      <td>United Arab Emirates</td>\n",
              "      <td>High income</td>\n",
              "      <td>Middle East &amp; North Africa</td>\n",
              "      <td>J</td>\n",
              "      <td>Information and communication</td>\n",
              "      <td>6</td>\n",
              "      <td>Internet</td>\n",
              "      <td>1840.33</td>\n",
              "      <td>1368.42</td>\n",
              "      <td>877.71</td>\n",
              "      <td>852.39</td>\n",
              "      <td>519.40</td>\n",
              "    </tr>\n",
              "  </tbody>\n",
              "</table>\n",
              "</div>"
            ],
            "text/plain": [
              "  country_code          country_name  ... net_per_10K_2018 net_per_10K_2019\n",
              "0           ae  United Arab Emirates  ...            68.51            49.55\n",
              "1           ae  United Arab Emirates  ...           149.57           182.22\n",
              "2           ae  United Arab Emirates  ...           409.18           407.41\n",
              "3           ae  United Arab Emirates  ...           236.69           188.07\n",
              "4           ae  United Arab Emirates  ...           852.39           519.40\n",
              "\n",
              "[5 rows x 13 columns]"
            ]
          },
          "metadata": {
            "tags": []
          },
          "execution_count": 4
        }
      ]
    },
    {
      "cell_type": "markdown",
      "metadata": {
        "id": "3NQA3HFJOT8X"
      },
      "source": [
        "## From an API which delivers the data in JSON format\n",
        "---\n",
        "\n",
        "The code below requests the data from the url.  This is a bit more tricky than the other ways to get the data as how you access the data will depend on how it is organised.\n",
        "\n",
        "In this example, the data is returned as a dictionary, which will have the key 'data' against which the actual data is stored.  In the example, the data has been taken from the 'data' key/value pair and is stored in json_data. \n",
        "\n",
        "Again, in this example, the json_data is a list of json_objects but it only has one object in the list.  Try adding the line `print(json_data)` to see this.  \n",
        "\n",
        "data_table is the first object in the json_data list.  Try adding the line `print(data_table)` to see this.\n",
        "\n",
        "In this example, the data table object has three keys, 'to', 'from' and 'regions'.  The 'regions' value is the data we want to use in our dataframe, so we normalize this json data into a pandas dataframe (df), which you can see as the output.  \n",
        "\n",
        "Each API is likely to deliver its data in a different format and so you will need to be happy to read the documentation and to inspect the data to see what keys and indexes you need to access.\n",
        "\n",
        "For information on the format of the data, see https://carbon-intensity.github.io/api-definitions/#regional"
      ]
    },
    {
      "cell_type": "code",
      "metadata": {
        "id": "7uEDgTjJFYiZ",
        "colab": {
          "base_uri": "https://localhost:8080/"
        },
        "outputId": "a3726e9e-ae2e-467b-858a-8c2bc55e3495"
      },
      "source": [
        "import requests\n",
        "\n",
        "url = \"https://api.carbonintensity.org.uk/regional\"\n",
        "json_data = requests.get(url).json()['data']\n",
        "print(json_data)"
      ],
      "execution_count": 5,
      "outputs": [
        {
          "output_type": "stream",
          "text": [
            "[{'from': '2021-06-10T09:00Z', 'to': '2021-06-10T09:30Z', 'regions': [{'regionid': 1, 'dnoregion': 'Scottish Hydro Electric Power Distribution', 'shortname': 'North Scotland', 'intensity': {'forecast': 0, 'index': 'very low'}, 'generationmix': [{'fuel': 'biomass', 'perc': 0}, {'fuel': 'coal', 'perc': 0}, {'fuel': 'imports', 'perc': 0}, {'fuel': 'gas', 'perc': 0}, {'fuel': 'nuclear', 'perc': 0}, {'fuel': 'other', 'perc': 0}, {'fuel': 'hydro', 'perc': 6.9}, {'fuel': 'solar', 'perc': 0}, {'fuel': 'wind', 'perc': 93.1}]}, {'regionid': 2, 'dnoregion': 'SP Distribution', 'shortname': 'South Scotland', 'intensity': {'forecast': 26, 'index': 'very low'}, 'generationmix': [{'fuel': 'biomass', 'perc': 1.2}, {'fuel': 'coal', 'perc': 0}, {'fuel': 'imports', 'perc': 5.1}, {'fuel': 'gas', 'perc': 1.7}, {'fuel': 'nuclear', 'perc': 27.2}, {'fuel': 'other', 'perc': 0}, {'fuel': 'hydro', 'perc': 1.9}, {'fuel': 'solar', 'perc': 1.4}, {'fuel': 'wind', 'perc': 61.6}]}, {'regionid': 3, 'dnoregion': 'Electricity North West', 'shortname': 'North West England', 'intensity': {'forecast': 47, 'index': 'very low'}, 'generationmix': [{'fuel': 'biomass', 'perc': 1.7}, {'fuel': 'coal', 'perc': 0}, {'fuel': 'imports', 'perc': 1.8}, {'fuel': 'gas', 'perc': 9.9}, {'fuel': 'nuclear', 'perc': 45.7}, {'fuel': 'other', 'perc': 0}, {'fuel': 'hydro', 'perc': 0.7}, {'fuel': 'solar', 'perc': 1.8}, {'fuel': 'wind', 'perc': 38.5}]}, {'regionid': 4, 'dnoregion': 'NPG North East', 'shortname': 'North East England', 'intensity': {'forecast': 21, 'index': 'very low'}, 'generationmix': [{'fuel': 'biomass', 'perc': 9.1}, {'fuel': 'coal', 'perc': 0}, {'fuel': 'imports', 'perc': 2.2}, {'fuel': 'gas', 'perc': 0.8}, {'fuel': 'nuclear', 'perc': 52.5}, {'fuel': 'other', 'perc': 0}, {'fuel': 'hydro', 'perc': 0.8}, {'fuel': 'solar', 'perc': 3.7}, {'fuel': 'wind', 'perc': 30.9}]}, {'regionid': 5, 'dnoregion': 'NPG Yorkshire', 'shortname': 'Yorkshire', 'intensity': {'forecast': 222, 'index': 'moderate'}, 'generationmix': [{'fuel': 'biomass', 'perc': 41.5}, {'fuel': 'coal', 'perc': 0}, {'fuel': 'imports', 'perc': 0.2}, {'fuel': 'gas', 'perc': 43.6}, {'fuel': 'nuclear', 'perc': 4}, {'fuel': 'other', 'perc': 0}, {'fuel': 'hydro', 'perc': 0.1}, {'fuel': 'solar', 'perc': 2.9}, {'fuel': 'wind', 'perc': 7.8}]}, {'regionid': 6, 'dnoregion': 'SP Manweb', 'shortname': 'North Wales & Merseyside', 'intensity': {'forecast': 48, 'index': 'very low'}, 'generationmix': [{'fuel': 'biomass', 'perc': 1}, {'fuel': 'coal', 'perc': 0}, {'fuel': 'imports', 'perc': 2.4}, {'fuel': 'gas', 'perc': 9.7}, {'fuel': 'nuclear', 'perc': 24.9}, {'fuel': 'other', 'perc': 0}, {'fuel': 'hydro', 'perc': 8}, {'fuel': 'solar', 'perc': 8.9}, {'fuel': 'wind', 'perc': 45.1}]}, {'regionid': 7, 'dnoregion': 'WPD South Wales', 'shortname': 'South Wales', 'intensity': {'forecast': 345, 'index': 'high'}, 'generationmix': [{'fuel': 'biomass', 'perc': 0}, {'fuel': 'coal', 'perc': 0}, {'fuel': 'imports', 'perc': 0}, {'fuel': 'gas', 'perc': 87.6}, {'fuel': 'nuclear', 'perc': 0}, {'fuel': 'other', 'perc': 0}, {'fuel': 'hydro', 'perc': 0}, {'fuel': 'solar', 'perc': 4.3}, {'fuel': 'wind', 'perc': 8.1}]}, {'regionid': 8, 'dnoregion': 'WPD West Midlands', 'shortname': 'West Midlands', 'intensity': {'forecast': 131, 'index': 'low'}, 'generationmix': [{'fuel': 'biomass', 'perc': 4.6}, {'fuel': 'coal', 'perc': 0}, {'fuel': 'imports', 'perc': 1.8}, {'fuel': 'gas', 'perc': 30.6}, {'fuel': 'nuclear', 'perc': 24.1}, {'fuel': 'other', 'perc': 0}, {'fuel': 'hydro', 'perc': 2.1}, {'fuel': 'solar', 'perc': 8.2}, {'fuel': 'wind', 'perc': 28.6}]}, {'regionid': 9, 'dnoregion': 'WPD East Midlands', 'shortname': 'East Midlands', 'intensity': {'forecast': 247, 'index': 'moderate'}, 'generationmix': [{'fuel': 'biomass', 'perc': 21.9}, {'fuel': 'coal', 'perc': 0}, {'fuel': 'imports', 'perc': 0.1}, {'fuel': 'gas', 'perc': 56}, {'fuel': 'nuclear', 'perc': 2.1}, {'fuel': 'other', 'perc': 0}, {'fuel': 'hydro', 'perc': 0}, {'fuel': 'solar', 'perc': 10.1}, {'fuel': 'wind', 'perc': 9.8}]}, {'regionid': 10, 'dnoregion': 'UKPN East', 'shortname': 'East England', 'intensity': {'forecast': 161, 'index': 'moderate'}, 'generationmix': [{'fuel': 'biomass', 'perc': 6.3}, {'fuel': 'coal', 'perc': 0}, {'fuel': 'imports', 'perc': 18.7}, {'fuel': 'gas', 'perc': 36.8}, {'fuel': 'nuclear', 'perc': 0.5}, {'fuel': 'other', 'perc': 0}, {'fuel': 'hydro', 'perc': 0.1}, {'fuel': 'solar', 'perc': 25.4}, {'fuel': 'wind', 'perc': 12.3}]}, {'regionid': 11, 'dnoregion': 'WPD South West', 'shortname': 'South West England', 'intensity': {'forecast': 137, 'index': 'low'}, 'generationmix': [{'fuel': 'biomass', 'perc': 0}, {'fuel': 'coal', 'perc': 0}, {'fuel': 'imports', 'perc': 0}, {'fuel': 'gas', 'perc': 34.8}, {'fuel': 'nuclear', 'perc': 47.3}, {'fuel': 'other', 'perc': 0}, {'fuel': 'hydro', 'perc': 0}, {'fuel': 'solar', 'perc': 15.9}, {'fuel': 'wind', 'perc': 2}]}, {'regionid': 12, 'dnoregion': 'SSE South', 'shortname': 'South England', 'intensity': {'forecast': 251, 'index': 'moderate'}, 'generationmix': [{'fuel': 'biomass', 'perc': 1.9}, {'fuel': 'coal', 'perc': 0}, {'fuel': 'imports', 'perc': 13.9}, {'fuel': 'gas', 'perc': 61.6}, {'fuel': 'nuclear', 'perc': 6.7}, {'fuel': 'other', 'perc': 0}, {'fuel': 'hydro', 'perc': 0}, {'fuel': 'solar', 'perc': 14.4}, {'fuel': 'wind', 'perc': 1.5}]}, {'regionid': 13, 'dnoregion': 'UKPN London', 'shortname': 'London', 'intensity': {'forecast': 134, 'index': 'low'}, 'generationmix': [{'fuel': 'biomass', 'perc': 0.2}, {'fuel': 'coal', 'perc': 0}, {'fuel': 'imports', 'perc': 64.9}, {'fuel': 'gas', 'perc': 26.7}, {'fuel': 'nuclear', 'perc': 0.7}, {'fuel': 'other', 'perc': 0}, {'fuel': 'hydro', 'perc': 0.2}, {'fuel': 'solar', 'perc': 5.9}, {'fuel': 'wind', 'perc': 1.4}]}, {'regionid': 14, 'dnoregion': 'UKPN South East', 'shortname': 'South East England', 'intensity': {'forecast': 120, 'index': 'low'}, 'generationmix': [{'fuel': 'biomass', 'perc': 0}, {'fuel': 'coal', 'perc': 0}, {'fuel': 'imports', 'perc': 71.1}, {'fuel': 'gas', 'perc': 22.4}, {'fuel': 'nuclear', 'perc': 0}, {'fuel': 'other', 'perc': 0}, {'fuel': 'hydro', 'perc': 0.2}, {'fuel': 'solar', 'perc': 4.9}, {'fuel': 'wind', 'perc': 1.3}]}, {'regionid': 15, 'dnoregion': 'England', 'shortname': 'England', 'intensity': {'forecast': 155, 'index': 'low'}, 'generationmix': [{'fuel': 'biomass', 'perc': 9.3}, {'fuel': 'coal', 'perc': 0}, {'fuel': 'imports', 'perc': 12.4}, {'fuel': 'gas', 'perc': 34.6}, {'fuel': 'nuclear', 'perc': 17.1}, {'fuel': 'other', 'perc': 0}, {'fuel': 'hydro', 'perc': 0.8}, {'fuel': 'solar', 'perc': 9.8}, {'fuel': 'wind', 'perc': 16.1}]}, {'regionid': 16, 'dnoregion': 'Scotland', 'shortname': 'Scotland', 'intensity': {'forecast': 23, 'index': 'very low'}, 'generationmix': [{'fuel': 'biomass', 'perc': 1}, {'fuel': 'coal', 'perc': 0}, {'fuel': 'imports', 'perc': 4.4}, {'fuel': 'gas', 'perc': 1.8}, {'fuel': 'nuclear', 'perc': 23.5}, {'fuel': 'other', 'perc': 0}, {'fuel': 'hydro', 'perc': 2.9}, {'fuel': 'solar', 'perc': 1.2}, {'fuel': 'wind', 'perc': 65.2}]}, {'regionid': 17, 'dnoregion': 'Wales', 'shortname': 'Wales', 'intensity': {'forecast': 195, 'index': 'moderate'}, 'generationmix': [{'fuel': 'biomass', 'perc': 0.3}, {'fuel': 'coal', 'perc': 0}, {'fuel': 'imports', 'perc': 1.4}, {'fuel': 'gas', 'perc': 48.1}, {'fuel': 'nuclear', 'perc': 7.6}, {'fuel': 'other', 'perc': 0}, {'fuel': 'hydro', 'perc': 6.3}, {'fuel': 'solar', 'perc': 4.3}, {'fuel': 'wind', 'perc': 32}]}, {'regionid': 18, 'dnoregion': 'GB', 'shortname': 'GB', 'intensity': {'forecast': 142, 'index': 'low'}, 'generationmix': [{'fuel': 'biomass', 'perc': 7.8}, {'fuel': 'coal', 'perc': 0}, {'fuel': 'imports', 'perc': 10.8}, {'fuel': 'gas', 'perc': 31.8}, {'fuel': 'nuclear', 'perc': 17.2}, {'fuel': 'other', 'perc': 0}, {'fuel': 'hydro', 'perc': 1.4}, {'fuel': 'solar', 'perc': 8.4}, {'fuel': 'wind', 'perc': 22.6}]}]}]\n"
          ],
          "name": "stdout"
        }
      ]
    },
    {
      "cell_type": "code",
      "metadata": {
        "colab": {
          "base_uri": "https://localhost:8080/",
          "height": 285
        },
        "id": "BXtqVnZU7fuA",
        "outputId": "4b8bfede-3d96-496d-d36c-547fd913a230"
      },
      "source": [
        "data_table = json_data[0]\n",
        "df = pd.json_normalize(data_table['regions'])\n",
        "df.head()"
      ],
      "execution_count": 6,
      "outputs": [
        {
          "output_type": "execute_result",
          "data": {
            "text/html": [
              "<div>\n",
              "<style scoped>\n",
              "    .dataframe tbody tr th:only-of-type {\n",
              "        vertical-align: middle;\n",
              "    }\n",
              "\n",
              "    .dataframe tbody tr th {\n",
              "        vertical-align: top;\n",
              "    }\n",
              "\n",
              "    .dataframe thead th {\n",
              "        text-align: right;\n",
              "    }\n",
              "</style>\n",
              "<table border=\"1\" class=\"dataframe\">\n",
              "  <thead>\n",
              "    <tr style=\"text-align: right;\">\n",
              "      <th></th>\n",
              "      <th>regionid</th>\n",
              "      <th>dnoregion</th>\n",
              "      <th>shortname</th>\n",
              "      <th>generationmix</th>\n",
              "      <th>intensity.forecast</th>\n",
              "      <th>intensity.index</th>\n",
              "    </tr>\n",
              "  </thead>\n",
              "  <tbody>\n",
              "    <tr>\n",
              "      <th>0</th>\n",
              "      <td>1</td>\n",
              "      <td>Scottish Hydro Electric Power Distribution</td>\n",
              "      <td>North Scotland</td>\n",
              "      <td>[{'fuel': 'biomass', 'perc': 0}, {'fuel': 'coa...</td>\n",
              "      <td>0</td>\n",
              "      <td>very low</td>\n",
              "    </tr>\n",
              "    <tr>\n",
              "      <th>1</th>\n",
              "      <td>2</td>\n",
              "      <td>SP Distribution</td>\n",
              "      <td>South Scotland</td>\n",
              "      <td>[{'fuel': 'biomass', 'perc': 1.2}, {'fuel': 'c...</td>\n",
              "      <td>26</td>\n",
              "      <td>very low</td>\n",
              "    </tr>\n",
              "    <tr>\n",
              "      <th>2</th>\n",
              "      <td>3</td>\n",
              "      <td>Electricity North West</td>\n",
              "      <td>North West England</td>\n",
              "      <td>[{'fuel': 'biomass', 'perc': 1.7}, {'fuel': 'c...</td>\n",
              "      <td>47</td>\n",
              "      <td>very low</td>\n",
              "    </tr>\n",
              "    <tr>\n",
              "      <th>3</th>\n",
              "      <td>4</td>\n",
              "      <td>NPG North East</td>\n",
              "      <td>North East England</td>\n",
              "      <td>[{'fuel': 'biomass', 'perc': 9.1}, {'fuel': 'c...</td>\n",
              "      <td>21</td>\n",
              "      <td>very low</td>\n",
              "    </tr>\n",
              "    <tr>\n",
              "      <th>4</th>\n",
              "      <td>5</td>\n",
              "      <td>NPG Yorkshire</td>\n",
              "      <td>Yorkshire</td>\n",
              "      <td>[{'fuel': 'biomass', 'perc': 41.5}, {'fuel': '...</td>\n",
              "      <td>222</td>\n",
              "      <td>moderate</td>\n",
              "    </tr>\n",
              "  </tbody>\n",
              "</table>\n",
              "</div>"
            ],
            "text/plain": [
              "   regionid  ... intensity.index\n",
              "0         1  ...        very low\n",
              "1         2  ...        very low\n",
              "2         3  ...        very low\n",
              "3         4  ...        very low\n",
              "4         5  ...        moderate\n",
              "\n",
              "[5 rows x 6 columns]"
            ]
          },
          "metadata": {
            "tags": []
          },
          "execution_count": 6
        }
      ]
    }
  ]
}