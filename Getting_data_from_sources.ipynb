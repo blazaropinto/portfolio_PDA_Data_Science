{
  "nbformat": 4,
  "nbformat_minor": 0,
  "metadata": {
    "colab": {
      "name": "Getting_data_from_sources.ipynb",
      "provenance": [],
      "authorship_tag": "ABX9TyM4/SERM6X+mwV4SKNgGe/M",
      "include_colab_link": true
    },
    "kernelspec": {
      "name": "python3",
      "display_name": "Python 3"
    },
    "language_info": {
      "name": "python"
    }
  },
  "cells": [
    {
      "cell_type": "markdown",
      "metadata": {
        "id": "view-in-github",
        "colab_type": "text"
      },
      "source": [
        "<a href=\"https://colab.research.google.com/github/blazaropinto/portfolio_PDA_Data_Science/blob/development/Getting_data_from_sources.ipynb\" target=\"_parent\"><img src=\"https://colab.research.google.com/assets/colab-badge.svg\" alt=\"Open In Colab\"/></a>"
      ]
    },
    {
      "cell_type": "markdown",
      "metadata": {
        "id": "1-mkmZKkIK6O"
      },
      "source": [
        "# Getting data from a range of sources"
      ]
    }
  ]
}